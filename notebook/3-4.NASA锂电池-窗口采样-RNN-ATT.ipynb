{
 "cells": [
  {
   "cell_type": "markdown",
   "id": "e27846ee-b619-4786-8889-6a2fd629ac0d",
   "metadata": {
    "editable": true,
    "slideshow": {
     "slide_type": ""
    },
    "tags": []
   },
   "source": [
    "# 深度学习模型\n",
    "特征：\n",
    "1. 滑动窗口采样\n",
    "设置windows size，采样前k个step预测下一个\n",
    "\n",
    "2. 滑动窗口平均采样\n",
    "\n",
    "模型：\n",
    "1. MLP\n",
    "2. CNN\n",
    "3. LSTM\n",
    "4. RCNN\n",
    "5. RWKV\n",
    "\n",
    "todo：\n",
    "1. 加入额外特征embedding"
   ]
  },
  {
   "cell_type": "code",
   "execution_count": 1,
   "id": "59e7cbe5-0c9f-4fe5-b87d-74ef99cd203d",
   "metadata": {
    "editable": true,
    "slideshow": {
     "slide_type": ""
    },
    "tags": []
   },
   "outputs": [],
   "source": [
    "import pandas as pd\n",
    "import numpy as np\n",
    "import random\n",
    "import pickle\n",
    "import math\n",
    "import os\n",
    "import scipy.io\n",
    "import matplotlib.pyplot as plt\n",
    "%matplotlib inline\n",
    "\n",
    "from math import sqrt\n",
    "from datetime import datetime\n",
    "from sklearn.metrics import mean_absolute_error\n",
    "from sklearn.metrics import mean_squared_error"
   ]
  },
  {
   "cell_type": "code",
   "execution_count": 2,
   "id": "cfb2f62d-507f-4ca8-9acd-2cb06bdb05b9",
   "metadata": {},
   "outputs": [],
   "source": [
    "from dataclasses import dataclass"
   ]
  },
  {
   "cell_type": "code",
   "execution_count": 3,
   "id": "9d1cb815-f942-4334-a53e-9c8de882652a",
   "metadata": {},
   "outputs": [],
   "source": [
    "import torch"
   ]
  },
  {
   "cell_type": "code",
   "execution_count": 4,
   "id": "709812c4-ecf6-4b86-9afb-1ca98359536f",
   "metadata": {},
   "outputs": [],
   "source": [
    "device = 'cuda:0' if torch.cuda.is_available() else 'cpu'"
   ]
  },
  {
   "cell_type": "code",
   "execution_count": 5,
   "id": "2e714efb-3697-454e-85e4-236f054f2ab7",
   "metadata": {},
   "outputs": [
    {
     "data": {
      "text/plain": [
       "'cuda:0'"
      ]
     },
     "execution_count": 5,
     "metadata": {},
     "output_type": "execute_result"
    }
   ],
   "source": [
    "device"
   ]
  },
  {
   "cell_type": "markdown",
   "id": "be2182e2-1646-416d-8311-e8ce0e7202d9",
   "metadata": {},
   "source": [
    "# 1 读取处理后数据\n",
    "\n",
    "字典数据：\n",
    "```\n",
    "{\n",
    "    'tid':[\n",
    "        [cycle_count],\n",
    "        [battery_life]\n",
    "    ]\n",
    "}\n",
    "```\n",
    "\n",
    "DataFrame数据：\n",
    "```\n",
    "columns = [tid,cycle_count,life]\n",
    "```"
   ]
  },
  {
   "cell_type": "code",
   "execution_count": 6,
   "id": "21e97ff8-4a4f-4bb8-98b5-9d629f659523",
   "metadata": {},
   "outputs": [],
   "source": [
    "bmap = pickle.load(open(\"../data/processed/nasa-li-battery_dict_240906.pkl\",'rb'))"
   ]
  },
  {
   "cell_type": "code",
   "execution_count": 7,
   "id": "680509d4-0b28-4234-bdd5-c30257994f33",
   "metadata": {},
   "outputs": [],
   "source": [
    "# ddf = pd.read_pickle('../data/processed/nasa-li-battery_df_240906.pkl')"
   ]
  },
  {
   "cell_type": "markdown",
   "id": "60e4e71b-f06a-4d29-b1bf-f5b4c936c8dc",
   "metadata": {},
   "source": [
    "# 2 特征采样和评价指标"
   ]
  },
  {
   "cell_type": "markdown",
   "id": "4d9afd20-f032-45c7-be42-acfbc085cb84",
   "metadata": {},
   "source": [
    "## 2.1 特征采样"
   ]
  },
  {
   "cell_type": "code",
   "execution_count": 8,
   "id": "c9bee833-f0a7-4560-8097-3a0fe3e54b32",
   "metadata": {
    "jupyter": {
     "source_hidden": true
    }
   },
   "outputs": [],
   "source": [
    "def build_sequences(text, window_size):\n",
    "    #text:list of capacity\n",
    "    x, y = [],[]\n",
    "    for i in range(len(text) - window_size):\n",
    "        sequence = text[i:i+window_size]\n",
    "        target = text[i+1:i+1+window_size]\n",
    "\n",
    "        x.append(sequence)\n",
    "        y.append(target)\n",
    "        \n",
    "    return np.array(x), np.array(y)\n",
    "\n",
    "\n",
    "# 留一评估：一组数据为测试集，其他所有数据全部拿来训练\n",
    "def get_train_test(data_dict, name, window_size=8, train_ratio=0.):\n",
    "    data_sequence=data_dict[name][1]\n",
    "    train_data, test_data = data_sequence[:window_size+1], data_sequence[window_size+1:]\n",
    "    train_x, train_y = build_sequences(text=train_data, window_size=window_size)\n",
    "    for k, v in data_dict.items():\n",
    "        if k != name:\n",
    "            data_x, data_y = build_sequences(text=v[1], window_size=window_size)\n",
    "            train_x, train_y = np.r_[train_x, data_x], np.r_[train_y, data_y]\n",
    "            \n",
    "    return train_x, train_y, list(train_data), list(test_data)\n",
    "\n",
    "\n",
    "def evaluation(y_test, y_predict):\n",
    "    mae = mean_absolute_error(y_test, y_predict)\n",
    "    mse = mean_squared_error(y_test, y_predict)\n",
    "    rmse = sqrt(mean_squared_error(y_test, y_predict))\n",
    "    return mae, rmse\n",
    "    \n",
    "\n",
    "def relative_error(y_test, y_predict, threshold):\n",
    "    true_re, pred_re = len(y_test), 0\n",
    "    for i in range(len(y_test)-1):\n",
    "        if y_test[i] <= threshold >= y_test[i+1]:\n",
    "            true_re = i - 1\n",
    "            break\n",
    "    for i in range(len(y_predict)-1):\n",
    "        if y_predict[i] <= threshold:\n",
    "            pred_re = i - 1\n",
    "            break\n",
    "    return abs(true_re - pred_re)/true_re"
   ]
  },
  {
   "cell_type": "markdown",
   "id": "96bd959a-4eed-42ce-bf2d-c38251c77c21",
   "metadata": {},
   "source": [
    "## 2.2 训练和评价"
   ]
  },
  {
   "cell_type": "code",
   "execution_count": 9,
   "id": "1d684f80-9ab6-4e1f-943e-4ed74da90eeb",
   "metadata": {},
   "outputs": [],
   "source": [
    "from tqdm import tqdm"
   ]
  },
  {
   "cell_type": "markdown",
   "id": "c09bcfa8-5978-4f44-95c3-8512872d3e5a",
   "metadata": {},
   "source": [
    "### 绘图函数"
   ]
  },
  {
   "cell_type": "code",
   "execution_count": 10,
   "id": "fecf0d44-7749-4d4f-b92c-a4148c9209a8",
   "metadata": {},
   "outputs": [],
   "source": [
    "def plot(name,\n",
    "         real_data, \n",
    "         pred_data):\n",
    "    fig, ax = plt.subplots(1, figsize=(12, 8))\n",
    "\n",
    "    plot_range = [i for i in range(len(real_data))]\n",
    "    \n",
    "    ax.plot(plot_range, real_data, 'b.', label=name)\n",
    "    ax.plot(plot_range, pred_data, 'r.', label='Prediction')\n",
    "    plt.plot([-1,170],[2*0.7, 2*0.7], c='black', lw=1, ls='--')  # 临界点直线\n",
    "    ax.set(xlabel='Discharge cycles', ylabel='Capacity (Ah)', title='Capacity degradation at ambient temperature of 24°C')\n",
    "    plt.legend()"
   ]
  },
  {
   "cell_type": "markdown",
   "id": "3d6cdfbc-9d1b-45f9-a7b1-4c8707a0dd01",
   "metadata": {},
   "source": [
    "# 3 RNN\n",
    "\n",
    "RNN取最后一个step接linear输出。\n",
    "\n",
    "后续可考虑LSTM和attention。"
   ]
  },
  {
   "cell_type": "code",
   "execution_count": 11,
   "id": "b9d5b04f-7766-40e3-a78d-694938f55f08",
   "metadata": {},
   "outputs": [],
   "source": [
    "from typing import List,Dict,Tuple"
   ]
  },
  {
   "cell_type": "code",
   "execution_count": 12,
   "id": "5449a7cd-94d7-43a7-854e-cc361c4fa7d7",
   "metadata": {},
   "outputs": [],
   "source": [
    "from collections import OrderedDict"
   ]
  },
  {
   "cell_type": "code",
   "execution_count": 13,
   "id": "5ff89896-2871-401a-801a-e40de52184eb",
   "metadata": {},
   "outputs": [],
   "source": [
    "import torch"
   ]
  },
  {
   "cell_type": "code",
   "execution_count": 14,
   "id": "28f226ee-19c4-41c6-a2d6-d373d08e45d5",
   "metadata": {},
   "outputs": [],
   "source": [
    "class NASALiBatteryDataset(torch.utils.data.Dataset):\n",
    "    def __init__(self, \n",
    "                 fpath:str,\n",
    "                ):\n",
    "        \n",
    "        x_lst,y_lst = [],[]\n",
    "        self.data_dict = pickle.load(open(fpath,'rb'))\n",
    "        for name in self.data_dict.keys():\n",
    "            train_x, train_y, train_data, test_data = get_train_test(self.data_dict, name, window_size)\n",
    "            real_train_y = np.expand_dims(train_y[:,-1],-1)\n",
    "            x_lst.append(train_x)\n",
    "            y_lst.append(real_train_y)\n",
    "        self.train_x = np.vstack(x_lst)\n",
    "        self.train_y = np.vstack(y_lst)\n",
    "        \n",
    "    def __len__(self):\n",
    "        return self.train_x.shape[0]\n",
    "        \n",
    "    def __getitem__(self, indices):\n",
    "        \n",
    "        return np.take(self.train_x,axis=0,indices=indices), np.take(self.train_y,axis=0,indices=indices)"
   ]
  },
  {
   "cell_type": "code",
   "execution_count": 15,
   "id": "c00457e3-5ac3-4d37-bd53-27e6eb000353",
   "metadata": {},
   "outputs": [],
   "source": [
    "class BaseModel(torch.nn.Module):\n",
    "\n",
    "    def __init__(self, \n",
    "                 prefix_length:int=1,\n",
    "                 device:str='cpu'):\n",
    "        super(BaseModel, self).__init__()\n",
    "        \n",
    "        self.prefix_length = prefix_length\n",
    "        self.device = device\n",
    "    def __post_init__(self):\n",
    "        self.double()\n",
    "        \n",
    "    def decode(self,\n",
    "               input_x:np.array,\n",
    "               max_length:int):\n",
    "        '''\n",
    "        input_x: List(prefix_length, )\n",
    "        max_length: target decode length\n",
    "        '''\n",
    "        if not self.prefix_length != len(input_x):\n",
    "            assert(f'Error input sequence must be prefix_length shape:{self.prefix_length}')\n",
    "\n",
    "        test_x = input_x\n",
    "        \n",
    "        # decode to target length\n",
    "        for i in range(max_length+1):\n",
    "            online_x = np.array(test_x[-self.prefix_length:])\n",
    "            online_x = torch.tensor(online_x).reshape((1,online_x.shape[0])).double().to(self.device)\n",
    "            test_x += self.forward(online_x).cpu().flatten().detach().numpy().tolist() #测试值加入原来序列用来继续预测下一个点\n",
    "\n",
    "        # list\n",
    "        return test_x\n",
    "        \n",
    "    def forward(self, \n",
    "                x:torch.Tensor):\n",
    "        '''\n",
    "        x: (prefix_length, )\n",
    "        '''\n",
    "        pass"
   ]
  },
  {
   "cell_type": "code",
   "execution_count": 16,
   "id": "2886d724-6d93-4356-ac8f-117010758219",
   "metadata": {},
   "outputs": [],
   "source": [
    "class RNNATTModel(BaseModel):\n",
    "\n",
    "    def __init__(self,\n",
    "                 feature_size:int,\n",
    "                 qk_dim:int,\n",
    "                 v_dim:int,\n",
    "                 model_type:str='rnn',\n",
    "                 num_layers:int=1,\n",
    "                 prefix_length:int=1,\n",
    "                 device:str='cpu'):\n",
    "        super(RNNATTModel, self).__init__(\n",
    "            prefix_length=prefix_length,\n",
    "               device=device\n",
    "        )\n",
    "        self.feature_size = feature_size\n",
    "        self.qk_dim = qk_dim\n",
    "        self.v_dim = v_dim\n",
    "        # 只有一个channel 所以默认input_size和hidden_size为1，没啥需要设置的参数\n",
    "        self.RNNLayer = torch.nn.RNN(input_size=1,\n",
    "                                                hidden_size=self.prefix_length,\n",
    "                                                num_layers=num_layers,\n",
    "                                                batch_first=True,\n",
    "                                                dropout=0.5,\n",
    "                                                bidirectional=False)\n",
    "        if model_type == 'gru':\n",
    "            self.RNNLayer = torch.nn.GRU(input_size=1,\n",
    "                                                hidden_size=self.prefix_length,\n",
    "                                                num_layers=num_layers,\n",
    "                                                batch_first=True,\n",
    "                                                dropout=0.5,\n",
    "                                                bidirectional=False)\n",
    "        elif model_type == 'lstm':\n",
    "            self.RNNLayer = torch.nn.LSTM(input_size=1,\n",
    "                                                hidden_size=self.prefix_length,\n",
    "                                                num_layers=num_layers,\n",
    "                                                batch_first=True,\n",
    "                                                dropout=0.5,\n",
    "                                                bidirectional=False)\n",
    "        \n",
    "        self.wq = torch.nn.Parameter(torch.rand((self.qk_dim,self.feature_size)))\n",
    "        self.wk = torch.nn.Parameter(torch.rand((self.qk_dim,self.feature_size)))\n",
    "        self.wv = torch.nn.Parameter(torch.rand((self.v_dim,self.feature_size)))\n",
    "        \n",
    "        self.OutLinearLayer = torch.nn.Linear(in_features=self.prefix_length,\n",
    "                                              out_features=1)\n",
    "        \n",
    "        self.__post_init__()\n",
    "\n",
    "    def SelfAttention(self,\n",
    "                      x:torch.Tensor):\n",
    "        \n",
    "        kval = x.matmul(self.wk.T)\n",
    "        qval = x.matmul(self.wq.T)\n",
    "        vval = x.matmul(self.wv.T)\n",
    "\n",
    "        omega = qval.matmul(torch.einsum('ijk->ikj',kval))\n",
    "        \n",
    "        omega = omega/np.sqrt(self.qk_dim)\n",
    "        \n",
    "        omega = torch.nn.functional.softmax(omega,1)\n",
    "        \n",
    "        att_out = omega.matmul(vval)\n",
    "        \n",
    "        pool_out = torch.nn.AvgPool1d(kernel_size=self.v_dim)(att_out).squeeze()\n",
    "\n",
    "        return pool_out\n",
    "        \n",
    "    def forward(self,\n",
    "                x:torch.Tensor):\n",
    "        x = x.reshape(x.shape[0],x.shape[1],1)\n",
    "        \n",
    "        out, _ = self.RNNLayer(x)       # out shape: (batch_size, feature_size, hidden_dim)\n",
    "        self_out = self.SelfAttention(out)\n",
    "        y = self.OutLinearLayer(self_out)      # out shape: (batch_size, 1)\n",
    "        \n",
    "        return y"
   ]
  },
  {
   "cell_type": "code",
   "execution_count": null,
   "id": "4903c823-8ecb-42f8-802e-2b7155628e26",
   "metadata": {},
   "outputs": [],
   "source": []
  },
  {
   "cell_type": "code",
   "execution_count": 17,
   "id": "970b48e2-1a09-428a-8a98-27d6abcbe2fb",
   "metadata": {},
   "outputs": [],
   "source": [
    "window_size = 32\n",
    "epoch = 10_00_000\n",
    "learning_rate = 1e-4    # learning rate\n",
    "weight_decay = 0.0\n",
    "feature_size = 32\n",
    "qk_dim = 32\n",
    "v_dim = 16\n",
    "num_layers = 2\n",
    "batch_size = 512\n",
    "model_type = 'lstm'"
   ]
  },
  {
   "cell_type": "code",
   "execution_count": 18,
   "id": "692db3df-e6bd-4b61-bbe5-e0b2e6169da4",
   "metadata": {},
   "outputs": [],
   "source": [
    "eval_step = 1000"
   ]
  },
  {
   "cell_type": "code",
   "execution_count": 19,
   "id": "612a400d-7d52-4d1b-9984-9e58aca7bbf4",
   "metadata": {},
   "outputs": [],
   "source": [
    "data_dict = bmap"
   ]
  },
  {
   "cell_type": "code",
   "execution_count": 20,
   "id": "7e09ad2b-be7a-4278-afef-062136700527",
   "metadata": {},
   "outputs": [],
   "source": [
    "model = RNNATTModel(feature_size=feature_size,\n",
    "                    model_type=model_type,\n",
    "                 qk_dim=qk_dim,\n",
    "                    v_dim=v_dim,\n",
    "                    num_layers=num_layers,\n",
    "                 prefix_length=window_size,\n",
    "                   device=device)"
   ]
  },
  {
   "cell_type": "code",
   "execution_count": 21,
   "id": "fafac68b-f1a2-4aca-806a-661d9d5db9c8",
   "metadata": {
    "scrolled": true
   },
   "outputs": [],
   "source": [
    "optimizer = torch.optim.Adam(model.parameters(), \n",
    "                             lr=learning_rate, \n",
    "                             weight_decay=weight_decay)\n",
    "criterion = torch.nn.MSELoss()"
   ]
  },
  {
   "cell_type": "code",
   "execution_count": 22,
   "id": "5fe6e1e4-4181-4a2d-a313-eadcd969c477",
   "metadata": {},
   "outputs": [
    {
     "data": {
      "text/plain": [
       "RNNATTModel(\n",
       "  (RNNLayer): LSTM(1, 32, num_layers=2, batch_first=True, dropout=0.5)\n",
       "  (OutLinearLayer): Linear(in_features=32, out_features=1, bias=True)\n",
       ")"
      ]
     },
     "execution_count": 22,
     "metadata": {},
     "output_type": "execute_result"
    }
   ],
   "source": [
    "model.to(device)"
   ]
  },
  {
   "cell_type": "code",
   "execution_count": 23,
   "id": "1b5889f4-f18f-4446-a740-b7eba76cf15a",
   "metadata": {},
   "outputs": [],
   "source": [
    "on_test_log = True"
   ]
  },
  {
   "cell_type": "code",
   "execution_count": 24,
   "id": "f22640bc-ae1a-442c-bded-520b4b744e9a",
   "metadata": {},
   "outputs": [],
   "source": [
    "train_dataset = NASALiBatteryDataset(fpath='../data/processed/nasa-li-battery_dict_240906.pkl')"
   ]
  },
  {
   "cell_type": "code",
   "execution_count": 25,
   "id": "bf7f5180-15f5-441f-8fb4-339868c0e63c",
   "metadata": {},
   "outputs": [],
   "source": [
    "train_loader = torch.utils.data.DataLoader(dataset=train_dataset,batch_size=batch_size,shuffle=False)"
   ]
  },
  {
   "cell_type": "code",
   "execution_count": 26,
   "id": "e28b859d-cf74-4488-a895-69184970c3a9",
   "metadata": {
    "editable": true,
    "scrolled": true,
    "slideshow": {
     "slide_type": ""
    },
    "tags": []
   },
   "outputs": [
    {
     "name": "stderr",
     "output_type": "stream",
     "text": [
      "  0%|                                                                                      | 0/1000000 [00:00<?, ?it/s]"
     ]
    },
    {
     "name": "stdout",
     "output_type": "stream",
     "text": [
      "---------------------------------------------------\n"
     ]
    },
    {
     "name": "stderr",
     "output_type": "stream",
     "text": [
      "  0%|                                                                          | 2/1000000 [00:01<226:12:55,  1.23it/s]"
     ]
    },
    {
     "name": "stdout",
     "output_type": "stream",
     "text": [
      "Epoch:0 Loss:1.78725605 MAE:1.5480 | RMSE:1.5545\n"
     ]
    },
    {
     "name": "stderr",
     "output_type": "stream",
     "text": [
      "  0%|                                                                        | 1000/1000000 [03:28<58:08:17,  4.77it/s]"
     ]
    },
    {
     "name": "stdout",
     "output_type": "stream",
     "text": [
      "---------------------------------------------------\n"
     ]
    },
    {
     "name": "stderr",
     "output_type": "stream",
     "text": [
      "  0%|                                                                       | 1001/1000000 [03:30<204:37:09,  1.36it/s]"
     ]
    },
    {
     "name": "stdout",
     "output_type": "stream",
     "text": [
      "Epoch:1000 Loss:0.07510438 MAE:0.8045 | RMSE:0.8122\n"
     ]
    },
    {
     "name": "stderr",
     "output_type": "stream",
     "text": [
      "  0%|▏                                                                       | 2000/1000000 [06:59<58:58:31,  4.70it/s]"
     ]
    },
    {
     "name": "stdout",
     "output_type": "stream",
     "text": [
      "---------------------------------------------------\n"
     ]
    },
    {
     "name": "stderr",
     "output_type": "stream",
     "text": [
      "  0%|▏                                                                      | 2001/1000000 [07:01<209:09:57,  1.33it/s]"
     ]
    },
    {
     "name": "stdout",
     "output_type": "stream",
     "text": [
      "Epoch:2000 Loss:0.03836627 MAE:0.5573 | RMSE:0.5650\n"
     ]
    },
    {
     "name": "stderr",
     "output_type": "stream",
     "text": [
      "  0%|▏                                                                       | 3000/1000000 [10:29<57:44:39,  4.80it/s]"
     ]
    },
    {
     "name": "stdout",
     "output_type": "stream",
     "text": [
      "---------------------------------------------------\n"
     ]
    },
    {
     "name": "stderr",
     "output_type": "stream",
     "text": [
      "  0%|▏                                                                      | 3002/1000000 [10:31<154:56:00,  1.79it/s]"
     ]
    },
    {
     "name": "stdout",
     "output_type": "stream",
     "text": [
      "Epoch:3000 Loss:0.02594939 MAE:0.4309 | RMSE:0.4384\n"
     ]
    },
    {
     "name": "stderr",
     "output_type": "stream",
     "text": [
      "  0%|▎                                                                       | 4000/1000000 [13:59<57:09:14,  4.84it/s]"
     ]
    },
    {
     "name": "stdout",
     "output_type": "stream",
     "text": [
      "---------------------------------------------------\n"
     ]
    },
    {
     "name": "stderr",
     "output_type": "stream",
     "text": [
      "  0%|▎                                                                      | 4001/1000000 [14:01<185:54:32,  1.49it/s]"
     ]
    },
    {
     "name": "stdout",
     "output_type": "stream",
     "text": [
      "Epoch:4000 Loss:0.01967013 MAE:0.3572 | RMSE:0.3645\n"
     ]
    },
    {
     "name": "stderr",
     "output_type": "stream",
     "text": [
      "  0%|▎                                                                       | 5000/1000000 [17:27<57:11:06,  4.83it/s]"
     ]
    },
    {
     "name": "stdout",
     "output_type": "stream",
     "text": [
      "---------------------------------------------------\n"
     ]
    },
    {
     "name": "stderr",
     "output_type": "stream",
     "text": [
      "  1%|▎                                                                      | 5002/1000000 [17:29<152:09:39,  1.82it/s]"
     ]
    },
    {
     "name": "stdout",
     "output_type": "stream",
     "text": [
      "Epoch:5000 Loss:0.01587809 MAE:0.3067 | RMSE:0.3140\n"
     ]
    },
    {
     "name": "stderr",
     "output_type": "stream",
     "text": [
      "  1%|▍                                                                       | 6000/1000000 [20:56<57:06:34,  4.83it/s]"
     ]
    },
    {
     "name": "stdout",
     "output_type": "stream",
     "text": [
      "---------------------------------------------------\n"
     ]
    },
    {
     "name": "stderr",
     "output_type": "stream",
     "text": [
      "  1%|▍                                                                      | 6001/1000000 [20:58<193:10:48,  1.43it/s]"
     ]
    },
    {
     "name": "stdout",
     "output_type": "stream",
     "text": [
      "Epoch:6000 Loss:0.01333833 MAE:0.2702 | RMSE:0.2775\n"
     ]
    },
    {
     "name": "stderr",
     "output_type": "stream",
     "text": [
      "  1%|▌                                                                       | 7000/1000000 [24:25<57:01:32,  4.84it/s]"
     ]
    },
    {
     "name": "stdout",
     "output_type": "stream",
     "text": [
      "---------------------------------------------------\n"
     ]
    },
    {
     "name": "stderr",
     "output_type": "stream",
     "text": [
      "  1%|▍                                                                      | 7002/1000000 [24:27<148:19:37,  1.86it/s]"
     ]
    },
    {
     "name": "stdout",
     "output_type": "stream",
     "text": [
      "Epoch:7000 Loss:0.01151678 MAE:0.2446 | RMSE:0.2520\n"
     ]
    },
    {
     "name": "stderr",
     "output_type": "stream",
     "text": [
      "  1%|▌                                                                       | 8000/1000000 [27:53<57:01:31,  4.83it/s]"
     ]
    },
    {
     "name": "stdout",
     "output_type": "stream",
     "text": [
      "---------------------------------------------------\n"
     ]
    },
    {
     "name": "stderr",
     "output_type": "stream",
     "text": [
      "  1%|▌                                                                      | 8001/1000000 [27:55<195:45:55,  1.41it/s]"
     ]
    },
    {
     "name": "stdout",
     "output_type": "stream",
     "text": [
      "Epoch:8000 Loss:0.01014567 MAE:0.2216 | RMSE:0.2291\n"
     ]
    },
    {
     "name": "stderr",
     "output_type": "stream",
     "text": [
      "  1%|▋                                                                       | 9000/1000000 [31:22<57:04:15,  4.82it/s]"
     ]
    },
    {
     "name": "stdout",
     "output_type": "stream",
     "text": [
      "---------------------------------------------------\n"
     ]
    },
    {
     "name": "stderr",
     "output_type": "stream",
     "text": [
      "  1%|▋                                                                      | 9002/1000000 [31:24<150:22:35,  1.83it/s]"
     ]
    },
    {
     "name": "stdout",
     "output_type": "stream",
     "text": [
      "Epoch:9000 Loss:0.00907598 MAE:0.2036 | RMSE:0.2110\n"
     ]
    },
    {
     "name": "stderr",
     "output_type": "stream",
     "text": [
      "  1%|▋                                                                      | 10000/1000000 [34:51<57:06:45,  4.82it/s]"
     ]
    },
    {
     "name": "stdout",
     "output_type": "stream",
     "text": [
      "---------------------------------------------------\n"
     ]
    },
    {
     "name": "stderr",
     "output_type": "stream",
     "text": [
      "  1%|▋                                                                     | 10002/1000000 [34:53<148:54:36,  1.85it/s]"
     ]
    },
    {
     "name": "stdout",
     "output_type": "stream",
     "text": [
      "Epoch:10000 Loss:0.00821793 MAE:0.1893 | RMSE:0.1967\n"
     ]
    },
    {
     "name": "stderr",
     "output_type": "stream",
     "text": [
      "  1%|▊                                                                      | 11000/1000000 [38:20<56:59:03,  4.82it/s]"
     ]
    },
    {
     "name": "stdout",
     "output_type": "stream",
     "text": [
      "---------------------------------------------------\n"
     ]
    },
    {
     "name": "stderr",
     "output_type": "stream",
     "text": [
      "  1%|▊                                                                     | 11001/1000000 [38:22<185:56:19,  1.48it/s]"
     ]
    },
    {
     "name": "stdout",
     "output_type": "stream",
     "text": [
      "Epoch:11000 Loss:0.00751391 MAE:0.1765 | RMSE:0.1839\n"
     ]
    },
    {
     "name": "stderr",
     "output_type": "stream",
     "text": [
      "  1%|▊                                                                      | 12000/1000000 [41:49<56:56:09,  4.82it/s]"
     ]
    },
    {
     "name": "stdout",
     "output_type": "stream",
     "text": [
      "---------------------------------------------------\n"
     ]
    },
    {
     "name": "stderr",
     "output_type": "stream",
     "text": [
      "  1%|▊                                                                     | 12001/1000000 [41:51<189:20:40,  1.45it/s]"
     ]
    },
    {
     "name": "stdout",
     "output_type": "stream",
     "text": [
      "Epoch:12000 Loss:0.00692586 MAE:0.1733 | RMSE:0.1812\n"
     ]
    },
    {
     "name": "stderr",
     "output_type": "stream",
     "text": [
      "  1%|▉                                                                      | 13000/1000000 [45:19<57:02:43,  4.81it/s]"
     ]
    },
    {
     "name": "stdout",
     "output_type": "stream",
     "text": [
      "---------------------------------------------------\n"
     ]
    },
    {
     "name": "stderr",
     "output_type": "stream",
     "text": [
      "  1%|▉                                                                     | 13002/1000000 [45:21<151:02:40,  1.82it/s]"
     ]
    },
    {
     "name": "stdout",
     "output_type": "stream",
     "text": [
      "Epoch:13000 Loss:0.00642724 MAE:0.1681 | RMSE:0.1763\n"
     ]
    },
    {
     "name": "stderr",
     "output_type": "stream",
     "text": [
      "  1%|▉                                                                      | 14000/1000000 [48:48<56:45:04,  4.83it/s]"
     ]
    },
    {
     "name": "stdout",
     "output_type": "stream",
     "text": [
      "---------------------------------------------------\n"
     ]
    },
    {
     "name": "stderr",
     "output_type": "stream",
     "text": [
      "  1%|▉                                                                     | 14002/1000000 [48:50<148:38:23,  1.84it/s]"
     ]
    },
    {
     "name": "stdout",
     "output_type": "stream",
     "text": [
      "Epoch:14000 Loss:0.00599890 MAE:0.1605 | RMSE:0.1687\n"
     ]
    },
    {
     "name": "stderr",
     "output_type": "stream",
     "text": [
      "  2%|█                                                                      | 15000/1000000 [52:18<56:47:59,  4.82it/s]"
     ]
    },
    {
     "name": "stdout",
     "output_type": "stream",
     "text": [
      "---------------------------------------------------\n"
     ]
    },
    {
     "name": "stderr",
     "output_type": "stream",
     "text": [
      "  2%|█                                                                     | 15001/1000000 [52:19<188:33:30,  1.45it/s]"
     ]
    },
    {
     "name": "stdout",
     "output_type": "stream",
     "text": [
      "Epoch:15000 Loss:0.00562662 MAE:0.1549 | RMSE:0.1633\n"
     ]
    },
    {
     "name": "stderr",
     "output_type": "stream",
     "text": [
      "  2%|█▏                                                                     | 16000/1000000 [55:47<56:46:43,  4.81it/s]"
     ]
    },
    {
     "name": "stdout",
     "output_type": "stream",
     "text": [
      "---------------------------------------------------\n"
     ]
    },
    {
     "name": "stderr",
     "output_type": "stream",
     "text": [
      "  2%|█                                                                     | 16002/1000000 [55:49<147:07:51,  1.86it/s]"
     ]
    },
    {
     "name": "stdout",
     "output_type": "stream",
     "text": [
      "Epoch:16000 Loss:0.00529996 MAE:0.1479 | RMSE:0.1563\n"
     ]
    },
    {
     "name": "stderr",
     "output_type": "stream",
     "text": [
      "  2%|█▏                                                                     | 17000/1000000 [59:17<56:42:07,  4.82it/s]"
     ]
    },
    {
     "name": "stdout",
     "output_type": "stream",
     "text": [
      "---------------------------------------------------\n"
     ]
    },
    {
     "name": "stderr",
     "output_type": "stream",
     "text": [
      "  2%|█▏                                                                    | 17001/1000000 [59:18<189:38:40,  1.44it/s]"
     ]
    },
    {
     "name": "stdout",
     "output_type": "stream",
     "text": [
      "Epoch:17000 Loss:0.00501116 MAE:0.1438 | RMSE:0.1525\n"
     ]
    },
    {
     "name": "stderr",
     "output_type": "stream",
     "text": [
      "  2%|█▏                                                                   | 18000/1000000 [1:02:46<57:39:01,  4.73it/s]"
     ]
    },
    {
     "name": "stdout",
     "output_type": "stream",
     "text": [
      "---------------------------------------------------\n"
     ]
    },
    {
     "name": "stderr",
     "output_type": "stream",
     "text": [
      "  2%|█▏                                                                  | 18001/1000000 [1:02:48<190:15:37,  1.43it/s]"
     ]
    },
    {
     "name": "stdout",
     "output_type": "stream",
     "text": [
      "Epoch:18000 Loss:0.00475396 MAE:0.1394 | RMSE:0.1481\n"
     ]
    },
    {
     "name": "stderr",
     "output_type": "stream",
     "text": [
      "  2%|█▎                                                                   | 19000/1000000 [1:06:16<56:27:46,  4.83it/s]"
     ]
    },
    {
     "name": "stdout",
     "output_type": "stream",
     "text": [
      "---------------------------------------------------\n"
     ]
    },
    {
     "name": "stderr",
     "output_type": "stream",
     "text": [
      "  2%|█▎                                                                  | 19002/1000000 [1:06:18<148:14:48,  1.84it/s]"
     ]
    },
    {
     "name": "stdout",
     "output_type": "stream",
     "text": [
      "Epoch:19000 Loss:0.00452346 MAE:0.1344 | RMSE:0.1431\n"
     ]
    },
    {
     "name": "stderr",
     "output_type": "stream",
     "text": [
      "  2%|█▍                                                                   | 20000/1000000 [1:09:45<56:29:56,  4.82it/s]"
     ]
    },
    {
     "name": "stdout",
     "output_type": "stream",
     "text": [
      "---------------------------------------------------\n"
     ]
    },
    {
     "name": "stderr",
     "output_type": "stream",
     "text": [
      "  2%|█▎                                                                  | 20001/1000000 [1:09:47<185:28:06,  1.47it/s]"
     ]
    },
    {
     "name": "stdout",
     "output_type": "stream",
     "text": [
      "Epoch:20000 Loss:0.00431565 MAE:0.1297 | RMSE:0.1383\n"
     ]
    },
    {
     "name": "stderr",
     "output_type": "stream",
     "text": [
      "  2%|█▍                                                                   | 21000/1000000 [1:13:15<56:26:48,  4.82it/s]"
     ]
    },
    {
     "name": "stdout",
     "output_type": "stream",
     "text": [
      "---------------------------------------------------\n"
     ]
    },
    {
     "name": "stderr",
     "output_type": "stream",
     "text": [
      "  2%|█▍                                                                  | 21002/1000000 [1:13:17<149:54:02,  1.81it/s]"
     ]
    },
    {
     "name": "stdout",
     "output_type": "stream",
     "text": [
      "Epoch:21000 Loss:0.00412734 MAE:0.1255 | RMSE:0.1341\n"
     ]
    },
    {
     "name": "stderr",
     "output_type": "stream",
     "text": [
      "  2%|█▌                                                                   | 22000/1000000 [1:16:45<56:23:17,  4.82it/s]"
     ]
    },
    {
     "name": "stdout",
     "output_type": "stream",
     "text": [
      "---------------------------------------------------\n"
     ]
    },
    {
     "name": "stderr",
     "output_type": "stream",
     "text": [
      "  2%|█▍                                                                  | 22002/1000000 [1:16:47<150:13:44,  1.81it/s]"
     ]
    },
    {
     "name": "stdout",
     "output_type": "stream",
     "text": [
      "Epoch:22000 Loss:0.00395590 MAE:0.1215 | RMSE:0.1300\n"
     ]
    },
    {
     "name": "stderr",
     "output_type": "stream",
     "text": [
      "  2%|█▌                                                                   | 23000/1000000 [1:20:14<56:18:39,  4.82it/s]"
     ]
    },
    {
     "name": "stdout",
     "output_type": "stream",
     "text": [
      "---------------------------------------------------\n"
     ]
    },
    {
     "name": "stderr",
     "output_type": "stream",
     "text": [
      "  2%|█▌                                                                  | 23001/1000000 [1:20:16<191:38:34,  1.42it/s]"
     ]
    },
    {
     "name": "stdout",
     "output_type": "stream",
     "text": [
      "Epoch:23000 Loss:0.00379917 MAE:0.1199 | RMSE:0.1288\n"
     ]
    },
    {
     "name": "stderr",
     "output_type": "stream",
     "text": [
      "  2%|█▋                                                                   | 24000/1000000 [1:23:44<56:18:28,  4.81it/s]"
     ]
    },
    {
     "name": "stdout",
     "output_type": "stream",
     "text": [
      "---------------------------------------------------\n"
     ]
    },
    {
     "name": "stderr",
     "output_type": "stream",
     "text": [
      "  2%|█▋                                                                  | 24002/1000000 [1:23:46<148:39:54,  1.82it/s]"
     ]
    },
    {
     "name": "stdout",
     "output_type": "stream",
     "text": [
      "Epoch:24000 Loss:0.00365528 MAE:0.1169 | RMSE:0.1258\n"
     ]
    },
    {
     "name": "stderr",
     "output_type": "stream",
     "text": [
      "  2%|█▋                                                                   | 25000/1000000 [1:27:15<57:25:13,  4.72it/s]"
     ]
    },
    {
     "name": "stdout",
     "output_type": "stream",
     "text": [
      "---------------------------------------------------\n"
     ]
    },
    {
     "name": "stderr",
     "output_type": "stream",
     "text": [
      "  3%|█▋                                                                  | 25001/1000000 [1:27:17<198:07:49,  1.37it/s]"
     ]
    },
    {
     "name": "stdout",
     "output_type": "stream",
     "text": [
      "Epoch:25000 Loss:0.00352278 MAE:0.1139 | RMSE:0.1228\n"
     ]
    },
    {
     "name": "stderr",
     "output_type": "stream",
     "text": [
      "  3%|█▊                                                                   | 26000/1000000 [1:30:48<56:37:26,  4.78it/s]"
     ]
    },
    {
     "name": "stdout",
     "output_type": "stream",
     "text": [
      "---------------------------------------------------\n"
     ]
    },
    {
     "name": "stderr",
     "output_type": "stream",
     "text": [
      "  3%|█▊                                                                  | 26001/1000000 [1:30:50<193:47:58,  1.40it/s]"
     ]
    },
    {
     "name": "stdout",
     "output_type": "stream",
     "text": [
      "Epoch:26000 Loss:0.00340031 MAE:0.1130 | RMSE:0.1220\n"
     ]
    },
    {
     "name": "stderr",
     "output_type": "stream",
     "text": [
      "  3%|█▊                                                                   | 27000/1000000 [1:34:20<56:38:00,  4.77it/s]"
     ]
    },
    {
     "name": "stdout",
     "output_type": "stream",
     "text": [
      "---------------------------------------------------\n"
     ]
    },
    {
     "name": "stderr",
     "output_type": "stream",
     "text": [
      "  3%|█▊                                                                  | 27002/1000000 [1:34:23<172:27:06,  1.57it/s]"
     ]
    },
    {
     "name": "stdout",
     "output_type": "stream",
     "text": [
      "Epoch:27000 Loss:0.00328680 MAE:0.1103 | RMSE:0.1193\n"
     ]
    },
    {
     "name": "stderr",
     "output_type": "stream",
     "text": [
      "  3%|█▉                                                                   | 28000/1000000 [1:37:53<56:41:22,  4.76it/s]"
     ]
    },
    {
     "name": "stdout",
     "output_type": "stream",
     "text": [
      "---------------------------------------------------\n"
     ]
    },
    {
     "name": "stderr",
     "output_type": "stream",
     "text": [
      "  3%|█▉                                                                  | 28001/1000000 [1:37:55<203:37:13,  1.33it/s]"
     ]
    },
    {
     "name": "stdout",
     "output_type": "stream",
     "text": [
      "Epoch:28000 Loss:0.00318129 MAE:0.1078 | RMSE:0.1167\n"
     ]
    },
    {
     "name": "stderr",
     "output_type": "stream",
     "text": [
      "  3%|██                                                                   | 29000/1000000 [1:41:26<56:50:02,  4.75it/s]"
     ]
    },
    {
     "name": "stdout",
     "output_type": "stream",
     "text": [
      "---------------------------------------------------\n"
     ]
    },
    {
     "name": "stderr",
     "output_type": "stream",
     "text": [
      "  3%|█▉                                                                  | 29001/1000000 [1:41:28<206:35:54,  1.31it/s]"
     ]
    },
    {
     "name": "stdout",
     "output_type": "stream",
     "text": [
      "Epoch:29000 Loss:0.00308292 MAE:0.1062 | RMSE:0.1153\n"
     ]
    },
    {
     "name": "stderr",
     "output_type": "stream",
     "text": [
      "  3%|██                                                                   | 30000/1000000 [1:44:59<56:28:45,  4.77it/s]"
     ]
    },
    {
     "name": "stdout",
     "output_type": "stream",
     "text": [
      "---------------------------------------------------\n"
     ]
    },
    {
     "name": "stderr",
     "output_type": "stream",
     "text": [
      "  3%|██                                                                  | 30001/1000000 [1:45:01<198:42:25,  1.36it/s]"
     ]
    },
    {
     "name": "stdout",
     "output_type": "stream",
     "text": [
      "Epoch:30000 Loss:0.00299102 MAE:0.1046 | RMSE:0.1137\n"
     ]
    },
    {
     "name": "stderr",
     "output_type": "stream",
     "text": [
      "  3%|██▏                                                                  | 31000/1000000 [1:48:31<56:22:31,  4.77it/s]"
     ]
    },
    {
     "name": "stdout",
     "output_type": "stream",
     "text": [
      "---------------------------------------------------\n"
     ]
    },
    {
     "name": "stderr",
     "output_type": "stream",
     "text": [
      "  3%|██                                                                  | 31002/1000000 [1:48:33<155:36:33,  1.73it/s]"
     ]
    },
    {
     "name": "stdout",
     "output_type": "stream",
     "text": [
      "Epoch:31000 Loss:0.00290499 MAE:0.1029 | RMSE:0.1120\n"
     ]
    },
    {
     "name": "stderr",
     "output_type": "stream",
     "text": [
      "  3%|██▏                                                                  | 32000/1000000 [1:52:04<56:56:56,  4.72it/s]"
     ]
    },
    {
     "name": "stdout",
     "output_type": "stream",
     "text": [
      "---------------------------------------------------\n"
     ]
    },
    {
     "name": "stderr",
     "output_type": "stream",
     "text": [
      "  3%|██▏                                                                 | 32001/1000000 [1:52:06<194:00:51,  1.39it/s]"
     ]
    },
    {
     "name": "stdout",
     "output_type": "stream",
     "text": [
      "Epoch:32000 Loss:0.00282426 MAE:0.1021 | RMSE:0.1113\n"
     ]
    },
    {
     "name": "stderr",
     "output_type": "stream",
     "text": [
      "  3%|██▎                                                                  | 33000/1000000 [1:55:36<56:22:28,  4.76it/s]"
     ]
    },
    {
     "name": "stdout",
     "output_type": "stream",
     "text": [
      "---------------------------------------------------\n"
     ]
    },
    {
     "name": "stderr",
     "output_type": "stream",
     "text": [
      "  3%|██▏                                                                 | 33002/1000000 [1:55:39<156:35:24,  1.72it/s]"
     ]
    },
    {
     "name": "stdout",
     "output_type": "stream",
     "text": [
      "Epoch:33000 Loss:0.00274833 MAE:0.1003 | RMSE:0.1095\n"
     ]
    },
    {
     "name": "stderr",
     "output_type": "stream",
     "text": [
      "  3%|██▎                                                                  | 34000/1000000 [1:59:11<57:03:51,  4.70it/s]"
     ]
    },
    {
     "name": "stdout",
     "output_type": "stream",
     "text": [
      "---------------------------------------------------\n"
     ]
    },
    {
     "name": "stderr",
     "output_type": "stream",
     "text": [
      "  3%|██▎                                                                 | 34002/1000000 [1:59:14<150:44:52,  1.78it/s]"
     ]
    },
    {
     "name": "stdout",
     "output_type": "stream",
     "text": [
      "Epoch:34000 Loss:0.00267681 MAE:0.0986 | RMSE:0.1078\n"
     ]
    },
    {
     "name": "stderr",
     "output_type": "stream",
     "text": [
      "  4%|██▍                                                                  | 35000/1000000 [2:02:44<56:28:22,  4.75it/s]"
     ]
    },
    {
     "name": "stdout",
     "output_type": "stream",
     "text": [
      "---------------------------------------------------\n"
     ]
    },
    {
     "name": "stderr",
     "output_type": "stream",
     "text": [
      "  4%|██▍                                                                 | 35001/1000000 [2:02:46<204:15:29,  1.31it/s]"
     ]
    },
    {
     "name": "stdout",
     "output_type": "stream",
     "text": [
      "Epoch:35000 Loss:0.00260932 MAE:0.0990 | RMSE:0.1083\n"
     ]
    },
    {
     "name": "stderr",
     "output_type": "stream",
     "text": [
      "  4%|██▍                                                                  | 36000/1000000 [2:06:17<56:38:08,  4.73it/s]"
     ]
    },
    {
     "name": "stdout",
     "output_type": "stream",
     "text": [
      "---------------------------------------------------\n"
     ]
    },
    {
     "name": "stderr",
     "output_type": "stream",
     "text": [
      "  4%|██▍                                                                 | 36001/1000000 [2:06:19<189:26:59,  1.41it/s]"
     ]
    },
    {
     "name": "stdout",
     "output_type": "stream",
     "text": [
      "Epoch:36000 Loss:0.00254553 MAE:0.0975 | RMSE:0.1069\n"
     ]
    },
    {
     "name": "stderr",
     "output_type": "stream",
     "text": [
      "  4%|██▌                                                                  | 37000/1000000 [2:09:50<57:23:09,  4.66it/s]"
     ]
    },
    {
     "name": "stdout",
     "output_type": "stream",
     "text": [
      "---------------------------------------------------\n"
     ]
    },
    {
     "name": "stderr",
     "output_type": "stream",
     "text": [
      "  4%|██▌                                                                 | 37001/1000000 [2:09:52<193:55:26,  1.38it/s]"
     ]
    },
    {
     "name": "stdout",
     "output_type": "stream",
     "text": [
      "Epoch:37000 Loss:0.00248515 MAE:0.0969 | RMSE:0.1064\n"
     ]
    },
    {
     "name": "stderr",
     "output_type": "stream",
     "text": [
      "  4%|██▌                                                                  | 38000/1000000 [2:13:24<57:14:09,  4.67it/s]"
     ]
    },
    {
     "name": "stdout",
     "output_type": "stream",
     "text": [
      "---------------------------------------------------\n"
     ]
    },
    {
     "name": "stderr",
     "output_type": "stream",
     "text": [
      "  4%|██▌                                                                 | 38001/1000000 [2:13:26<211:17:40,  1.26it/s]"
     ]
    },
    {
     "name": "stdout",
     "output_type": "stream",
     "text": [
      "Epoch:38000 Loss:0.00242789 MAE:0.0960 | RMSE:0.1054\n"
     ]
    },
    {
     "name": "stderr",
     "output_type": "stream",
     "text": [
      "  4%|██▋                                                                  | 39000/1000000 [2:16:57<55:56:15,  4.77it/s]"
     ]
    },
    {
     "name": "stdout",
     "output_type": "stream",
     "text": [
      "---------------------------------------------------\n"
     ]
    },
    {
     "name": "stderr",
     "output_type": "stream",
     "text": [
      "  4%|██▋                                                                 | 39001/1000000 [2:16:59<211:19:04,  1.26it/s]"
     ]
    },
    {
     "name": "stdout",
     "output_type": "stream",
     "text": [
      "Epoch:39000 Loss:0.00237354 MAE:0.0943 | RMSE:0.1037\n"
     ]
    },
    {
     "name": "stderr",
     "output_type": "stream",
     "text": [
      "  4%|██▊                                                                  | 40000/1000000 [2:20:30<55:55:46,  4.77it/s]"
     ]
    },
    {
     "name": "stdout",
     "output_type": "stream",
     "text": [
      "---------------------------------------------------\n"
     ]
    },
    {
     "name": "stderr",
     "output_type": "stream",
     "text": [
      "  4%|██▋                                                                 | 40002/1000000 [2:20:32<158:23:00,  1.68it/s]"
     ]
    },
    {
     "name": "stdout",
     "output_type": "stream",
     "text": [
      "Epoch:40000 Loss:0.00232186 MAE:0.0930 | RMSE:0.1024\n"
     ]
    },
    {
     "name": "stderr",
     "output_type": "stream",
     "text": [
      "  4%|██▊                                                                  | 41000/1000000 [2:24:03<58:27:32,  4.56it/s]"
     ]
    },
    {
     "name": "stdout",
     "output_type": "stream",
     "text": [
      "---------------------------------------------------\n"
     ]
    },
    {
     "name": "stderr",
     "output_type": "stream",
     "text": [
      "  4%|██▊                                                                 | 41001/1000000 [2:24:05<212:07:39,  1.26it/s]"
     ]
    },
    {
     "name": "stdout",
     "output_type": "stream",
     "text": [
      "Epoch:41000 Loss:0.00227267 MAE:0.0920 | RMSE:0.1013\n"
     ]
    },
    {
     "name": "stderr",
     "output_type": "stream",
     "text": [
      "  4%|██▉                                                                  | 42000/1000000 [2:27:36<56:30:35,  4.71it/s]"
     ]
    },
    {
     "name": "stdout",
     "output_type": "stream",
     "text": [
      "---------------------------------------------------\n"
     ]
    },
    {
     "name": "stderr",
     "output_type": "stream",
     "text": [
      "  4%|██▊                                                                 | 42001/1000000 [2:27:38<216:20:11,  1.23it/s]"
     ]
    },
    {
     "name": "stdout",
     "output_type": "stream",
     "text": [
      "Epoch:42000 Loss:0.00222579 MAE:0.0911 | RMSE:0.1003\n"
     ]
    },
    {
     "name": "stderr",
     "output_type": "stream",
     "text": [
      "  4%|██▉                                                                  | 43000/1000000 [2:31:09<55:55:41,  4.75it/s]"
     ]
    },
    {
     "name": "stdout",
     "output_type": "stream",
     "text": [
      "---------------------------------------------------\n"
     ]
    },
    {
     "name": "stderr",
     "output_type": "stream",
     "text": [
      "  4%|██▉                                                                 | 43002/1000000 [2:31:11<147:28:20,  1.80it/s]"
     ]
    },
    {
     "name": "stdout",
     "output_type": "stream",
     "text": [
      "Epoch:43000 Loss:0.00218104 MAE:0.0910 | RMSE:0.1004\n"
     ]
    },
    {
     "name": "stderr",
     "output_type": "stream",
     "text": [
      "  4%|███                                                                  | 44000/1000000 [2:34:42<55:44:58,  4.76it/s]"
     ]
    },
    {
     "name": "stdout",
     "output_type": "stream",
     "text": [
      "---------------------------------------------------\n"
     ]
    },
    {
     "name": "stderr",
     "output_type": "stream",
     "text": [
      "  4%|██▉                                                                 | 44001/1000000 [2:34:44<192:08:37,  1.38it/s]"
     ]
    },
    {
     "name": "stdout",
     "output_type": "stream",
     "text": [
      "Epoch:44000 Loss:0.00213832 MAE:0.0899 | RMSE:0.0993\n"
     ]
    },
    {
     "name": "stderr",
     "output_type": "stream",
     "text": [
      "  4%|███                                                                  | 45000/1000000 [2:38:15<55:49:51,  4.75it/s]"
     ]
    },
    {
     "name": "stdout",
     "output_type": "stream",
     "text": [
      "---------------------------------------------------\n"
     ]
    },
    {
     "name": "stderr",
     "output_type": "stream",
     "text": [
      "  5%|███                                                                 | 45001/1000000 [2:38:17<197:00:11,  1.35it/s]"
     ]
    },
    {
     "name": "stdout",
     "output_type": "stream",
     "text": [
      "Epoch:45000 Loss:0.00209745 MAE:0.0890 | RMSE:0.0984\n"
     ]
    },
    {
     "name": "stderr",
     "output_type": "stream",
     "text": [
      "  5%|███▏                                                                 | 46000/1000000 [2:41:49<55:37:22,  4.76it/s]"
     ]
    },
    {
     "name": "stdout",
     "output_type": "stream",
     "text": [
      "---------------------------------------------------\n"
     ]
    },
    {
     "name": "stderr",
     "output_type": "stream",
     "text": [
      "  5%|███▏                                                                | 46001/1000000 [2:41:51<189:59:35,  1.39it/s]"
     ]
    },
    {
     "name": "stdout",
     "output_type": "stream",
     "text": [
      "Epoch:46000 Loss:0.00205834 MAE:0.0879 | RMSE:0.0973\n"
     ]
    },
    {
     "name": "stderr",
     "output_type": "stream",
     "text": [
      "  5%|███▏                                                                 | 47000/1000000 [2:45:22<55:27:43,  4.77it/s]"
     ]
    },
    {
     "name": "stdout",
     "output_type": "stream",
     "text": [
      "---------------------------------------------------\n"
     ]
    },
    {
     "name": "stderr",
     "output_type": "stream",
     "text": [
      "  5%|███▏                                                                | 47001/1000000 [2:45:24<200:23:14,  1.32it/s]"
     ]
    },
    {
     "name": "stdout",
     "output_type": "stream",
     "text": [
      "Epoch:47000 Loss:0.00202085 MAE:0.0869 | RMSE:0.0963\n"
     ]
    },
    {
     "name": "stderr",
     "output_type": "stream",
     "text": [
      "  5%|███▎                                                                 | 48000/1000000 [2:48:55<55:39:52,  4.75it/s]"
     ]
    },
    {
     "name": "stdout",
     "output_type": "stream",
     "text": [
      "---------------------------------------------------\n"
     ]
    },
    {
     "name": "stderr",
     "output_type": "stream",
     "text": [
      "  5%|███▎                                                                | 48001/1000000 [2:48:57<208:10:01,  1.27it/s]"
     ]
    },
    {
     "name": "stdout",
     "output_type": "stream",
     "text": [
      "Epoch:48000 Loss:0.00198491 MAE:0.0862 | RMSE:0.0956\n"
     ]
    },
    {
     "name": "stderr",
     "output_type": "stream",
     "text": [
      "  5%|███▎                                                                 | 48722/1000000 [2:51:31<55:48:55,  4.73it/s]\n"
     ]
    },
    {
     "ename": "KeyboardInterrupt",
     "evalue": "",
     "output_type": "error",
     "traceback": [
      "\u001b[1;31m---------------------------------------------------------------------------\u001b[0m",
      "\u001b[1;31mKeyboardInterrupt\u001b[0m                         Traceback (most recent call last)",
      "Cell \u001b[1;32mIn[26], line 15\u001b[0m\n\u001b[0;32m     12\u001b[0m     loss\u001b[38;5;241m.\u001b[39mbackward()                    \u001b[38;5;66;03m# backpropagation, compute gradients\u001b[39;00m\n\u001b[0;32m     13\u001b[0m     optimizer\u001b[38;5;241m.\u001b[39mstep()                   \u001b[38;5;66;03m# apply gradients\u001b[39;00m\n\u001b[1;32m---> 15\u001b[0m     loss_list\u001b[38;5;241m.\u001b[39mappend(loss\u001b[38;5;241m.\u001b[39mcpu()\u001b[38;5;241m.\u001b[39mdetach()\u001b[38;5;241m.\u001b[39mnumpy()\u001b[38;5;241m.\u001b[39mtolist())\n\u001b[0;32m     17\u001b[0m \u001b[38;5;28;01mif\u001b[39;00m i\u001b[38;5;241m%\u001b[39meval_step\u001b[38;5;241m==\u001b[39m\u001b[38;5;241m0\u001b[39m:\n\u001b[0;32m     18\u001b[0m     \u001b[38;5;28;01mfor\u001b[39;00m name \u001b[38;5;129;01min\u001b[39;00m data_dict\u001b[38;5;241m.\u001b[39mkeys():\n",
      "\u001b[1;31mKeyboardInterrupt\u001b[0m: "
     ]
    }
   ],
   "source": [
    "loss_list = [0]\n",
    "mae_lst,rmse_lst = [], []\n",
    "\n",
    "for i in tqdm(range(epoch)):\n",
    "    if i%eval_step==0 and on_test_log:\n",
    "        print('---------------------------------------------------')\n",
    "    for batch_x,batch_y in train_loader:\n",
    "        model.train()\n",
    "        output= model(batch_x.to(device))\n",
    "        loss = criterion(output, batch_y.to(device))\n",
    "        optimizer.zero_grad()              # clear gradients for this training step\n",
    "        loss.backward()                    # backpropagation, compute gradients\n",
    "        optimizer.step()                   # apply gradients\n",
    "\n",
    "        loss_list.append(loss.cpu().detach().numpy().tolist())\n",
    "\n",
    "    if i%eval_step==0:\n",
    "        for name in data_dict.keys():\n",
    "            train_x, train_y, train_data, test_data = get_train_test(data_dict, name, window_size)\n",
    "            \n",
    "            prefix_x = data_dict[name][1][:window_size]\n",
    "            decode_seq = model.decode(prefix_x,max_length=len(test_data))[window_size+1:]\n",
    "            mae, rmse = evaluation(y_test=test_data, y_predict=decode_seq)\n",
    "            \n",
    "            mae_lst.append(mae)\n",
    "            rmse_lst.append(rmse)\n",
    "        \n",
    "        if on_test_log:\n",
    "            print(f'Epoch:{i} Loss:{np.average(loss_list):.8f} MAE:{np.average(mae_lst):.4f} | RMSE:{np.average(rmse_lst):.4f}')"
   ]
  },
  {
   "cell_type": "code",
   "execution_count": 27,
   "id": "b0f7f95f-35a4-4e1f-b566-ee27262eff9a",
   "metadata": {},
   "outputs": [
    {
     "data": {
      "image/png": "[encoded data removed]",
      "text/plain": [
       "<Figure size 1200x800 with 1 Axes>"
      ]
     },
     "metadata": {},
     "output_type": "display_data"
    },
    {
     "data": {
      "image/png": "[encoded data removed]",
      "text/plain": [
       "<Figure size 1200x800 with 1 Axes>"
      ]
     },
     "metadata": {},
     "output_type": "display_data"
    },
    {
     "data": {
      "image/png": "[encoded data removed]",
      "text/plain": [
       "<Figure size 1200x800 with 1 Axes>"
      ]
     },
     "metadata": {},
     "output_type": "display_data"
    },
    {
     "data": {
      "image/png": "[encoded data removed]",
      "text/plain": [
       "<Figure size 1200x800 with 1 Axes>"
      ]
     },
     "metadata": {},
     "output_type": "display_data"
    }
   ],
   "source": [
    "for name in data_dict.keys():\n",
    "    train_x, train_y, train_data, test_data = get_train_test(data_dict, name, window_size)\n",
    "\n",
    "    real = data_dict[name][1]\n",
    "    prefix_x = data_dict[name][1][:window_size]\n",
    "    decode_seq = model.decode(prefix_x,max_length=len(test_data))\n",
    "    \n",
    "    plot(name=name,\n",
    "         real_data=real,\n",
    "        pred_data=decode_seq)"
   ]
  },
  {
   "cell_type": "code",
   "execution_count": 28,
   "id": "7231619b-01fb-464c-9ab5-b66f2d4c197e",
   "metadata": {},
   "outputs": [],
   "source": [
    "if not os.path.isdir('../data/model'):\n",
    "    os.mkdir('../data/model')"
   ]
  },
  {
   "cell_type": "code",
   "execution_count": 30,
   "id": "11b52eae-dc65-4aa8-a5fb-91b14bcc76dd",
   "metadata": {},
   "outputs": [],
   "source": [
    "torch.save(model,f'../data/model/{model_type}_att_240917.bin')"
   ]
  },
  {
   "cell_type": "code",
   "execution_count": null,
   "id": "aa7d0ac3-3521-4c61-9a5d-b7a26be4c4bf",
   "metadata": {},
   "outputs": [],
   "source": []
  },
  {
   "cell_type": "code",
   "execution_count": null,
   "id": "1c8df475-cd26-430b-a38e-a9267de4daac",
   "metadata": {},
   "outputs": [],
   "source": []
  },
  {
   "cell_type": "code",
   "execution_count": null,
   "id": "b3108539-e1a0-4264-82c2-06fa01cf0d7a",
   "metadata": {},
   "outputs": [],
   "source": []
  },
  {
   "cell_type": "code",
   "execution_count": null,
   "id": "f483b2ee-140d-44c2-bc33-51d48410ceff",
   "metadata": {},
   "outputs": [],
   "source": []
  }
 ],
 "metadata": {
  "@deathbeds/jupyterlab-fonts": {
   "fontLicenses": {},
   "fonts": {},
   "styles": {
    ":root": {}
   }
  },
  "kernelspec": {
   "display_name": "Python 3 (ipykernel)",
   "language": "python",
   "name": "python3"
  },
  "language_info": {
   "codemirror_mode": {
    "name": "ipython",
    "version": 3
   },
   "file_extension": ".py",
   "mimetype": "text/x-python",
   "name": "python",
   "nbconvert_exporter": "python",
   "pygments_lexer": "ipython3",
   "version": "3.11.5"
  }
 },
 "nbformat": 4,
 "nbformat_minor": 5
}
