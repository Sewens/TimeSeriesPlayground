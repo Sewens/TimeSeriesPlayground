{
 "cells": [
  {
   "cell_type": "markdown",
   "id": "e27846ee-b619-4786-8889-6a2fd629ac0d",
   "metadata": {
    "editable": true,
    "slideshow": {
     "slide_type": ""
    },
    "tags": []
   },
   "source": [
    "# 深度学习模型\n",
    "特征：\n",
    "1. 滑动窗口采样\n",
    "设置windows size，采样前k个step预测下一个\n",
    "\n",
    "2. 滑动窗口平均采样\n",
    "\n",
    "模型：\n",
    "1. MLP\n",
    "2. CNN\n",
    "3. LSTM\n",
    "4. RCNN\n",
    "5. RWKV\n",
    "\n",
    "todo：\n",
    "1. 加入额外特征embedding"
   ]
  },
  {
   "cell_type": "code",
   "execution_count": 1,
   "id": "59e7cbe5-0c9f-4fe5-b87d-74ef99cd203d",
   "metadata": {
    "editable": true,
    "slideshow": {
     "slide_type": ""
    },
    "tags": []
   },
   "outputs": [],
   "source": [
    "import pandas as pd\n",
    "import numpy as np\n",
    "import random\n",
    "import pickle\n",
    "import math\n",
    "import os\n",
    "import scipy.io\n",
    "import matplotlib.pyplot as plt\n",
    "%matplotlib inline\n",
    "\n",
    "from math import sqrt\n",
    "from datetime import datetime\n",
    "from sklearn.metrics import mean_absolute_error\n",
    "from sklearn.metrics import mean_squared_error"
   ]
  },
  {
   "cell_type": "code",
   "execution_count": 2,
   "id": "cfb2f62d-507f-4ca8-9acd-2cb06bdb05b9",
   "metadata": {},
   "outputs": [],
   "source": [
    "from dataclasses import dataclass"
   ]
  },
  {
   "cell_type": "markdown",
   "id": "be2182e2-1646-416d-8311-e8ce0e7202d9",
   "metadata": {},
   "source": [
    "# 1 读取处理后数据\n",
    "\n",
    "字典数据：\n",
    "```\n",
    "{\n",
    "    'tid':[\n",
    "        [cycle_count],\n",
    "        [battery_life]\n",
    "    ]\n",
    "}\n",
    "```\n",
    "\n",
    "DataFrame数据：\n",
    "```\n",
    "columns = [tid,cycle_count,life]\n",
    "```"
   ]
  },
  {
   "cell_type": "code",
   "execution_count": 3,
   "id": "21e97ff8-4a4f-4bb8-98b5-9d629f659523",
   "metadata": {},
   "outputs": [],
   "source": [
    "bmap = pickle.load(open(\"../data/processed/nasa-li-battery_dict_240906.pkl\",'rb'))"
   ]
  },
  {
   "cell_type": "code",
   "execution_count": 4,
   "id": "680509d4-0b28-4234-bdd5-c30257994f33",
   "metadata": {},
   "outputs": [],
   "source": [
    "# ddf = pd.read_pickle('../data/processed/nasa-li-battery_df_240906.pkl')"
   ]
  },
  {
   "cell_type": "markdown",
   "id": "60e4e71b-f06a-4d29-b1bf-f5b4c936c8dc",
   "metadata": {},
   "source": [
    "# 2 特征采样和评价指标"
   ]
  },
  {
   "cell_type": "markdown",
   "id": "4d9afd20-f032-45c7-be42-acfbc085cb84",
   "metadata": {},
   "source": [
    "## 2.1 特征采样"
   ]
  },
  {
   "cell_type": "code",
   "execution_count": 5,
   "id": "c9bee833-f0a7-4560-8097-3a0fe3e54b32",
   "metadata": {},
   "outputs": [],
   "source": [
    "def build_sequences(text, window_size):\n",
    "    #text:list of capacity\n",
    "    x, y = [],[]\n",
    "    for i in range(len(text) - window_size):\n",
    "        sequence = text[i:i+window_size]\n",
    "        target = text[i+1:i+1+window_size]\n",
    "\n",
    "        x.append(sequence)\n",
    "        y.append(target)\n",
    "        \n",
    "    return np.array(x), np.array(y)\n",
    "\n",
    "\n",
    "# 留一评估：一组数据为测试集，其他所有数据全部拿来训练\n",
    "def get_train_test(data_dict, name, window_size=8, train_ratio=0.):\n",
    "    data_sequence=data_dict[name][1]\n",
    "    train_data, test_data = data_sequence[:window_size+1], data_sequence[window_size+1:]\n",
    "    train_x, train_y = build_sequences(text=train_data, window_size=window_size)\n",
    "    for k, v in data_dict.items():\n",
    "        if k != name:\n",
    "            data_x, data_y = build_sequences(text=v[1], window_size=window_size)\n",
    "            train_x, train_y = np.r_[train_x, data_x], np.r_[train_y, data_y]\n",
    "            \n",
    "    return train_x, train_y, list(train_data), list(test_data)\n",
    "\n",
    "\n",
    "def evaluation(y_test, y_predict):\n",
    "    mae = mean_absolute_error(y_test, y_predict)\n",
    "    mse = mean_squared_error(y_test, y_predict)\n",
    "    rmse = sqrt(mean_squared_error(y_test, y_predict))\n",
    "    return mae, rmse\n",
    "    \n",
    "\n",
    "def relative_error(y_test, y_predict, threshold):\n",
    "    true_re, pred_re = len(y_test), 0\n",
    "    for i in range(len(y_test)-1):\n",
    "        if y_test[i] <= threshold >= y_test[i+1]:\n",
    "            true_re = i - 1\n",
    "            break\n",
    "    for i in range(len(y_predict)-1):\n",
    "        if y_predict[i] <= threshold:\n",
    "            pred_re = i - 1\n",
    "            break\n",
    "    return abs(true_re - pred_re)/true_re"
   ]
  },
  {
   "cell_type": "markdown",
   "id": "96bd959a-4eed-42ce-bf2d-c38251c77c21",
   "metadata": {},
   "source": [
    "## 2.2 训练和评价"
   ]
  },
  {
   "cell_type": "code",
   "execution_count": 6,
   "id": "1d684f80-9ab6-4e1f-943e-4ed74da90eeb",
   "metadata": {},
   "outputs": [],
   "source": [
    "from tqdm import tqdm"
   ]
  },
  {
   "cell_type": "markdown",
   "id": "c09bcfa8-5978-4f44-95c3-8512872d3e5a",
   "metadata": {},
   "source": [
    "### 绘图函数"
   ]
  },
  {
   "cell_type": "code",
   "execution_count": 7,
   "id": "fecf0d44-7749-4d4f-b92c-a4148c9209a8",
   "metadata": {},
   "outputs": [],
   "source": [
    "def plot(name,\n",
    "         real_data, \n",
    "         pred_data):\n",
    "    fig, ax = plt.subplots(1, figsize=(12, 8))\n",
    "\n",
    "    plot_range = [i for i in range(len(real_data))]\n",
    "    \n",
    "    ax.plot(plot_range, real_data, 'b.', label=name)\n",
    "    ax.plot(plot_range, pred_data, 'r.', label='Prediction')\n",
    "    plt.plot([-1,170],[2*0.7, 2*0.7], c='black', lw=1, ls='--')  # 临界点直线\n",
    "    ax.set(xlabel='Discharge cycles', ylabel='Capacity (Ah)', title='Capacity degradation at ambient temperature of 24°C')\n",
    "    plt.legend()"
   ]
  },
  {
   "cell_type": "markdown",
   "id": "3d6cdfbc-9d1b-45f9-a7b1-4c8707a0dd01",
   "metadata": {},
   "source": [
    "# 3 RNN\n",
    "\n",
    "RNN取最后一个step接linear输出。\n",
    "\n",
    "后续可考虑LSTM和attention。"
   ]
  },
  {
   "cell_type": "code",
   "execution_count": 8,
   "id": "b9d5b04f-7766-40e3-a78d-694938f55f08",
   "metadata": {},
   "outputs": [],
   "source": [
    "from typing import List,Dict,Tuple"
   ]
  },
  {
   "cell_type": "code",
   "execution_count": 9,
   "id": "5449a7cd-94d7-43a7-854e-cc361c4fa7d7",
   "metadata": {},
   "outputs": [],
   "source": [
    "from collections import OrderedDict"
   ]
  },
  {
   "cell_type": "code",
   "execution_count": 10,
   "id": "5ff89896-2871-401a-801a-e40de52184eb",
   "metadata": {},
   "outputs": [],
   "source": [
    "import torch"
   ]
  },
  {
   "cell_type": "code",
   "execution_count": 11,
   "id": "28f226ee-19c4-41c6-a2d6-d373d08e45d5",
   "metadata": {},
   "outputs": [],
   "source": [
    "class NASALiBatteryDataset(torch.utils.data.Dataset):\n",
    "    def __init__(self, \n",
    "                 fpath:str,\n",
    "                ):\n",
    "        \n",
    "        x_lst,y_lst = [],[]\n",
    "        self.data_dict = pickle.load(open(fpath,'rb'))\n",
    "        for name in self.data_dict.keys():\n",
    "            train_x, train_y, train_data, test_data = get_train_test(self.data_dict, name, window_size)\n",
    "            real_train_y = np.expand_dims(train_y[:,-1],-1)\n",
    "            x_lst.append(train_x)\n",
    "            y_lst.append(real_train_y)\n",
    "        self.train_x = np.vstack(x_lst)\n",
    "        self.train_y = np.vstack(y_lst)\n",
    "        \n",
    "    def __len__(self):\n",
    "        return self.train_x.shape[0]\n",
    "        \n",
    "    def __getitem__(self, indices):\n",
    "        \n",
    "        return np.take(self.train_x,axis=0,indices=indices), np.take(self.train_y,axis=0,indices=indices)"
   ]
  },
  {
   "cell_type": "code",
   "execution_count": 12,
   "id": "c00457e3-5ac3-4d37-bd53-27e6eb000353",
   "metadata": {},
   "outputs": [],
   "source": [
    "class BaseModel(torch.nn.Module):\n",
    "\n",
    "    def __init__(self, \n",
    "                 prefix_length:int=1,\n",
    "                 device:str='cpu'):\n",
    "        super(BaseModel, self).__init__()\n",
    "        \n",
    "        self.prefix_length = prefix_length\n",
    "        self.device = device\n",
    "    def __post_init__(self):\n",
    "        self.double()\n",
    "        \n",
    "    def decode(self,\n",
    "               input_x:np.array,\n",
    "               max_length:int):\n",
    "        '''\n",
    "        input_x: List(prefix_length, )\n",
    "        max_length: target decode length\n",
    "        '''\n",
    "        if not self.prefix_length != len(input_x):\n",
    "            assert(f'Error input sequence must be prefix_length shape:{self.prefix_length}')\n",
    "\n",
    "        test_x = input_x\n",
    "        \n",
    "        # decode to target length\n",
    "        for i in range(max_length+1):\n",
    "            online_x = np.array(test_x[-self.prefix_length:])\n",
    "            online_x = torch.tensor(online_x).reshape((1,online_x.shape[0])).double().to(self.device)\n",
    "            test_x += self.forward(online_x).flatten().detach().numpy().tolist() #测试值加入原来序列用来继续预测下一个点\n",
    "\n",
    "        # list\n",
    "        return test_x\n",
    "        \n",
    "    def forward(self, \n",
    "                x:torch.Tensor):\n",
    "        '''\n",
    "        x: (prefix_length, )\n",
    "        '''\n",
    "        pass"
   ]
  },
  {
   "cell_type": "code",
   "execution_count": 107,
   "id": "82ee98a3-e9c3-441a-a1a2-19cc6fadf946",
   "metadata": {},
   "outputs": [],
   "source": [
    "seq_length = 32\n",
    "qk_dim = 27\n",
    "v_dim = 16\n",
    "feature_size = 15"
   ]
  },
  {
   "cell_type": "code",
   "execution_count": 108,
   "id": "361a1ac3-9f03-4b5c-b368-d32488ba33a5",
   "metadata": {},
   "outputs": [],
   "source": [
    "test = torch.rand((64,seq_length,feature_size))"
   ]
  },
  {
   "cell_type": "code",
   "execution_count": null,
   "id": "dce86dc2-2806-4e43-a1a9-a696099d473d",
   "metadata": {},
   "outputs": [],
   "source": []
  },
  {
   "cell_type": "code",
   "execution_count": 159,
   "id": "e78a22d8-6d80-48b9-93d1-70c451078a0e",
   "metadata": {},
   "outputs": [
    {
     "data": {
      "text/plain": [
       "tensor([[2.2444e-02, 7.2334e-06, 4.4520e-08,  ..., 1.7668e+00, 8.5258e-03,\n",
       "         2.9210e-11],\n",
       "        [1.0293e-04, 7.6019e-10, 6.8511e-05,  ..., 5.4977e-06, 1.1236e-13,\n",
       "         9.6503e-14],\n",
       "        [1.1169e-15, 2.4231e-14, 5.8862e-13,  ..., 4.2319e-08, 2.3968e-15,\n",
       "         4.9414e-09],\n",
       "        ...,\n",
       "        [2.8327e-01, 5.1940e-10, 2.9674e-04,  ..., 2.4121e-02, 1.1275e-10,\n",
       "         1.1343e+02],\n",
       "        [1.3729e-08, 5.1293e-08, 2.6458e-06,  ..., 7.7526e-09, 4.7116e-11,\n",
       "         3.5908e-09],\n",
       "        [6.4114e-12, 4.5240e-09, 2.6529e-14,  ..., 1.9229e-14, 1.5990e-08,\n",
       "         4.8074e-13]], grad_fn=<SqueezeBackward0>)"
      ]
     },
     "execution_count": 159,
     "metadata": {},
     "output_type": "execute_result"
    }
   ],
   "source": []
  },
  {
   "cell_type": "code",
   "execution_count": null,
   "id": "b0be31f2-029c-4e24-a388-e4d9796f30c8",
   "metadata": {},
   "outputs": [],
   "source": []
  },
  {
   "cell_type": "code",
   "execution_count": null,
   "id": "e5459413-985e-4b2a-b6fa-a44a86c5e1a5",
   "metadata": {},
   "outputs": [],
   "source": []
  },
  {
   "cell_type": "code",
   "execution_count": 195,
   "id": "2886d724-6d93-4356-ac8f-117010758219",
   "metadata": {},
   "outputs": [],
   "source": [
    "class RNNATTModel(BaseModel):\n",
    "\n",
    "    def __init__(self,\n",
    "                 feature_size:int,\n",
    "                 qk_dim:int,\n",
    "                 v_dim:int,\n",
    "                 num_layers:int=1,\n",
    "                 prefix_length:int=1,\n",
    "                 device:str='cpu'):\n",
    "        super(RNNATTModel, self).__init__(\n",
    "            prefix_length=prefix_length,\n",
    "               device=device\n",
    "        )\n",
    "        self.feature_size = feature_size\n",
    "        self.qk_dim = qk_dim\n",
    "        self.v_dim = v_dim\n",
    "        # 只有一个channel 所以默认input_size和hidden_size为1，没啥需要设置的参数\n",
    "        self.RNNLayer = torch.nn.RNN(input_size=1,\n",
    "                                                hidden_size=self.prefix_length,\n",
    "                                                num_layers=num_layers,\n",
    "                                                batch_first=True,\n",
    "                                                dropout=0.5,\n",
    "                                                bidirectional=False)\n",
    "        \n",
    "        \n",
    "        self.wq = torch.nn.Parameter(torch.rand((self.qk_dim,self.feature_size)))\n",
    "        self.wk = torch.nn.Parameter(torch.rand((self.qk_dim,self.feature_size)))\n",
    "        self.wv = torch.nn.Parameter(torch.rand((self.v_dim,self.feature_size)))\n",
    "        \n",
    "        self.OutLinearLayer = torch.nn.Linear(in_features=self.prefix_length,\n",
    "                                              out_features=1)\n",
    "        \n",
    "        self.__post_init__()\n",
    "\n",
    "    def SelfAttention(self,\n",
    "                      x:torch.Tensor):\n",
    "        \n",
    "        kval = x.matmul(self.wk.T)\n",
    "        qval = x.matmul(self.wq.T)\n",
    "        vval = x.matmul(self.wv.T)\n",
    "\n",
    "        omega = qval.matmul(torch.einsum('ijk->ikj',kval))\n",
    "        \n",
    "        omega = omega/np.sqrt(self.qk_dim)\n",
    "        \n",
    "        omega = torch.nn.functional.softmax(omega,1)\n",
    "        \n",
    "        att_out = omega.matmul(vval)\n",
    "        \n",
    "        pool_out = torch.nn.AvgPool1d(kernel_size=self.v_dim)(att_out).squeeze()\n",
    "\n",
    "        return pool_out\n",
    "        \n",
    "    def forward(self,\n",
    "                x:torch.Tensor):\n",
    "        x = x.reshape(x.shape[0],x.shape[1],1)\n",
    "        \n",
    "        out, _ = self.RNNLayer(x)       # out shape: (batch_size, feature_size, hidden_dim)\n",
    "        self_out = self.SelfAttention(out)\n",
    "        y = self.OutLinearLayer(self_out)      # out shape: (batch_size, 1)\n",
    "        \n",
    "        return y"
   ]
  },
  {
   "cell_type": "code",
   "execution_count": null,
   "id": "4903c823-8ecb-42f8-802e-2b7155628e26",
   "metadata": {},
   "outputs": [],
   "source": []
  },
  {
   "cell_type": "code",
   "execution_count": 196,
   "id": "970b48e2-1a09-428a-8a98-27d6abcbe2fb",
   "metadata": {},
   "outputs": [],
   "source": [
    "window_size = 32\n",
    "epoch = 10_00_000\n",
    "learning_rate = 1e-4    # learning rate\n",
    "weight_decay = 0.0\n",
    "feature_size = 32\n",
    "qk_dim = 32\n",
    "v_dim = 16\n",
    "num_layers = 2\n",
    "batch_size = 512"
   ]
  },
  {
   "cell_type": "code",
   "execution_count": 197,
   "id": "692db3df-e6bd-4b61-bbe5-e0b2e6169da4",
   "metadata": {},
   "outputs": [],
   "source": [
    "eval_step = 1000"
   ]
  },
  {
   "cell_type": "code",
   "execution_count": 198,
   "id": "612a400d-7d52-4d1b-9984-9e58aca7bbf4",
   "metadata": {},
   "outputs": [],
   "source": [
    "data_dict = bmap"
   ]
  },
  {
   "cell_type": "code",
   "execution_count": 202,
   "id": "7e09ad2b-be7a-4278-afef-062136700527",
   "metadata": {},
   "outputs": [],
   "source": [
    "model = RNNATTModel(feature_size=feature_size,\n",
    "                 qk_dim=qk_dim,\n",
    "                    v_dim=v_dim,\n",
    "                    num_layers=num_layers,\n",
    "                 prefix_length=window_size)"
   ]
  },
  {
   "cell_type": "code",
   "execution_count": 206,
   "id": "fafac68b-f1a2-4aca-806a-661d9d5db9c8",
   "metadata": {
    "scrolled": true
   },
   "outputs": [],
   "source": [
    "optimizer = torch.optim.Adam(model.parameters(), \n",
    "                             lr=learning_rate, \n",
    "                             weight_decay=weight_decay)\n",
    "criterion = torch.nn.MSELoss()"
   ]
  },
  {
   "cell_type": "code",
   "execution_count": 207,
   "id": "1b5889f4-f18f-4446-a740-b7eba76cf15a",
   "metadata": {},
   "outputs": [],
   "source": [
    "on_test_log = True"
   ]
  },
  {
   "cell_type": "code",
   "execution_count": 208,
   "id": "f22640bc-ae1a-442c-bded-520b4b744e9a",
   "metadata": {},
   "outputs": [],
   "source": [
    "train_dataset = NASALiBatteryDataset(fpath='../data/processed/nasa-li-battery_dict_240906.pkl')"
   ]
  },
  {
   "cell_type": "code",
   "execution_count": 209,
   "id": "bf7f5180-15f5-441f-8fb4-339868c0e63c",
   "metadata": {},
   "outputs": [],
   "source": [
    "train_loader = torch.utils.data.DataLoader(dataset=train_dataset,batch_size=batch_size,shuffle=False)"
   ]
  },
  {
   "cell_type": "code",
   "execution_count": 210,
   "id": "e28b859d-cf74-4488-a895-69184970c3a9",
   "metadata": {
    "editable": true,
    "scrolled": true,
    "slideshow": {
     "slide_type": ""
    },
    "tags": []
   },
   "outputs": [
    {
     "name": "stderr",
     "output_type": "stream",
     "text": [
      "  0%|          | 0/1000000 [00:00<?, ?it/s]"
     ]
    },
    {
     "name": "stdout",
     "output_type": "stream",
     "text": [
      "---------------------------------------------------\n"
     ]
    },
    {
     "name": "stderr",
     "output_type": "stream",
     "text": [
      "  0%|          | 3/1000000 [00:00<54:14:51,  5.12it/s] "
     ]
    },
    {
     "name": "stdout",
     "output_type": "stream",
     "text": [
      "Epoch:0 Loss:3.55145936 MAE:1.6083 | RMSE:1.7614\n"
     ]
    },
    {
     "name": "stderr",
     "output_type": "stream",
     "text": [
      "  0%|          | 999/1000000 [01:13<20:33:53, 13.49it/s]"
     ]
    },
    {
     "name": "stdout",
     "output_type": "stream",
     "text": [
      "---------------------------------------------------\n"
     ]
    },
    {
     "name": "stderr",
     "output_type": "stream",
     "text": [
      "  0%|          | 1003/1000000 [01:13<32:49:19,  8.45it/s]"
     ]
    },
    {
     "name": "stdout",
     "output_type": "stream",
     "text": [
      "Epoch:1000 Loss:0.10465619 MAE:0.8390 | RMSE:0.9219\n"
     ]
    },
    {
     "name": "stderr",
     "output_type": "stream",
     "text": [
      "  0%|          | 1999/1000000 [02:26<20:03:07, 13.83it/s]"
     ]
    },
    {
     "name": "stdout",
     "output_type": "stream",
     "text": [
      "---------------------------------------------------\n"
     ]
    },
    {
     "name": "stderr",
     "output_type": "stream",
     "text": [
      "  0%|          | 2003/1000000 [02:27<32:19:53,  8.57it/s]"
     ]
    },
    {
     "name": "stdout",
     "output_type": "stream",
     "text": [
      "Epoch:2000 Loss:0.05346659 MAE:0.5772 | RMSE:0.6350\n"
     ]
    },
    {
     "name": "stderr",
     "output_type": "stream",
     "text": [
      "  0%|          | 2999/1000000 [03:40<19:37:52, 14.11it/s]"
     ]
    },
    {
     "name": "stdout",
     "output_type": "stream",
     "text": [
      "---------------------------------------------------\n"
     ]
    },
    {
     "name": "stderr",
     "output_type": "stream",
     "text": [
      "  0%|          | 3003/1000000 [03:40<32:31:39,  8.51it/s]"
     ]
    },
    {
     "name": "stdout",
     "output_type": "stream",
     "text": [
      "Epoch:3000 Loss:0.03613245 MAE:0.4469 | RMSE:0.4918\n"
     ]
    },
    {
     "name": "stderr",
     "output_type": "stream",
     "text": [
      "  0%|          | 3999/1000000 [04:53<21:07:22, 13.10it/s]"
     ]
    },
    {
     "name": "stdout",
     "output_type": "stream",
     "text": [
      "---------------------------------------------------\n"
     ]
    },
    {
     "name": "stderr",
     "output_type": "stream",
     "text": [
      "  0%|          | 4003/1000000 [04:54<31:43:16,  8.72it/s]"
     ]
    },
    {
     "name": "stdout",
     "output_type": "stream",
     "text": [
      "Epoch:4000 Loss:0.02740916 MAE:0.3696 | RMSE:0.4069\n"
     ]
    },
    {
     "name": "stderr",
     "output_type": "stream",
     "text": [
      "  0%|          | 4999/1000000 [06:07<19:49:51, 13.94it/s]"
     ]
    },
    {
     "name": "stdout",
     "output_type": "stream",
     "text": [
      "---------------------------------------------------\n"
     ]
    },
    {
     "name": "stderr",
     "output_type": "stream",
     "text": [
      "  1%|          | 5003/1000000 [06:07<31:26:28,  8.79it/s]"
     ]
    },
    {
     "name": "stdout",
     "output_type": "stream",
     "text": [
      "Epoch:5000 Loss:0.02211832 MAE:0.3184 | RMSE:0.3507\n"
     ]
    },
    {
     "name": "stderr",
     "output_type": "stream",
     "text": [
      "  1%|          | 5999/1000000 [07:20<20:02:59, 13.77it/s]"
     ]
    },
    {
     "name": "stdout",
     "output_type": "stream",
     "text": [
      "---------------------------------------------------\n"
     ]
    },
    {
     "name": "stderr",
     "output_type": "stream",
     "text": [
      "  1%|          | 6003/1000000 [07:21<32:58:12,  8.37it/s]"
     ]
    },
    {
     "name": "stdout",
     "output_type": "stream",
     "text": [
      "Epoch:6000 Loss:0.01856944 MAE:0.2833 | RMSE:0.3119\n"
     ]
    },
    {
     "name": "stderr",
     "output_type": "stream",
     "text": [
      "  1%|          | 6999/1000000 [08:34<20:15:40, 13.61it/s]"
     ]
    },
    {
     "name": "stdout",
     "output_type": "stream",
     "text": [
      "---------------------------------------------------\n"
     ]
    },
    {
     "name": "stderr",
     "output_type": "stream",
     "text": [
      "  1%|          | 7003/1000000 [08:34<31:52:24,  8.65it/s]"
     ]
    },
    {
     "name": "stdout",
     "output_type": "stream",
     "text": [
      "Epoch:7000 Loss:0.01602475 MAE:0.2557 | RMSE:0.2818\n"
     ]
    },
    {
     "name": "stderr",
     "output_type": "stream",
     "text": [
      "  1%|          | 7999/1000000 [09:47<19:45:17, 13.95it/s]"
     ]
    },
    {
     "name": "stdout",
     "output_type": "stream",
     "text": [
      "---------------------------------------------------\n"
     ]
    },
    {
     "name": "stderr",
     "output_type": "stream",
     "text": [
      "  1%|          | 8003/1000000 [09:47<30:45:47,  8.96it/s]"
     ]
    },
    {
     "name": "stdout",
     "output_type": "stream",
     "text": [
      "Epoch:8000 Loss:0.01411018 MAE:0.2344 | RMSE:0.2585\n"
     ]
    },
    {
     "name": "stderr",
     "output_type": "stream",
     "text": [
      "  1%|          | 8999/1000000 [11:00<20:21:48, 13.52it/s]"
     ]
    },
    {
     "name": "stdout",
     "output_type": "stream",
     "text": [
      "---------------------------------------------------\n"
     ]
    },
    {
     "name": "stderr",
     "output_type": "stream",
     "text": [
      "  1%|          | 9003/1000000 [11:01<33:42:49,  8.17it/s]"
     ]
    },
    {
     "name": "stdout",
     "output_type": "stream",
     "text": [
      "Epoch:9000 Loss:0.01261744 MAE:0.2174 | RMSE:0.2399\n"
     ]
    },
    {
     "name": "stderr",
     "output_type": "stream",
     "text": [
      "  1%|          | 9999/1000000 [12:13<20:06:53, 13.67it/s]"
     ]
    },
    {
     "name": "stdout",
     "output_type": "stream",
     "text": [
      "---------------------------------------------------\n"
     ]
    },
    {
     "name": "stderr",
     "output_type": "stream",
     "text": [
      "  1%|          | 10003/1000000 [12:14<31:03:39,  8.85it/s]"
     ]
    },
    {
     "name": "stdout",
     "output_type": "stream",
     "text": [
      "Epoch:10000 Loss:0.01142054 MAE:0.2033 | RMSE:0.2245\n"
     ]
    },
    {
     "name": "stderr",
     "output_type": "stream",
     "text": [
      "  1%|          | 10999/1000000 [13:27<20:09:09, 13.63it/s]"
     ]
    },
    {
     "name": "stdout",
     "output_type": "stream",
     "text": [
      "---------------------------------------------------\n"
     ]
    },
    {
     "name": "stderr",
     "output_type": "stream",
     "text": [
      "  1%|          | 11003/1000000 [13:27<32:59:53,  8.33it/s]"
     ]
    },
    {
     "name": "stdout",
     "output_type": "stream",
     "text": [
      "Epoch:11000 Loss:0.01043936 MAE:0.1909 | RMSE:0.2109\n"
     ]
    },
    {
     "name": "stderr",
     "output_type": "stream",
     "text": [
      "  1%|          | 11999/1000000 [14:40<20:08:20, 13.63it/s]"
     ]
    },
    {
     "name": "stdout",
     "output_type": "stream",
     "text": [
      "---------------------------------------------------\n"
     ]
    },
    {
     "name": "stderr",
     "output_type": "stream",
     "text": [
      "  1%|          | 12003/1000000 [14:41<31:57:08,  8.59it/s]"
     ]
    },
    {
     "name": "stdout",
     "output_type": "stream",
     "text": [
      "Epoch:12000 Loss:0.00962011 MAE:0.1808 | RMSE:0.1998\n"
     ]
    },
    {
     "name": "stderr",
     "output_type": "stream",
     "text": [
      "  1%|▏         | 12999/1000000 [15:54<19:59:49, 13.71it/s]"
     ]
    },
    {
     "name": "stdout",
     "output_type": "stream",
     "text": [
      "---------------------------------------------------\n"
     ]
    },
    {
     "name": "stderr",
     "output_type": "stream",
     "text": [
      "  1%|▏         | 13003/1000000 [15:54<31:43:19,  8.64it/s]"
     ]
    },
    {
     "name": "stdout",
     "output_type": "stream",
     "text": [
      "Epoch:13000 Loss:0.00892554 MAE:0.1761 | RMSE:0.1948\n"
     ]
    },
    {
     "name": "stderr",
     "output_type": "stream",
     "text": [
      "  1%|▏         | 13999/1000000 [17:07<20:09:00, 13.59it/s]"
     ]
    },
    {
     "name": "stdout",
     "output_type": "stream",
     "text": [
      "---------------------------------------------------\n"
     ]
    },
    {
     "name": "stderr",
     "output_type": "stream",
     "text": [
      "  1%|▏         | 14003/1000000 [17:07<31:28:45,  8.70it/s]"
     ]
    },
    {
     "name": "stdout",
     "output_type": "stream",
     "text": [
      "Epoch:14000 Loss:0.00832920 MAE:0.1684 | RMSE:0.1864\n"
     ]
    },
    {
     "name": "stderr",
     "output_type": "stream",
     "text": [
      "  1%|▏         | 14999/1000000 [18:20<19:50:53, 13.79it/s]"
     ]
    },
    {
     "name": "stdout",
     "output_type": "stream",
     "text": [
      "---------------------------------------------------\n"
     ]
    },
    {
     "name": "stderr",
     "output_type": "stream",
     "text": [
      "  2%|▏         | 15003/1000000 [18:21<31:44:25,  8.62it/s]"
     ]
    },
    {
     "name": "stdout",
     "output_type": "stream",
     "text": [
      "Epoch:15000 Loss:0.00781159 MAE:0.1608 | RMSE:0.1780\n"
     ]
    },
    {
     "name": "stderr",
     "output_type": "stream",
     "text": [
      "  2%|▏         | 15999/1000000 [19:33<20:33:51, 13.29it/s]"
     ]
    },
    {
     "name": "stdout",
     "output_type": "stream",
     "text": [
      "---------------------------------------------------\n"
     ]
    },
    {
     "name": "stderr",
     "output_type": "stream",
     "text": [
      "  2%|▏         | 16003/1000000 [19:34<32:30:29,  8.41it/s]"
     ]
    },
    {
     "name": "stdout",
     "output_type": "stream",
     "text": [
      "Epoch:16000 Loss:0.00735762 MAE:0.1553 | RMSE:0.1720\n"
     ]
    },
    {
     "name": "stderr",
     "output_type": "stream",
     "text": [
      "  2%|▏         | 16999/1000000 [20:46<19:58:37, 13.67it/s]"
     ]
    },
    {
     "name": "stdout",
     "output_type": "stream",
     "text": [
      "---------------------------------------------------\n"
     ]
    },
    {
     "name": "stderr",
     "output_type": "stream",
     "text": [
      "  2%|▏         | 17003/1000000 [20:47<32:15:43,  8.46it/s]"
     ]
    },
    {
     "name": "stdout",
     "output_type": "stream",
     "text": [
      "Epoch:17000 Loss:0.00695652 MAE:0.1505 | RMSE:0.1669\n"
     ]
    },
    {
     "name": "stderr",
     "output_type": "stream",
     "text": [
      "  2%|▏         | 17999/1000000 [22:00<20:03:11, 13.60it/s]"
     ]
    },
    {
     "name": "stdout",
     "output_type": "stream",
     "text": [
      "---------------------------------------------------\n"
     ]
    },
    {
     "name": "stderr",
     "output_type": "stream",
     "text": [
      "  2%|▏         | 18003/1000000 [22:01<31:09:14,  8.76it/s]"
     ]
    },
    {
     "name": "stdout",
     "output_type": "stream",
     "text": [
      "Epoch:18000 Loss:0.00659939 MAE:0.1464 | RMSE:0.1624\n"
     ]
    },
    {
     "name": "stderr",
     "output_type": "stream",
     "text": [
      "  2%|▏         | 19000/1000000 [37:38<20:28:07, 13.31it/s] "
     ]
    },
    {
     "name": "stdout",
     "output_type": "stream",
     "text": [
      "---------------------------------------------------\n"
     ]
    },
    {
     "name": "stderr",
     "output_type": "stream",
     "text": [
      "  2%|▏         | 19002/1000000 [37:39<37:23:47,  7.29it/s]"
     ]
    },
    {
     "name": "stdout",
     "output_type": "stream",
     "text": [
      "Epoch:19000 Loss:0.00627950 MAE:0.1418 | RMSE:0.1574\n"
     ]
    },
    {
     "name": "stderr",
     "output_type": "stream",
     "text": [
      "  2%|▏         | 20000/1000000 [38:52<20:18:26, 13.41it/s]"
     ]
    },
    {
     "name": "stdout",
     "output_type": "stream",
     "text": [
      "---------------------------------------------------\n"
     ]
    },
    {
     "name": "stderr",
     "output_type": "stream",
     "text": [
      "  2%|▏         | 20002/1000000 [38:53<37:35:17,  7.24it/s]"
     ]
    },
    {
     "name": "stdout",
     "output_type": "stream",
     "text": [
      "Epoch:20000 Loss:0.00599102 MAE:0.1373 | RMSE:0.1524\n"
     ]
    },
    {
     "name": "stderr",
     "output_type": "stream",
     "text": [
      "  2%|▏         | 21000/1000000 [40:06<20:29:41, 13.27it/s]"
     ]
    },
    {
     "name": "stdout",
     "output_type": "stream",
     "text": [
      "---------------------------------------------------\n"
     ]
    },
    {
     "name": "stderr",
     "output_type": "stream",
     "text": [
      "  2%|▏         | 21002/1000000 [40:07<37:23:14,  7.27it/s]"
     ]
    },
    {
     "name": "stdout",
     "output_type": "stream",
     "text": [
      "Epoch:21000 Loss:0.00572965 MAE:0.1335 | RMSE:0.1483\n"
     ]
    },
    {
     "name": "stderr",
     "output_type": "stream",
     "text": [
      "  2%|▏         | 22000/1000000 [41:20<19:50:22, 13.69it/s]"
     ]
    },
    {
     "name": "stdout",
     "output_type": "stream",
     "text": [
      "---------------------------------------------------\n"
     ]
    },
    {
     "name": "stderr",
     "output_type": "stream",
     "text": [
      "  2%|▏         | 22002/1000000 [41:20<36:54:39,  7.36it/s]"
     ]
    },
    {
     "name": "stdout",
     "output_type": "stream",
     "text": [
      "Epoch:22000 Loss:0.00549151 MAE:0.1300 | RMSE:0.1445\n"
     ]
    },
    {
     "name": "stderr",
     "output_type": "stream",
     "text": [
      "  2%|▏         | 23000/1000000 [42:34<21:06:28, 12.86it/s]"
     ]
    },
    {
     "name": "stdout",
     "output_type": "stream",
     "text": [
      "---------------------------------------------------\n"
     ]
    },
    {
     "name": "stderr",
     "output_type": "stream",
     "text": [
      "  2%|▏         | 23002/1000000 [42:34<39:45:04,  6.83it/s]"
     ]
    },
    {
     "name": "stdout",
     "output_type": "stream",
     "text": [
      "Epoch:23000 Loss:0.00527360 MAE:0.1265 | RMSE:0.1407\n"
     ]
    },
    {
     "name": "stderr",
     "output_type": "stream",
     "text": [
      "  2%|▏         | 24000/1000000 [43:48<19:49:19, 13.68it/s]"
     ]
    },
    {
     "name": "stdout",
     "output_type": "stream",
     "text": [
      "---------------------------------------------------\n"
     ]
    },
    {
     "name": "stderr",
     "output_type": "stream",
     "text": [
      "  2%|▏         | 24002/1000000 [43:48<36:49:47,  7.36it/s]"
     ]
    },
    {
     "name": "stdout",
     "output_type": "stream",
     "text": [
      "Epoch:24000 Loss:0.00507332 MAE:0.1248 | RMSE:0.1388\n"
     ]
    },
    {
     "name": "stderr",
     "output_type": "stream",
     "text": [
      "  2%|▎         | 25000/1000000 [45:02<19:25:25, 13.94it/s]"
     ]
    },
    {
     "name": "stdout",
     "output_type": "stream",
     "text": [
      "---------------------------------------------------\n"
     ]
    },
    {
     "name": "stderr",
     "output_type": "stream",
     "text": [
      "  3%|▎         | 25002/1000000 [45:02<35:55:48,  7.54it/s]"
     ]
    },
    {
     "name": "stdout",
     "output_type": "stream",
     "text": [
      "Epoch:25000 Loss:0.00488860 MAE:0.1223 | RMSE:0.1361\n"
     ]
    },
    {
     "name": "stderr",
     "output_type": "stream",
     "text": [
      "  3%|▎         | 26000/1000000 [46:15<19:46:06, 13.69it/s]"
     ]
    },
    {
     "name": "stdout",
     "output_type": "stream",
     "text": [
      "---------------------------------------------------\n"
     ]
    },
    {
     "name": "stderr",
     "output_type": "stream",
     "text": [
      "  3%|▎         | 26002/1000000 [46:16<36:16:33,  7.46it/s]"
     ]
    },
    {
     "name": "stdout",
     "output_type": "stream",
     "text": [
      "Epoch:26000 Loss:0.00471771 MAE:0.1209 | RMSE:0.1346\n"
     ]
    },
    {
     "name": "stderr",
     "output_type": "stream",
     "text": [
      "  3%|▎         | 27000/1000000 [47:29<19:46:11, 13.67it/s]"
     ]
    },
    {
     "name": "stdout",
     "output_type": "stream",
     "text": [
      "---------------------------------------------------\n"
     ]
    },
    {
     "name": "stderr",
     "output_type": "stream",
     "text": [
      "  3%|▎         | 27002/1000000 [47:30<36:06:20,  7.49it/s]"
     ]
    },
    {
     "name": "stdout",
     "output_type": "stream",
     "text": [
      "Epoch:27000 Loss:0.00455907 MAE:0.1204 | RMSE:0.1340\n"
     ]
    },
    {
     "name": "stderr",
     "output_type": "stream",
     "text": [
      "  3%|▎         | 28000/1000000 [48:43<20:12:39, 13.36it/s]"
     ]
    },
    {
     "name": "stdout",
     "output_type": "stream",
     "text": [
      "---------------------------------------------------\n"
     ]
    },
    {
     "name": "stderr",
     "output_type": "stream",
     "text": [
      "  3%|▎         | 28002/1000000 [48:44<37:01:26,  7.29it/s]"
     ]
    },
    {
     "name": "stdout",
     "output_type": "stream",
     "text": [
      "Epoch:28000 Loss:0.00441146 MAE:0.1179 | RMSE:0.1313\n"
     ]
    },
    {
     "name": "stderr",
     "output_type": "stream",
     "text": [
      "  3%|▎         | 29000/1000000 [49:58<19:33:21, 13.79it/s]"
     ]
    },
    {
     "name": "stdout",
     "output_type": "stream",
     "text": [
      "---------------------------------------------------\n"
     ]
    },
    {
     "name": "stderr",
     "output_type": "stream",
     "text": [
      "  3%|▎         | 29004/1000000 [49:58<31:14:29,  8.63it/s]"
     ]
    },
    {
     "name": "stdout",
     "output_type": "stream",
     "text": [
      "Epoch:29000 Loss:0.00427375 MAE:0.1153 | RMSE:0.1285\n"
     ]
    },
    {
     "name": "stderr",
     "output_type": "stream",
     "text": [
      "  3%|▎         | 30000/1000000 [51:12<19:19:48, 13.94it/s]"
     ]
    },
    {
     "name": "stdout",
     "output_type": "stream",
     "text": [
      "---------------------------------------------------\n"
     ]
    },
    {
     "name": "stderr",
     "output_type": "stream",
     "text": [
      "  3%|▎         | 30002/1000000 [51:13<36:58:56,  7.29it/s]"
     ]
    },
    {
     "name": "stdout",
     "output_type": "stream",
     "text": [
      "Epoch:30000 Loss:0.00414497 MAE:0.1130 | RMSE:0.1260\n"
     ]
    },
    {
     "name": "stderr",
     "output_type": "stream",
     "text": [
      "  3%|▎         | 31000/1000000 [52:26<20:59:57, 12.82it/s]"
     ]
    },
    {
     "name": "stdout",
     "output_type": "stream",
     "text": [
      "---------------------------------------------------\n"
     ]
    },
    {
     "name": "stderr",
     "output_type": "stream",
     "text": [
      "  3%|▎         | 31002/1000000 [52:27<36:52:05,  7.30it/s]"
     ]
    },
    {
     "name": "stdout",
     "output_type": "stream",
     "text": [
      "Epoch:31000 Loss:0.00402434 MAE:0.1107 | RMSE:0.1235\n"
     ]
    },
    {
     "name": "stderr",
     "output_type": "stream",
     "text": [
      "  3%|▎         | 32000/1000000 [53:40<19:29:42, 13.79it/s]"
     ]
    },
    {
     "name": "stdout",
     "output_type": "stream",
     "text": [
      "---------------------------------------------------\n"
     ]
    },
    {
     "name": "stderr",
     "output_type": "stream",
     "text": [
      "  3%|▎         | 32002/1000000 [53:40<36:25:51,  7.38it/s]"
     ]
    },
    {
     "name": "stdout",
     "output_type": "stream",
     "text": [
      "Epoch:32000 Loss:0.00391107 MAE:0.1101 | RMSE:0.1228\n"
     ]
    },
    {
     "name": "stderr",
     "output_type": "stream",
     "text": [
      "  3%|▎         | 33000/1000000 [54:54<19:34:59, 13.72it/s]"
     ]
    },
    {
     "name": "stdout",
     "output_type": "stream",
     "text": [
      "---------------------------------------------------\n"
     ]
    },
    {
     "name": "stderr",
     "output_type": "stream",
     "text": [
      "  3%|▎         | 33002/1000000 [54:54<36:22:07,  7.39it/s]"
     ]
    },
    {
     "name": "stdout",
     "output_type": "stream",
     "text": [
      "Epoch:33000 Loss:0.00380453 MAE:0.1080 | RMSE:0.1205\n"
     ]
    },
    {
     "name": "stderr",
     "output_type": "stream",
     "text": [
      "  3%|▎         | 34000/1000000 [56:07<19:11:47, 13.98it/s]"
     ]
    },
    {
     "name": "stdout",
     "output_type": "stream",
     "text": [
      "---------------------------------------------------\n"
     ]
    },
    {
     "name": "stderr",
     "output_type": "stream",
     "text": [
      "  3%|▎         | 34002/1000000 [56:08<36:48:18,  7.29it/s]"
     ]
    },
    {
     "name": "stdout",
     "output_type": "stream",
     "text": [
      "Epoch:34000 Loss:0.00370412 MAE:0.1063 | RMSE:0.1186\n"
     ]
    },
    {
     "name": "stderr",
     "output_type": "stream",
     "text": [
      "  4%|▎         | 35000/1000000 [57:21<19:35:13, 13.69it/s]"
     ]
    },
    {
     "name": "stdout",
     "output_type": "stream",
     "text": [
      "---------------------------------------------------\n"
     ]
    },
    {
     "name": "stderr",
     "output_type": "stream",
     "text": [
      "  4%|▎         | 35002/1000000 [57:21<36:11:39,  7.41it/s]"
     ]
    },
    {
     "name": "stdout",
     "output_type": "stream",
     "text": [
      "Epoch:35000 Loss:0.00360933 MAE:0.1061 | RMSE:0.1185\n"
     ]
    },
    {
     "name": "stderr",
     "output_type": "stream",
     "text": [
      "  4%|▎         | 36000/1000000 [58:35<20:25:34, 13.11it/s]"
     ]
    },
    {
     "name": "stdout",
     "output_type": "stream",
     "text": [
      "---------------------------------------------------\n"
     ]
    },
    {
     "name": "stderr",
     "output_type": "stream",
     "text": [
      "  4%|▎         | 36002/1000000 [58:35<36:20:41,  7.37it/s]"
     ]
    },
    {
     "name": "stdout",
     "output_type": "stream",
     "text": [
      "Epoch:36000 Loss:0.00351969 MAE:0.1047 | RMSE:0.1169\n"
     ]
    },
    {
     "name": "stderr",
     "output_type": "stream",
     "text": [
      "  4%|▎         | 37000/1000000 [59:48<19:47:48, 13.51it/s]"
     ]
    },
    {
     "name": "stdout",
     "output_type": "stream",
     "text": [
      "---------------------------------------------------\n"
     ]
    },
    {
     "name": "stderr",
     "output_type": "stream",
     "text": [
      "  4%|▎         | 37002/1000000 [59:49<36:32:26,  7.32it/s]"
     ]
    },
    {
     "name": "stdout",
     "output_type": "stream",
     "text": [
      "Epoch:37000 Loss:0.00343481 MAE:0.1034 | RMSE:0.1156\n"
     ]
    },
    {
     "name": "stderr",
     "output_type": "stream",
     "text": [
      "  4%|▍         | 38000/1000000 [1:01:02<19:26:28, 13.75it/s]"
     ]
    },
    {
     "name": "stdout",
     "output_type": "stream",
     "text": [
      "---------------------------------------------------\n"
     ]
    },
    {
     "name": "stderr",
     "output_type": "stream",
     "text": [
      "  4%|▍         | 38002/1000000 [1:01:03<35:00:19,  7.63it/s]"
     ]
    },
    {
     "name": "stdout",
     "output_type": "stream",
     "text": [
      "Epoch:38000 Loss:0.00335432 MAE:0.1020 | RMSE:0.1140\n"
     ]
    },
    {
     "name": "stderr",
     "output_type": "stream",
     "text": [
      "  4%|▍         | 39000/1000000 [1:02:16<19:09:36, 13.93it/s]"
     ]
    },
    {
     "name": "stdout",
     "output_type": "stream",
     "text": [
      "---------------------------------------------------\n"
     ]
    },
    {
     "name": "stderr",
     "output_type": "stream",
     "text": [
      "  4%|▍         | 39002/1000000 [1:02:16<36:38:46,  7.28it/s]"
     ]
    },
    {
     "name": "stdout",
     "output_type": "stream",
     "text": [
      "Epoch:39000 Loss:0.00327789 MAE:0.1017 | RMSE:0.1137\n"
     ]
    },
    {
     "name": "stderr",
     "output_type": "stream",
     "text": [
      "  4%|▍         | 40000/1000000 [1:03:29<19:42:01, 13.54it/s]"
     ]
    },
    {
     "name": "stdout",
     "output_type": "stream",
     "text": [
      "---------------------------------------------------\n"
     ]
    },
    {
     "name": "stderr",
     "output_type": "stream",
     "text": [
      "  4%|▍         | 40002/1000000 [1:03:30<36:21:53,  7.33it/s]"
     ]
    },
    {
     "name": "stdout",
     "output_type": "stream",
     "text": [
      "Epoch:40000 Loss:0.00320521 MAE:0.1007 | RMSE:0.1126\n"
     ]
    },
    {
     "name": "stderr",
     "output_type": "stream",
     "text": [
      "  4%|▍         | 41000/1000000 [1:04:43<19:26:28, 13.70it/s]"
     ]
    },
    {
     "name": "stdout",
     "output_type": "stream",
     "text": [
      "---------------------------------------------------\n"
     ]
    },
    {
     "name": "stderr",
     "output_type": "stream",
     "text": [
      "  4%|▍         | 41002/1000000 [1:04:44<38:03:24,  7.00it/s]"
     ]
    },
    {
     "name": "stdout",
     "output_type": "stream",
     "text": [
      "Epoch:41000 Loss:0.00313600 MAE:0.0995 | RMSE:0.1113\n"
     ]
    },
    {
     "name": "stderr",
     "output_type": "stream",
     "text": [
      "  4%|▍         | 41225/1000000 [1:05:00<25:11:58, 10.57it/s]\n"
     ]
    },
    {
     "ename": "KeyboardInterrupt",
     "evalue": "",
     "output_type": "error",
     "traceback": [
      "\u001b[1;31m---------------------------------------------------------------------------\u001b[0m",
      "\u001b[1;31mKeyboardInterrupt\u001b[0m                         Traceback (most recent call last)",
      "Cell \u001b[1;32mIn[210], line 11\u001b[0m\n\u001b[0;32m      9\u001b[0m loss \u001b[38;5;241m=\u001b[39m criterion(output, batch_y)\n\u001b[0;32m     10\u001b[0m optimizer\u001b[38;5;241m.\u001b[39mzero_grad()              \u001b[38;5;66;03m# clear gradients for this training step\u001b[39;00m\n\u001b[1;32m---> 11\u001b[0m loss\u001b[38;5;241m.\u001b[39mbackward()                    \u001b[38;5;66;03m# backpropagation, compute gradients\u001b[39;00m\n\u001b[0;32m     12\u001b[0m optimizer\u001b[38;5;241m.\u001b[39mstep()                   \u001b[38;5;66;03m# apply gradients\u001b[39;00m\n\u001b[0;32m     14\u001b[0m loss_list\u001b[38;5;241m.\u001b[39mappend(loss\u001b[38;5;241m.\u001b[39mdetach()\u001b[38;5;241m.\u001b[39mnumpy()\u001b[38;5;241m.\u001b[39mtolist())\n",
      "File \u001b[1;32mC:\\ProgramData\\anaconda3\\Lib\\site-packages\\torch\\_tensor.py:521\u001b[0m, in \u001b[0;36mTensor.backward\u001b[1;34m(self, gradient, retain_graph, create_graph, inputs)\u001b[0m\n\u001b[0;32m    511\u001b[0m \u001b[38;5;28;01mif\u001b[39;00m has_torch_function_unary(\u001b[38;5;28mself\u001b[39m):\n\u001b[0;32m    512\u001b[0m     \u001b[38;5;28;01mreturn\u001b[39;00m handle_torch_function(\n\u001b[0;32m    513\u001b[0m         Tensor\u001b[38;5;241m.\u001b[39mbackward,\n\u001b[0;32m    514\u001b[0m         (\u001b[38;5;28mself\u001b[39m,),\n\u001b[1;32m   (...)\u001b[0m\n\u001b[0;32m    519\u001b[0m         inputs\u001b[38;5;241m=\u001b[39minputs,\n\u001b[0;32m    520\u001b[0m     )\n\u001b[1;32m--> 521\u001b[0m torch\u001b[38;5;241m.\u001b[39mautograd\u001b[38;5;241m.\u001b[39mbackward(\n\u001b[0;32m    522\u001b[0m     \u001b[38;5;28mself\u001b[39m, gradient, retain_graph, create_graph, inputs\u001b[38;5;241m=\u001b[39minputs\n\u001b[0;32m    523\u001b[0m )\n",
      "File \u001b[1;32mC:\\ProgramData\\anaconda3\\Lib\\site-packages\\torch\\autograd\\__init__.py:289\u001b[0m, in \u001b[0;36mbackward\u001b[1;34m(tensors, grad_tensors, retain_graph, create_graph, grad_variables, inputs)\u001b[0m\n\u001b[0;32m    284\u001b[0m     retain_graph \u001b[38;5;241m=\u001b[39m create_graph\n\u001b[0;32m    286\u001b[0m \u001b[38;5;66;03m# The reason we repeat the same comment below is that\u001b[39;00m\n\u001b[0;32m    287\u001b[0m \u001b[38;5;66;03m# some Python versions print out the first line of a multi-line function\u001b[39;00m\n\u001b[0;32m    288\u001b[0m \u001b[38;5;66;03m# calls in the traceback and some print out the last line\u001b[39;00m\n\u001b[1;32m--> 289\u001b[0m _engine_run_backward(\n\u001b[0;32m    290\u001b[0m     tensors,\n\u001b[0;32m    291\u001b[0m     grad_tensors_,\n\u001b[0;32m    292\u001b[0m     retain_graph,\n\u001b[0;32m    293\u001b[0m     create_graph,\n\u001b[0;32m    294\u001b[0m     inputs,\n\u001b[0;32m    295\u001b[0m     allow_unreachable\u001b[38;5;241m=\u001b[39m\u001b[38;5;28;01mTrue\u001b[39;00m,\n\u001b[0;32m    296\u001b[0m     accumulate_grad\u001b[38;5;241m=\u001b[39m\u001b[38;5;28;01mTrue\u001b[39;00m,\n\u001b[0;32m    297\u001b[0m )\n",
      "File \u001b[1;32mC:\\ProgramData\\anaconda3\\Lib\\site-packages\\torch\\autograd\\graph.py:769\u001b[0m, in \u001b[0;36m_engine_run_backward\u001b[1;34m(t_outputs, *args, **kwargs)\u001b[0m\n\u001b[0;32m    767\u001b[0m     unregister_hooks \u001b[38;5;241m=\u001b[39m _register_logging_hooks_on_whole_graph(t_outputs)\n\u001b[0;32m    768\u001b[0m \u001b[38;5;28;01mtry\u001b[39;00m:\n\u001b[1;32m--> 769\u001b[0m     \u001b[38;5;28;01mreturn\u001b[39;00m Variable\u001b[38;5;241m.\u001b[39m_execution_engine\u001b[38;5;241m.\u001b[39mrun_backward(  \u001b[38;5;66;03m# Calls into the C++ engine to run the backward pass\u001b[39;00m\n\u001b[0;32m    770\u001b[0m         t_outputs, \u001b[38;5;241m*\u001b[39margs, \u001b[38;5;241m*\u001b[39m\u001b[38;5;241m*\u001b[39mkwargs\n\u001b[0;32m    771\u001b[0m     )  \u001b[38;5;66;03m# Calls into the C++ engine to run the backward pass\u001b[39;00m\n\u001b[0;32m    772\u001b[0m \u001b[38;5;28;01mfinally\u001b[39;00m:\n\u001b[0;32m    773\u001b[0m     \u001b[38;5;28;01mif\u001b[39;00m attach_logging_hooks:\n",
      "\u001b[1;31mKeyboardInterrupt\u001b[0m: "
     ]
    }
   ],
   "source": [
    "loss_list = [0]\n",
    "mae_lst,rmse_lst = [], []\n",
    "\n",
    "for i in tqdm(range(epoch)):\n",
    "    if i%eval_step==0 and on_test_log:\n",
    "        print('---------------------------------------------------')\n",
    "    for batch_x,batch_y in train_loader:\n",
    "        output= model(batch_x)\n",
    "        loss = criterion(output, batch_y)\n",
    "        optimizer.zero_grad()              # clear gradients for this training step\n",
    "        loss.backward()                    # backpropagation, compute gradients\n",
    "        optimizer.step()                   # apply gradients\n",
    "\n",
    "        loss_list.append(loss.detach().numpy().tolist())\n",
    "\n",
    "    if i%eval_step==0:\n",
    "        for name in data_dict.keys():\n",
    "            train_x, train_y, train_data, test_data = get_train_test(data_dict, name, window_size)\n",
    "            \n",
    "            prefix_x = data_dict[name][1][:window_size]\n",
    "            decode_seq = model.decode(prefix_x,max_length=len(test_data))[window_size+1:]\n",
    "            mae, rmse = evaluation(y_test=test_data, y_predict=decode_seq)\n",
    "            \n",
    "            mae_lst.append(mae)\n",
    "            rmse_lst.append(rmse)\n",
    "        \n",
    "        if on_test_log:\n",
    "            print(f'Epoch:{i} Loss:{np.average(loss_list):.8f} MAE:{np.average(mae_lst):.4f} | RMSE:{np.average(rmse_lst):.4f}')"
   ]
  },
  {
   "cell_type": "code",
   "execution_count": 211,
   "id": "b0f7f95f-35a4-4e1f-b566-ee27262eff9a",
   "metadata": {
    "scrolled": true
   },
   "outputs": [
    {
     "data": {
      "image/png": "[encoded data removed]",
      "text/plain": [
       "<Figure size 1200x800 with 1 Axes>"
      ]
     },
     "metadata": {},
     "output_type": "display_data"
    },
    {
     "data": {
      "image/png": "[encoded data removed]",
      "text/plain": [
       "<Figure size 1200x800 with 1 Axes>"
      ]
     },
     "metadata": {},
     "output_type": "display_data"
    },
    {
     "data": {
      "image/png": "[encoded data removed]",
      "text/plain": [
       "<Figure size 1200x800 with 1 Axes>"
      ]
     },
     "metadata": {},
     "output_type": "display_data"
    },
    {
     "data": {
      "image/png": "[encoded data removed]",
      "text/plain": [
       "<Figure size 1200x800 with 1 Axes>"
      ]
     },
     "metadata": {},
     "output_type": "display_data"
    }
   ],
   "source": [
    "for name in data_dict.keys():\n",
    "    train_x, train_y, train_data, test_data = get_train_test(data_dict, name, window_size)\n",
    "\n",
    "    real = data_dict[name][1]\n",
    "    prefix_x = data_dict[name][1][:window_size]\n",
    "    decode_seq = model.decode(prefix_x,max_length=len(test_data))\n",
    "    \n",
    "    plot(name=name,\n",
    "         real_data=real,\n",
    "        pred_data=decode_seq)"
   ]
  },
  {
   "cell_type": "code",
   "execution_count": null,
   "id": "11b52eae-dc65-4aa8-a5fb-91b14bcc76dd",
   "metadata": {},
   "outputs": [],
   "source": []
  },
  {
   "cell_type": "code",
   "execution_count": null,
   "id": "aa7d0ac3-3521-4c61-9a5d-b7a26be4c4bf",
   "metadata": {},
   "outputs": [],
   "source": []
  },
  {
   "cell_type": "code",
   "execution_count": null,
   "id": "1c8df475-cd26-430b-a38e-a9267de4daac",
   "metadata": {},
   "outputs": [],
   "source": []
  },
  {
   "cell_type": "code",
   "execution_count": null,
   "id": "b3108539-e1a0-4264-82c2-06fa01cf0d7a",
   "metadata": {},
   "outputs": [],
   "source": []
  },
  {
   "cell_type": "code",
   "execution_count": null,
   "id": "f483b2ee-140d-44c2-bc33-51d48410ceff",
   "metadata": {},
   "outputs": [],
   "source": []
  }
 ],
 "metadata": {
  "@deathbeds/jupyterlab-fonts": {
   "fontLicenses": {},
   "fonts": {},
   "styles": {
    ":root": {}
   }
  },
  "kernelspec": {
   "display_name": "Python 3 (ipykernel)",
   "language": "python",
   "name": "python3"
  },
  "language_info": {
   "codemirror_mode": {
    "name": "ipython",
    "version": 3
   },
   "file_extension": ".py",
   "mimetype": "text/x-python",
   "name": "python",
   "nbconvert_exporter": "python",
   "pygments_lexer": "ipython3",
   "version": "3.12.4"
  }
 },
 "nbformat": 4,
 "nbformat_minor": 5
}
