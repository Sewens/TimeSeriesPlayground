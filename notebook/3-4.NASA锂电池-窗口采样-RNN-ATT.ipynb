{
 "cells": [
  {
   "cell_type": "markdown",
   "id": "e27846ee-b619-4786-8889-6a2fd629ac0d",
   "metadata": {
    "editable": true,
    "slideshow": {
     "slide_type": ""
    },
    "tags": []
   },
   "source": [
    "# 深度学习模型\n",
    "特征：\n",
    "1. 滑动窗口采样\n",
    "设置windows size，采样前k个step预测下一个\n",
    "\n",
    "2. 滑动窗口平均采样\n",
    "\n",
    "模型：\n",
    "1. MLP\n",
    "2. CNN\n",
    "3. LSTM\n",
    "4. RCNN\n",
    "5. RWKV\n",
    "\n",
    "todo：\n",
    "1. 加入额外特征embedding"
   ]
  },
  {
   "cell_type": "code",
   "execution_count": 1,
   "id": "59e7cbe5-0c9f-4fe5-b87d-74ef99cd203d",
   "metadata": {
    "editable": true,
    "slideshow": {
     "slide_type": ""
    },
    "tags": []
   },
   "outputs": [],
   "source": [
    "import pandas as pd\n",
    "import numpy as np\n",
    "import random\n",
    "import pickle\n",
    "import math\n",
    "import os\n",
    "import scipy.io\n",
    "import matplotlib.pyplot as plt\n",
    "%matplotlib inline\n",
    "\n",
    "from math import sqrt\n",
    "from datetime import datetime\n",
    "from sklearn.metrics import mean_absolute_error\n",
    "from sklearn.metrics import mean_squared_error"
   ]
  },
  {
   "cell_type": "code",
   "execution_count": 2,
   "id": "cfb2f62d-507f-4ca8-9acd-2cb06bdb05b9",
   "metadata": {},
   "outputs": [],
   "source": [
    "from dataclasses import dataclass"
   ]
  },
  {
   "cell_type": "code",
   "execution_count": 3,
   "id": "9d1cb815-f942-4334-a53e-9c8de882652a",
   "metadata": {},
   "outputs": [],
   "source": [
    "import torch"
   ]
  },
  {
   "cell_type": "code",
   "execution_count": 29,
   "id": "709812c4-ecf6-4b86-9afb-1ca98359536f",
   "metadata": {},
   "outputs": [],
   "source": [
    "device = 'cuda:0' if torch.cuda.is_available() else 'cpu'"
   ]
  },
  {
   "cell_type": "code",
   "execution_count": 6,
   "id": "2e714efb-3697-454e-85e4-236f054f2ab7",
   "metadata": {},
   "outputs": [
    {
     "data": {
      "text/plain": [
       "'cuda0'"
      ]
     },
     "execution_count": 6,
     "metadata": {},
     "output_type": "execute_result"
    }
   ],
   "source": [
    "device"
   ]
  },
  {
   "cell_type": "markdown",
   "id": "be2182e2-1646-416d-8311-e8ce0e7202d9",
   "metadata": {},
   "source": [
    "# 1 读取处理后数据\n",
    "\n",
    "字典数据：\n",
    "```\n",
    "{\n",
    "    'tid':[\n",
    "        [cycle_count],\n",
    "        [battery_life]\n",
    "    ]\n",
    "}\n",
    "```\n",
    "\n",
    "DataFrame数据：\n",
    "```\n",
    "columns = [tid,cycle_count,life]\n",
    "```"
   ]
  },
  {
   "cell_type": "code",
   "execution_count": 7,
   "id": "21e97ff8-4a4f-4bb8-98b5-9d629f659523",
   "metadata": {},
   "outputs": [],
   "source": [
    "bmap = pickle.load(open(\"../data/processed/nasa-li-battery_dict_240906.pkl\",'rb'))"
   ]
  },
  {
   "cell_type": "code",
   "execution_count": 8,
   "id": "680509d4-0b28-4234-bdd5-c30257994f33",
   "metadata": {},
   "outputs": [],
   "source": [
    "# ddf = pd.read_pickle('../data/processed/nasa-li-battery_df_240906.pkl')"
   ]
  },
  {
   "cell_type": "markdown",
   "id": "60e4e71b-f06a-4d29-b1bf-f5b4c936c8dc",
   "metadata": {},
   "source": [
    "# 2 特征采样和评价指标"
   ]
  },
  {
   "cell_type": "markdown",
   "id": "4d9afd20-f032-45c7-be42-acfbc085cb84",
   "metadata": {},
   "source": [
    "## 2.1 特征采样"
   ]
  },
  {
   "cell_type": "code",
   "execution_count": 9,
   "id": "c9bee833-f0a7-4560-8097-3a0fe3e54b32",
   "metadata": {
    "jupyter": {
     "source_hidden": true
    }
   },
   "outputs": [],
   "source": [
    "def build_sequences(text, window_size):\n",
    "    #text:list of capacity\n",
    "    x, y = [],[]\n",
    "    for i in range(len(text) - window_size):\n",
    "        sequence = text[i:i+window_size]\n",
    "        target = text[i+1:i+1+window_size]\n",
    "\n",
    "        x.append(sequence)\n",
    "        y.append(target)\n",
    "        \n",
    "    return np.array(x), np.array(y)\n",
    "\n",
    "\n",
    "# 留一评估：一组数据为测试集，其他所有数据全部拿来训练\n",
    "def get_train_test(data_dict, name, window_size=8, train_ratio=0.):\n",
    "    data_sequence=data_dict[name][1]\n",
    "    train_data, test_data = data_sequence[:window_size+1], data_sequence[window_size+1:]\n",
    "    train_x, train_y = build_sequences(text=train_data, window_size=window_size)\n",
    "    for k, v in data_dict.items():\n",
    "        if k != name:\n",
    "            data_x, data_y = build_sequences(text=v[1], window_size=window_size)\n",
    "            train_x, train_y = np.r_[train_x, data_x], np.r_[train_y, data_y]\n",
    "            \n",
    "    return train_x, train_y, list(train_data), list(test_data)\n",
    "\n",
    "\n",
    "def evaluation(y_test, y_predict):\n",
    "    mae = mean_absolute_error(y_test, y_predict)\n",
    "    mse = mean_squared_error(y_test, y_predict)\n",
    "    rmse = sqrt(mean_squared_error(y_test, y_predict))\n",
    "    return mae, rmse\n",
    "    \n",
    "\n",
    "def relative_error(y_test, y_predict, threshold):\n",
    "    true_re, pred_re = len(y_test), 0\n",
    "    for i in range(len(y_test)-1):\n",
    "        if y_test[i] <= threshold >= y_test[i+1]:\n",
    "            true_re = i - 1\n",
    "            break\n",
    "    for i in range(len(y_predict)-1):\n",
    "        if y_predict[i] <= threshold:\n",
    "            pred_re = i - 1\n",
    "            break\n",
    "    return abs(true_re - pred_re)/true_re"
   ]
  },
  {
   "cell_type": "markdown",
   "id": "96bd959a-4eed-42ce-bf2d-c38251c77c21",
   "metadata": {},
   "source": [
    "## 2.2 训练和评价"
   ]
  },
  {
   "cell_type": "code",
   "execution_count": 10,
   "id": "1d684f80-9ab6-4e1f-943e-4ed74da90eeb",
   "metadata": {},
   "outputs": [],
   "source": [
    "from tqdm import tqdm"
   ]
  },
  {
   "cell_type": "markdown",
   "id": "c09bcfa8-5978-4f44-95c3-8512872d3e5a",
   "metadata": {},
   "source": [
    "### 绘图函数"
   ]
  },
  {
   "cell_type": "code",
   "execution_count": 11,
   "id": "fecf0d44-7749-4d4f-b92c-a4148c9209a8",
   "metadata": {},
   "outputs": [],
   "source": [
    "def plot(name,\n",
    "         real_data, \n",
    "         pred_data):\n",
    "    fig, ax = plt.subplots(1, figsize=(12, 8))\n",
    "\n",
    "    plot_range = [i for i in range(len(real_data))]\n",
    "    \n",
    "    ax.plot(plot_range, real_data, 'b.', label=name)\n",
    "    ax.plot(plot_range, pred_data, 'r.', label='Prediction')\n",
    "    plt.plot([-1,170],[2*0.7, 2*0.7], c='black', lw=1, ls='--')  # 临界点直线\n",
    "    ax.set(xlabel='Discharge cycles', ylabel='Capacity (Ah)', title='Capacity degradation at ambient temperature of 24°C')\n",
    "    plt.legend()"
   ]
  },
  {
   "cell_type": "markdown",
   "id": "3d6cdfbc-9d1b-45f9-a7b1-4c8707a0dd01",
   "metadata": {},
   "source": [
    "# 3 RNN\n",
    "\n",
    "RNN取最后一个step接linear输出。\n",
    "\n",
    "后续可考虑LSTM和attention。"
   ]
  },
  {
   "cell_type": "code",
   "execution_count": 12,
   "id": "b9d5b04f-7766-40e3-a78d-694938f55f08",
   "metadata": {},
   "outputs": [],
   "source": [
    "from typing import List,Dict,Tuple"
   ]
  },
  {
   "cell_type": "code",
   "execution_count": 13,
   "id": "5449a7cd-94d7-43a7-854e-cc361c4fa7d7",
   "metadata": {},
   "outputs": [],
   "source": [
    "from collections import OrderedDict"
   ]
  },
  {
   "cell_type": "code",
   "execution_count": 14,
   "id": "5ff89896-2871-401a-801a-e40de52184eb",
   "metadata": {},
   "outputs": [],
   "source": [
    "import torch"
   ]
  },
  {
   "cell_type": "code",
   "execution_count": 15,
   "id": "28f226ee-19c4-41c6-a2d6-d373d08e45d5",
   "metadata": {},
   "outputs": [],
   "source": [
    "class NASALiBatteryDataset(torch.utils.data.Dataset):\n",
    "    def __init__(self, \n",
    "                 fpath:str,\n",
    "                ):\n",
    "        \n",
    "        x_lst,y_lst = [],[]\n",
    "        self.data_dict = pickle.load(open(fpath,'rb'))\n",
    "        for name in self.data_dict.keys():\n",
    "            train_x, train_y, train_data, test_data = get_train_test(self.data_dict, name, window_size)\n",
    "            real_train_y = np.expand_dims(train_y[:,-1],-1)\n",
    "            x_lst.append(train_x)\n",
    "            y_lst.append(real_train_y)\n",
    "        self.train_x = np.vstack(x_lst)\n",
    "        self.train_y = np.vstack(y_lst)\n",
    "        \n",
    "    def __len__(self):\n",
    "        return self.train_x.shape[0]\n",
    "        \n",
    "    def __getitem__(self, indices):\n",
    "        \n",
    "        return np.take(self.train_x,axis=0,indices=indices), np.take(self.train_y,axis=0,indices=indices)"
   ]
  },
  {
   "cell_type": "code",
   "execution_count": 56,
   "id": "c00457e3-5ac3-4d37-bd53-27e6eb000353",
   "metadata": {},
   "outputs": [],
   "source": [
    "class BaseModel(torch.nn.Module):\n",
    "\n",
    "    def __init__(self, \n",
    "                 prefix_length:int=1,\n",
    "                 device:str='cpu'):\n",
    "        super(BaseModel, self).__init__()\n",
    "        \n",
    "        self.prefix_length = prefix_length\n",
    "        self.device = device\n",
    "    def __post_init__(self):\n",
    "        self.double()\n",
    "        \n",
    "    def decode(self,\n",
    "               input_x:np.array,\n",
    "               max_length:int):\n",
    "        '''\n",
    "        input_x: List(prefix_length, )\n",
    "        max_length: target decode length\n",
    "        '''\n",
    "        if not self.prefix_length != len(input_x):\n",
    "            assert(f'Error input sequence must be prefix_length shape:{self.prefix_length}')\n",
    "\n",
    "        test_x = input_x\n",
    "        \n",
    "        # decode to target length\n",
    "        for i in range(max_length+1):\n",
    "            online_x = np.array(test_x[-self.prefix_length:])\n",
    "            online_x = torch.tensor(online_x).reshape((1,online_x.shape[0])).double().to(self.device)\n",
    "            test_x += self.forward(online_x).cpu().flatten().detach().numpy().tolist() #测试值加入原来序列用来继续预测下一个点\n",
    "\n",
    "        # list\n",
    "        return test_x\n",
    "        \n",
    "    def forward(self, \n",
    "                x:torch.Tensor):\n",
    "        '''\n",
    "        x: (prefix_length, )\n",
    "        '''\n",
    "        pass"
   ]
  },
  {
   "cell_type": "code",
   "execution_count": 57,
   "id": "2886d724-6d93-4356-ac8f-117010758219",
   "metadata": {},
   "outputs": [],
   "source": [
    "class RNNATTModel(BaseModel):\n",
    "\n",
    "    def __init__(self,\n",
    "                 feature_size:int,\n",
    "                 qk_dim:int,\n",
    "                 v_dim:int,\n",
    "                 model_type:str='rnn',\n",
    "                 num_layers:int=1,\n",
    "                 prefix_length:int=1,\n",
    "                 device:str='cpu'):\n",
    "        super(RNNATTModel, self).__init__(\n",
    "            prefix_length=prefix_length,\n",
    "               device=device\n",
    "        )\n",
    "        self.feature_size = feature_size\n",
    "        self.qk_dim = qk_dim\n",
    "        self.v_dim = v_dim\n",
    "        # 只有一个channel 所以默认input_size和hidden_size为1，没啥需要设置的参数\n",
    "        self.RNNLayer = torch.nn.RNN(input_size=1,\n",
    "                                                hidden_size=self.prefix_length,\n",
    "                                                num_layers=num_layers,\n",
    "                                                batch_first=True,\n",
    "                                                dropout=0.5,\n",
    "                                                bidirectional=False)\n",
    "        if model_type == 'gru':\n",
    "            self.RNNLayer = torch.nn.GRU(input_size=1,\n",
    "                                                hidden_size=self.prefix_length,\n",
    "                                                num_layers=num_layers,\n",
    "                                                batch_first=True,\n",
    "                                                dropout=0.5,\n",
    "                                                bidirectional=False)\n",
    "        elif model_type == 'lstm':\n",
    "            self.RNNLayer = torch.nn.LSTM(input_size=1,\n",
    "                                                hidden_size=self.prefix_length,\n",
    "                                                num_layers=num_layers,\n",
    "                                                batch_first=True,\n",
    "                                                dropout=0.5,\n",
    "                                                bidirectional=False)\n",
    "        \n",
    "        self.wq = torch.nn.Parameter(torch.rand((self.qk_dim,self.feature_size)))\n",
    "        self.wk = torch.nn.Parameter(torch.rand((self.qk_dim,self.feature_size)))\n",
    "        self.wv = torch.nn.Parameter(torch.rand((self.v_dim,self.feature_size)))\n",
    "        \n",
    "        self.OutLinearLayer = torch.nn.Linear(in_features=self.prefix_length,\n",
    "                                              out_features=1)\n",
    "        \n",
    "        self.__post_init__()\n",
    "\n",
    "    def SelfAttention(self,\n",
    "                      x:torch.Tensor):\n",
    "        \n",
    "        kval = x.matmul(self.wk.T)\n",
    "        qval = x.matmul(self.wq.T)\n",
    "        vval = x.matmul(self.wv.T)\n",
    "\n",
    "        omega = qval.matmul(torch.einsum('ijk->ikj',kval))\n",
    "        \n",
    "        omega = omega/np.sqrt(self.qk_dim)\n",
    "        \n",
    "        omega = torch.nn.functional.softmax(omega,1)\n",
    "        \n",
    "        att_out = omega.matmul(vval)\n",
    "        \n",
    "        pool_out = torch.nn.AvgPool1d(kernel_size=self.v_dim)(att_out).squeeze()\n",
    "\n",
    "        return pool_out\n",
    "        \n",
    "    def forward(self,\n",
    "                x:torch.Tensor):\n",
    "        x = x.reshape(x.shape[0],x.shape[1],1)\n",
    "        \n",
    "        out, _ = self.RNNLayer(x)       # out shape: (batch_size, feature_size, hidden_dim)\n",
    "        self_out = self.SelfAttention(out)\n",
    "        y = self.OutLinearLayer(self_out)      # out shape: (batch_size, 1)\n",
    "        \n",
    "        return y"
   ]
  },
  {
   "cell_type": "code",
   "execution_count": null,
   "id": "4903c823-8ecb-42f8-802e-2b7155628e26",
   "metadata": {},
   "outputs": [],
   "source": []
  },
  {
   "cell_type": "code",
   "execution_count": 68,
   "id": "970b48e2-1a09-428a-8a98-27d6abcbe2fb",
   "metadata": {},
   "outputs": [],
   "source": [
    "window_size = 32\n",
    "epoch = 10_00_000\n",
    "learning_rate = 1e-4    # learning rate\n",
    "weight_decay = 0.0\n",
    "feature_size = 32\n",
    "qk_dim = 32\n",
    "v_dim = 16\n",
    "num_layers = 2\n",
    "batch_size = 512\n",
    "model_type = 'lstm'"
   ]
  },
  {
   "cell_type": "code",
   "execution_count": 69,
   "id": "692db3df-e6bd-4b61-bbe5-e0b2e6169da4",
   "metadata": {},
   "outputs": [],
   "source": [
    "eval_step = 1000"
   ]
  },
  {
   "cell_type": "code",
   "execution_count": 70,
   "id": "612a400d-7d52-4d1b-9984-9e58aca7bbf4",
   "metadata": {},
   "outputs": [],
   "source": [
    "data_dict = bmap"
   ]
  },
  {
   "cell_type": "code",
   "execution_count": 61,
   "id": "7e09ad2b-be7a-4278-afef-062136700527",
   "metadata": {},
   "outputs": [],
   "source": [
    "model = RNNATTModel(feature_size=feature_size,\n",
    "                    model_type=model_type,\n",
    "                 qk_dim=qk_dim,\n",
    "                    v_dim=v_dim,\n",
    "                    num_layers=num_layers,\n",
    "                 prefix_length=window_size,\n",
    "                   device=device)"
   ]
  },
  {
   "cell_type": "code",
   "execution_count": 71,
   "id": "fafac68b-f1a2-4aca-806a-661d9d5db9c8",
   "metadata": {
    "scrolled": true
   },
   "outputs": [],
   "source": [
    "optimizer = torch.optim.Adam(model.parameters(), \n",
    "                             lr=learning_rate, \n",
    "                             weight_decay=weight_decay)\n",
    "criterion = torch.nn.MSELoss()"
   ]
  },
  {
   "cell_type": "code",
   "execution_count": 72,
   "id": "5fe6e1e4-4181-4a2d-a313-eadcd969c477",
   "metadata": {},
   "outputs": [
    {
     "data": {
      "text/plain": [
       "RNNATTModel(\n",
       "  (RNNLayer): LSTM(1, 32, num_layers=2, batch_first=True, dropout=0.5)\n",
       "  (OutLinearLayer): Linear(in_features=32, out_features=1, bias=True)\n",
       ")"
      ]
     },
     "execution_count": 72,
     "metadata": {},
     "output_type": "execute_result"
    }
   ],
   "source": [
    "model.to(device)"
   ]
  },
  {
   "cell_type": "code",
   "execution_count": 73,
   "id": "1b5889f4-f18f-4446-a740-b7eba76cf15a",
   "metadata": {},
   "outputs": [],
   "source": [
    "on_test_log = True"
   ]
  },
  {
   "cell_type": "code",
   "execution_count": 74,
   "id": "f22640bc-ae1a-442c-bded-520b4b744e9a",
   "metadata": {},
   "outputs": [],
   "source": [
    "train_dataset = NASALiBatteryDataset(fpath='../data/processed/nasa-li-battery_dict_240906.pkl')"
   ]
  },
  {
   "cell_type": "code",
   "execution_count": 75,
   "id": "bf7f5180-15f5-441f-8fb4-339868c0e63c",
   "metadata": {},
   "outputs": [],
   "source": [
    "train_loader = torch.utils.data.DataLoader(dataset=train_dataset,batch_size=batch_size,shuffle=False)"
   ]
  },
  {
   "cell_type": "code",
   "execution_count": null,
   "id": "e28b859d-cf74-4488-a895-69184970c3a9",
   "metadata": {
    "editable": true,
    "slideshow": {
     "slide_type": ""
    },
    "tags": []
   },
   "outputs": [
    {
     "name": "stderr",
     "output_type": "stream",
     "text": [
      "  0%|                                                                                      | 0/1000000 [00:00<?, ?it/s]"
     ]
    },
    {
     "name": "stdout",
     "output_type": "stream",
     "text": [
      "---------------------------------------------------\n"
     ]
    },
    {
     "name": "stderr",
     "output_type": "stream",
     "text": [
      "  0%|                                                                          | 2/1000000 [00:02<261:57:31,  1.06it/s]"
     ]
    },
    {
     "name": "stdout",
     "output_type": "stream",
     "text": [
      "Epoch:0 Loss:0.00230461 MAE:0.1830 | RMSE:0.1989\n"
     ]
    },
    {
     "name": "stderr",
     "output_type": "stream",
     "text": [
      "  0%|                                                                        | 1000/1000000 [03:26<56:39:51,  4.90it/s]"
     ]
    },
    {
     "name": "stdout",
     "output_type": "stream",
     "text": [
      "---------------------------------------------------\n"
     ]
    },
    {
     "name": "stderr",
     "output_type": "stream",
     "text": [
      "  0%|                                                                       | 1002/1000000 [03:28<155:00:44,  1.79it/s]"
     ]
    },
    {
     "name": "stdout",
     "output_type": "stream",
     "text": [
      "Epoch:1000 Loss:0.00153040 MAE:0.1211 | RMSE:0.1326\n"
     ]
    },
    {
     "name": "stderr",
     "output_type": "stream",
     "text": [
      "  0%|▏                                                                       | 2000/1000000 [06:51<56:07:15,  4.94it/s]"
     ]
    },
    {
     "name": "stdout",
     "output_type": "stream",
     "text": [
      "---------------------------------------------------\n"
     ]
    },
    {
     "name": "stderr",
     "output_type": "stream",
     "text": [
      "  0%|▏                                                                      | 2002/1000000 [06:53<149:54:08,  1.85it/s]"
     ]
    },
    {
     "name": "stdout",
     "output_type": "stream",
     "text": [
      "Epoch:2000 Loss:0.00125862 MAE:0.1001 | RMSE:0.1100\n"
     ]
    },
    {
     "name": "stderr",
     "output_type": "stream",
     "text": [
      "  0%|▏                                                                       | 3000/1000000 [10:15<56:13:56,  4.92it/s]"
     ]
    },
    {
     "name": "stdout",
     "output_type": "stream",
     "text": [
      "---------------------------------------------------\n"
     ]
    },
    {
     "name": "stderr",
     "output_type": "stream",
     "text": [
      "  0%|▏                                                                      | 3002/1000000 [10:17<153:56:21,  1.80it/s]"
     ]
    },
    {
     "name": "stdout",
     "output_type": "stream",
     "text": [
      "Epoch:3000 Loss:0.00110532 MAE:0.0911 | RMSE:0.1001\n"
     ]
    },
    {
     "name": "stderr",
     "output_type": "stream",
     "text": [
      "  0%|▎                                                                       | 4000/1000000 [13:40<56:14:46,  4.92it/s]"
     ]
    },
    {
     "name": "stdout",
     "output_type": "stream",
     "text": [
      "---------------------------------------------------\n"
     ]
    },
    {
     "name": "stderr",
     "output_type": "stream",
     "text": [
      "  0%|▎                                                                      | 4002/1000000 [13:42<152:34:47,  1.81it/s]"
     ]
    },
    {
     "name": "stdout",
     "output_type": "stream",
     "text": [
      "Epoch:4000 Loss:0.00100714 MAE:0.0833 | RMSE:0.0919\n"
     ]
    },
    {
     "name": "stderr",
     "output_type": "stream",
     "text": [
      "  0%|▎                                                                       | 5000/1000000 [17:06<56:30:06,  4.89it/s]"
     ]
    },
    {
     "name": "stdout",
     "output_type": "stream",
     "text": [
      "---------------------------------------------------\n"
     ]
    },
    {
     "name": "stderr",
     "output_type": "stream",
     "text": [
      "  1%|▎                                                                      | 5002/1000000 [17:08<157:41:13,  1.75it/s]"
     ]
    },
    {
     "name": "stdout",
     "output_type": "stream",
     "text": [
      "Epoch:5000 Loss:0.00093701 MAE:0.0789 | RMSE:0.0873\n"
     ]
    },
    {
     "name": "stderr",
     "output_type": "stream",
     "text": [
      "  1%|▍                                                                       | 6000/1000000 [20:33<56:41:14,  4.87it/s]"
     ]
    },
    {
     "name": "stdout",
     "output_type": "stream",
     "text": [
      "---------------------------------------------------\n"
     ]
    },
    {
     "name": "stderr",
     "output_type": "stream",
     "text": [
      "  1%|▍                                                                      | 6002/1000000 [20:35<151:52:38,  1.82it/s]"
     ]
    },
    {
     "name": "stdout",
     "output_type": "stream",
     "text": [
      "Epoch:6000 Loss:0.00088269 MAE:0.0772 | RMSE:0.0854\n"
     ]
    },
    {
     "name": "stderr",
     "output_type": "stream",
     "text": [
      "  1%|▌                                                                       | 7000/1000000 [24:00<57:02:11,  4.84it/s]"
     ]
    },
    {
     "name": "stdout",
     "output_type": "stream",
     "text": [
      "---------------------------------------------------\n"
     ]
    },
    {
     "name": "stderr",
     "output_type": "stream",
     "text": [
      "  1%|▍                                                                      | 7002/1000000 [24:02<153:42:09,  1.79it/s]"
     ]
    },
    {
     "name": "stdout",
     "output_type": "stream",
     "text": [
      "Epoch:7000 Loss:0.00083835 MAE:0.0735 | RMSE:0.0815\n"
     ]
    },
    {
     "name": "stderr",
     "output_type": "stream",
     "text": [
      "  1%|▌                                                                       | 8000/1000000 [27:28<56:57:08,  4.84it/s]"
     ]
    },
    {
     "name": "stdout",
     "output_type": "stream",
     "text": [
      "---------------------------------------------------\n"
     ]
    },
    {
     "name": "stderr",
     "output_type": "stream",
     "text": [
      "  1%|▌                                                                      | 8002/1000000 [27:30<150:23:24,  1.83it/s]"
     ]
    },
    {
     "name": "stdout",
     "output_type": "stream",
     "text": [
      "Epoch:8000 Loss:0.00080092 MAE:0.0725 | RMSE:0.0803\n"
     ]
    },
    {
     "name": "stderr",
     "output_type": "stream",
     "text": [
      "  1%|▋                                                                       | 9000/1000000 [30:57<57:33:37,  4.78it/s]"
     ]
    },
    {
     "name": "stdout",
     "output_type": "stream",
     "text": [
      "---------------------------------------------------\n"
     ]
    },
    {
     "name": "stderr",
     "output_type": "stream",
     "text": [
      "  1%|▋                                                                      | 9001/1000000 [30:59<191:56:18,  1.43it/s]"
     ]
    },
    {
     "name": "stdout",
     "output_type": "stream",
     "text": [
      "Epoch:9000 Loss:0.00076921 MAE:0.0704 | RMSE:0.0782\n"
     ]
    },
    {
     "name": "stderr",
     "output_type": "stream",
     "text": [
      "  1%|▋                                                                      | 10000/1000000 [34:26<58:31:40,  4.70it/s]"
     ]
    },
    {
     "name": "stdout",
     "output_type": "stream",
     "text": [
      "---------------------------------------------------\n"
     ]
    },
    {
     "name": "stderr",
     "output_type": "stream",
     "text": [
      "  1%|▋                                                                     | 10002/1000000 [34:28<159:00:11,  1.73it/s]"
     ]
    },
    {
     "name": "stdout",
     "output_type": "stream",
     "text": [
      "Epoch:10000 Loss:0.00074133 MAE:0.0694 | RMSE:0.0770\n"
     ]
    },
    {
     "name": "stderr",
     "output_type": "stream",
     "text": [
      "  1%|▊                                                                      | 11000/1000000 [37:58<57:14:56,  4.80it/s]"
     ]
    },
    {
     "name": "stdout",
     "output_type": "stream",
     "text": [
      "---------------------------------------------------\n"
     ]
    },
    {
     "name": "stderr",
     "output_type": "stream",
     "text": [
      "  1%|▊                                                                     | 11001/1000000 [38:00<199:53:30,  1.37it/s]"
     ]
    },
    {
     "name": "stdout",
     "output_type": "stream",
     "text": [
      "Epoch:11000 Loss:0.00071636 MAE:0.0697 | RMSE:0.0773\n"
     ]
    },
    {
     "name": "stderr",
     "output_type": "stream",
     "text": [
      "  1%|▊                                                                      | 12000/1000000 [41:29<57:13:29,  4.80it/s]"
     ]
    },
    {
     "name": "stdout",
     "output_type": "stream",
     "text": [
      "---------------------------------------------------\n"
     ]
    },
    {
     "name": "stderr",
     "output_type": "stream",
     "text": [
      "  1%|▊                                                                     | 12002/1000000 [41:31<151:56:18,  1.81it/s]"
     ]
    },
    {
     "name": "stdout",
     "output_type": "stream",
     "text": [
      "Epoch:12000 Loss:0.00069423 MAE:0.0681 | RMSE:0.0757\n"
     ]
    },
    {
     "name": "stderr",
     "output_type": "stream",
     "text": [
      "  1%|▉                                                                      | 12381/1000000 [42:50<56:56:25,  4.82it/s]"
     ]
    }
   ],
   "source": [
    "loss_list = [0]\n",
    "mae_lst,rmse_lst = [], []\n",
    "\n",
    "for i in tqdm(range(epoch)):\n",
    "    if i%eval_step==0 and on_test_log:\n",
    "        print('---------------------------------------------------')\n",
    "    for batch_x,batch_y in train_loader:\n",
    "        model.train()\n",
    "        output= model(batch_x.to(device))\n",
    "        loss = criterion(output, batch_y.to(device))\n",
    "        optimizer.zero_grad()              # clear gradients for this training step\n",
    "        loss.backward()                    # backpropagation, compute gradients\n",
    "        optimizer.step()                   # apply gradients\n",
    "\n",
    "        loss_list.append(loss.cpu().detach().numpy().tolist())\n",
    "\n",
    "    if i%eval_step==0:\n",
    "        for name in data_dict.keys():\n",
    "            train_x, train_y, train_data, test_data = get_train_test(data_dict, name, window_size)\n",
    "            \n",
    "            prefix_x = data_dict[name][1][:window_size]\n",
    "            decode_seq = model.decode(prefix_x,max_length=len(test_data))[window_size+1:]\n",
    "            mae, rmse = evaluation(y_test=test_data, y_predict=decode_seq)\n",
    "            \n",
    "            mae_lst.append(mae)\n",
    "            rmse_lst.append(rmse)\n",
    "        \n",
    "        if on_test_log:\n",
    "            print(f'Epoch:{i} Loss:{np.average(loss_list):.8f} MAE:{np.average(mae_lst):.4f} | RMSE:{np.average(rmse_lst):.4f}')"
   ]
  },
  {
   "cell_type": "code",
   "execution_count": null,
   "id": "b0f7f95f-35a4-4e1f-b566-ee27262eff9a",
   "metadata": {},
   "outputs": [],
   "source": [
    "for name in data_dict.keys():\n",
    "    train_x, train_y, train_data, test_data = get_train_test(data_dict, name, window_size)\n",
    "\n",
    "    real = data_dict[name][1]\n",
    "    prefix_x = data_dict[name][1][:window_size]\n",
    "    decode_seq = model.decode(prefix_x,max_length=len(test_data))\n",
    "    \n",
    "    plot(name=name,\n",
    "         real_data=real,\n",
    "        pred_data=decode_seq)"
   ]
  },
  {
   "cell_type": "code",
   "execution_count": null,
   "id": "11b52eae-dc65-4aa8-a5fb-91b14bcc76dd",
   "metadata": {},
   "outputs": [],
   "source": []
  },
  {
   "cell_type": "code",
   "execution_count": null,
   "id": "aa7d0ac3-3521-4c61-9a5d-b7a26be4c4bf",
   "metadata": {},
   "outputs": [],
   "source": []
  },
  {
   "cell_type": "code",
   "execution_count": null,
   "id": "1c8df475-cd26-430b-a38e-a9267de4daac",
   "metadata": {},
   "outputs": [],
   "source": []
  },
  {
   "cell_type": "code",
   "execution_count": null,
   "id": "b3108539-e1a0-4264-82c2-06fa01cf0d7a",
   "metadata": {},
   "outputs": [],
   "source": []
  },
  {
   "cell_type": "code",
   "execution_count": null,
   "id": "f483b2ee-140d-44c2-bc33-51d48410ceff",
   "metadata": {},
   "outputs": [],
   "source": []
  }
 ],
 "metadata": {
  "@deathbeds/jupyterlab-fonts": {
   "fontLicenses": {},
   "fonts": {},
   "styles": {
    ":root": {}
   }
  },
  "kernelspec": {
   "display_name": "Python 3 (ipykernel)",
   "language": "python",
   "name": "python3"
  },
  "language_info": {
   "codemirror_mode": {
    "name": "ipython",
    "version": 3
   },
   "file_extension": ".py",
   "mimetype": "text/x-python",
   "name": "python",
   "nbconvert_exporter": "python",
   "pygments_lexer": "ipython3",
   "version": "3.11.5"
  }
 },
 "nbformat": 4,
 "nbformat_minor": 5
}
