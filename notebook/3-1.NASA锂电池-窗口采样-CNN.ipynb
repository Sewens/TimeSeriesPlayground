{
 "cells": [
  {
   "cell_type": "markdown",
   "id": "e27846ee-b619-4786-8889-6a2fd629ac0d",
   "metadata": {},
   "source": [
    "# 深度学习模型\n",
    "特征：\n",
    "1. 滑动窗口采样\n",
    "设置windows size，采样前k个step预测下一个\n",
    "\n",
    "2. 滑动窗口平均采样\n",
    "\n",
    "模型：\n",
    "1. MLP\n",
    "2. CNN\n",
    "3. LSTM\n",
    "4. RCNN\n",
    "5. RWKV\n",
    "\n",
    "todo：\n",
    "1. 加入额外特征embedding"
   ]
  },
  {
   "cell_type": "code",
   "execution_count": 1,
   "id": "59e7cbe5-0c9f-4fe5-b87d-74ef99cd203d",
   "metadata": {},
   "outputs": [],
   "source": [
    "import pandas as pd\n",
    "import numpy as np\n",
    "import random\n",
    "import pickle\n",
    "import math\n",
    "import os\n",
    "import scipy.io\n",
    "import matplotlib.pyplot as plt\n",
    "%matplotlib inline\n",
    "\n",
    "from math import sqrt\n",
    "from datetime import datetime\n",
    "from sklearn.metrics import mean_absolute_error\n",
    "from sklearn.metrics import mean_squared_error"
   ]
  },
  {
   "cell_type": "code",
   "execution_count": 2,
   "id": "cfb2f62d-507f-4ca8-9acd-2cb06bdb05b9",
   "metadata": {},
   "outputs": [],
   "source": [
    "from dataclasses import dataclass"
   ]
  },
  {
   "cell_type": "markdown",
   "id": "be2182e2-1646-416d-8311-e8ce0e7202d9",
   "metadata": {},
   "source": [
    "# 1 读取处理后数据\n",
    "\n",
    "字典数据：\n",
    "```\n",
    "{\n",
    "    'tid':[\n",
    "        [cycle_count],\n",
    "        [battery_life]\n",
    "    ]\n",
    "}\n",
    "```\n",
    "\n",
    "DataFrame数据：\n",
    "```\n",
    "columns = [tid,cycle_count,life]\n",
    "```"
   ]
  },
  {
   "cell_type": "code",
   "execution_count": 3,
   "id": "21e97ff8-4a4f-4bb8-98b5-9d629f659523",
   "metadata": {},
   "outputs": [],
   "source": [
    "bmap = pickle.load(open(\"../data/processed/nasa-li-battery_dict_240906.pkl\",'rb'))"
   ]
  },
  {
   "cell_type": "code",
   "execution_count": 4,
   "id": "680509d4-0b28-4234-bdd5-c30257994f33",
   "metadata": {},
   "outputs": [],
   "source": [
    "# ddf = pd.read_pickle('../data/processed/nasa-li-battery_df_240906.pkl')"
   ]
  },
  {
   "cell_type": "markdown",
   "id": "60e4e71b-f06a-4d29-b1bf-f5b4c936c8dc",
   "metadata": {},
   "source": [
    "# 2 特征采样和评价指标"
   ]
  },
  {
   "cell_type": "markdown",
   "id": "4d9afd20-f032-45c7-be42-acfbc085cb84",
   "metadata": {},
   "source": [
    "## 2.1 特征采样"
   ]
  },
  {
   "cell_type": "code",
   "execution_count": 5,
   "id": "c9bee833-f0a7-4560-8097-3a0fe3e54b32",
   "metadata": {},
   "outputs": [],
   "source": [
    "def build_sequences(text, window_size):\n",
    "    #text:list of capacity\n",
    "    x, y = [],[]\n",
    "    for i in range(len(text) - window_size):\n",
    "        sequence = text[i:i+window_size]\n",
    "        target = text[i+1:i+1+window_size]\n",
    "\n",
    "        x.append(sequence)\n",
    "        y.append(target)\n",
    "        \n",
    "    return np.array(x), np.array(y)\n",
    "\n",
    "\n",
    "# 留一评估：一组数据为测试集，其他所有数据全部拿来训练\n",
    "def get_train_test(data_dict, name, window_size=8, train_ratio=0.):\n",
    "    data_sequence=data_dict[name][1]\n",
    "    train_data, test_data = data_sequence[:window_size+1], data_sequence[window_size+1:]\n",
    "    train_x, train_y = build_sequences(text=train_data, window_size=window_size)\n",
    "    for k, v in data_dict.items():\n",
    "        if k != name:\n",
    "            data_x, data_y = build_sequences(text=v[1], window_size=window_size)\n",
    "            train_x, train_y = np.r_[train_x, data_x], np.r_[train_y, data_y]\n",
    "            \n",
    "    return train_x, train_y, list(train_data), list(test_data)\n",
    "\n",
    "\n",
    "def evaluation(y_test, y_predict):\n",
    "    mae = mean_absolute_error(y_test, y_predict)\n",
    "    mse = mean_squared_error(y_test, y_predict)\n",
    "    rmse = sqrt(mean_squared_error(y_test, y_predict))\n",
    "    return mae, rmse\n",
    "    \n",
    "\n",
    "def relative_error(y_test, y_predict, threshold):\n",
    "    true_re, pred_re = len(y_test), 0\n",
    "    for i in range(len(y_test)-1):\n",
    "        if y_test[i] <= threshold >= y_test[i+1]:\n",
    "            true_re = i - 1\n",
    "            break\n",
    "    for i in range(len(y_predict)-1):\n",
    "        if y_predict[i] <= threshold:\n",
    "            pred_re = i - 1\n",
    "            break\n",
    "    return abs(true_re - pred_re)/true_re"
   ]
  },
  {
   "cell_type": "markdown",
   "id": "96bd959a-4eed-42ce-bf2d-c38251c77c21",
   "metadata": {},
   "source": [
    "## 2.2 训练和评价"
   ]
  },
  {
   "cell_type": "code",
   "execution_count": 6,
   "id": "1d684f80-9ab6-4e1f-943e-4ed74da90eeb",
   "metadata": {},
   "outputs": [],
   "source": [
    "from tqdm import tqdm"
   ]
  },
  {
   "cell_type": "markdown",
   "id": "349f0b01-9f73-4041-9e01-46334255c59e",
   "metadata": {},
   "source": [
    "### 训练器"
   ]
  },
  {
   "cell_type": "code",
   "execution_count": 7,
   "id": "d97ac8d0-f8a7-4029-9c9e-108c34f1e9d4",
   "metadata": {},
   "outputs": [],
   "source": [
    "def regressor_trainer(skmodel,\n",
    "                      data_dict,\n",
    "                      window_size=10,\n",
    "                      epoch=1000,\n",
    "                      eval_step=10,\n",
    "                    on_test_log=False):\n",
    "    mae_lst,rmse_lst = [], []\n",
    "    for i in tqdm(range(epoch)):\n",
    "        if i%eval_step==0 and on_test_log:\n",
    "            print('---------------------------------------------------')\n",
    "        for name in data_dict.keys():\n",
    "            train_x, train_y, train_data, test_data = get_train_test(data_dict, name, window_size)\n",
    "            real_train_y = train_y[:,-1]\n",
    "            \n",
    "            test_x = train_data.copy()\n",
    "        \n",
    "            # (batch, window_size)-->(batch, 1)\n",
    "            skmodel.fit(train_x,real_train_y)\n",
    "    \n",
    "            # Eval on every eval_step\n",
    "            if (i+1)%eval_step==0:\n",
    "                test_x = train_data.copy()\n",
    "                point_list = []\n",
    "                while (len(test_x) - len(train_data)) < len(test_data):\n",
    "                    online_x = np.reshape(np.array(test_x[-window_size:]), (-1, window_size)).astype(np.float32)\n",
    "            \n",
    "                    next_point = skmodel.predict(online_x)[0]\n",
    "                    \n",
    "                    test_x.append(next_point)#测试值加入原来序列用来继续预测下一个点\n",
    "                    point_list.append(next_point)#保存输出序列最后一个点的预测值\n",
    "                \n",
    "                mae, rmse = evaluation(y_test=test_data, y_predict=point_list)\n",
    "\n",
    "                mae_lst.append(mae)\n",
    "                rmse_lst.append(rmse)\n",
    "\n",
    "                if on_test_log:\n",
    "                    print(f'Epoch:{i} {name} MAE:{mae:.4f} | RMSE:{rmse:<6.4f}')\n",
    "    print(f'Model:{skmodel.__str__()}')\n",
    "    print(f'MAE:{np.average(mae_lst):.4f} RMSE:{np.average(rmse_lst):.4f}')\n",
    "    return skmodel"
   ]
  },
  {
   "cell_type": "markdown",
   "id": "1146dd42-c988-4b84-8b27-1e2a31ac25ad",
   "metadata": {},
   "source": [
    "### 预测绘图"
   ]
  },
  {
   "cell_type": "markdown",
   "id": "c09bcfa8-5978-4f44-95c3-8512872d3e5a",
   "metadata": {},
   "source": [
    "### 绘图函数"
   ]
  },
  {
   "cell_type": "code",
   "execution_count": 8,
   "id": "fecf0d44-7749-4d4f-b92c-a4148c9209a8",
   "metadata": {},
   "outputs": [],
   "source": [
    "def plot(name,\n",
    "         real_data, \n",
    "         pred_data):\n",
    "    fig, ax = plt.subplots(1, figsize=(12, 8))\n",
    "\n",
    "    plot_range = [i for i in range(len(real_data))]\n",
    "    \n",
    "    ax.plot(plot_range, real_data, 'b.', label=name)\n",
    "    ax.plot(plot_range, pred_data, 'r.', label='Prediction')\n",
    "    plt.plot([-1,170],[2*0.7, 2*0.7], c='black', lw=1, ls='--')  # 临界点直线\n",
    "    ax.set(xlabel='Discharge cycles', ylabel='Capacity (Ah)', title='Capacity degradation at ambient temperature of 24°C')\n",
    "    plt.legend()"
   ]
  },
  {
   "cell_type": "markdown",
   "id": "3d6cdfbc-9d1b-45f9-a7b1-4c8707a0dd01",
   "metadata": {},
   "source": [
    "# 3 CNN\n",
    "\n",
    "一维CNN，滑动窗口，在采样后的数据上做。\n",
    "\n",
    "后续可考虑多层stack。"
   ]
  },
  {
   "cell_type": "code",
   "execution_count": 9,
   "id": "b9d5b04f-7766-40e3-a78d-694938f55f08",
   "metadata": {},
   "outputs": [],
   "source": [
    "from typing import List,Dict,Tuple"
   ]
  },
  {
   "cell_type": "code",
   "execution_count": 10,
   "id": "5449a7cd-94d7-43a7-854e-cc361c4fa7d7",
   "metadata": {},
   "outputs": [],
   "source": [
    "from collections import OrderedDict"
   ]
  },
  {
   "cell_type": "code",
   "execution_count": 11,
   "id": "5ff89896-2871-401a-801a-e40de52184eb",
   "metadata": {},
   "outputs": [],
   "source": [
    "import torch"
   ]
  },
  {
   "cell_type": "code",
   "execution_count": 12,
   "id": "28f226ee-19c4-41c6-a2d6-d373d08e45d5",
   "metadata": {},
   "outputs": [],
   "source": [
    "class NASALiBatteryDataset(torch.utils.data.Dataset):\n",
    "    def __init__(self, \n",
    "                 fpath:str,\n",
    "                ):\n",
    "        \n",
    "        x_lst,y_lst = [],[]\n",
    "        self.data_dict = pickle.load(open(fpath,'rb'))\n",
    "        for name in self.data_dict.keys():\n",
    "            train_x, train_y, train_data, test_data = get_train_test(self.data_dict, name, window_size)\n",
    "            real_train_y = np.expand_dims(train_y[:,-1],-1)\n",
    "            x_lst.append(train_x)\n",
    "            y_lst.append(real_train_y)\n",
    "        self.train_x = np.vstack(x_lst)\n",
    "        self.train_y = np.vstack(y_lst)\n",
    "        \n",
    "    def __len__(self):\n",
    "        return self.train_x.shape[0]\n",
    "        \n",
    "    def __getitem__(self, indices):\n",
    "        \n",
    "        return np.take(self.train_x,axis=0,indices=indices), np.take(self.train_y,axis=0,indices=indices)"
   ]
  },
  {
   "cell_type": "code",
   "execution_count": 13,
   "id": "c00457e3-5ac3-4d37-bd53-27e6eb000353",
   "metadata": {},
   "outputs": [],
   "source": [
    "class BaseModel(torch.nn.Module):\n",
    "\n",
    "    def __init__(self, \n",
    "                 prefix_length:int=1,\n",
    "                 device:str='cpu'):\n",
    "        super(BaseModel, self).__init__()\n",
    "        \n",
    "        self.prefix_length = prefix_length\n",
    "        self.device = device\n",
    "    def __post_init__(self):\n",
    "        self.double()\n",
    "        \n",
    "    def decode(self,\n",
    "               input_x:np.array,\n",
    "               max_length:int):\n",
    "        '''\n",
    "        input_x: List(prefix_length, )\n",
    "        max_length: target decode length\n",
    "        '''\n",
    "        if not self.prefix_length != len(input_x):\n",
    "            assert(f'Error input sequence must be prefix_length shape:{self.prefix_length}')\n",
    "\n",
    "        test_x = input_x\n",
    "        \n",
    "        # decode to target length\n",
    "        for i in range(max_length+1):\n",
    "            online_x = np.array(test_x[-self.prefix_length:])\n",
    "            online_x = torch.tensor(online_x).reshape((1,online_x.shape[0])).double().to(self.device)\n",
    "            test_x += self.forward(online_x).flatten().detach().numpy().tolist() #测试值加入原来序列用来继续预测下一个点\n",
    "\n",
    "        # list\n",
    "        return test_x\n",
    "        \n",
    "    def forward(self, \n",
    "                x:torch.Tensor):\n",
    "        '''\n",
    "        x: (prefix_length, )\n",
    "        '''\n",
    "        pass"
   ]
  },
  {
   "cell_type": "code",
   "execution_count": 14,
   "id": "2886d724-6d93-4356-ac8f-117010758219",
   "metadata": {},
   "outputs": [],
   "source": [
    "class CNNSingleModel(BaseModel):\n",
    "\n",
    "    def __init__(self,\n",
    "                 kernel_size:int,\n",
    "                 stride:int,\n",
    "                 prefix_length:int=1,\n",
    "                 device:str='cpu'):\n",
    "        super(CNNSingleModel, self).__init__(\n",
    "            prefix_length=prefix_length,\n",
    "               device=device\n",
    "        )\n",
    "        if kernel_size>self.prefix_length:\n",
    "            assert(f'Error kernel_size:{kernel_size} must less than prefix_length:{self.prefix_length}')\n",
    "        \n",
    "        self.CNNLayer = torch.nn.Conv1d(in_channels=1,\n",
    "                                        out_channels=1,\n",
    "                                        kernel_size=kernel_size,\n",
    "                                        stride=stride)\n",
    "        \n",
    "        self.OutputLinear = torch.nn.Linear(in_features=int((self.prefix_length-kernel_size+1)/stride),\n",
    "                                            out_features=1,\n",
    "                                            bias=False)\n",
    "        self.__post_init__()\n",
    "    def forward(self,\n",
    "                x:torch.Tensor):\n",
    "        x = x.reshape(x.shape[0],1,x.shape[1])\n",
    "        x = self.CNNLayer(x)\n",
    "        y = self.OutputLinear(x)\n",
    "        return y.reshape((y.shape[0],1))"
   ]
  },
  {
   "cell_type": "code",
   "execution_count": 26,
   "id": "970b48e2-1a09-428a-8a98-27d6abcbe2fb",
   "metadata": {},
   "outputs": [],
   "source": [
    "window_size = 32\n",
    "epoch = 10_00_000\n",
    "learning_rate = 1e-3    # learning rate\n",
    "weight_decay = 0.0\n",
    "kernel_size = 16\n",
    "stride = 1\n",
    "batch_size = 512"
   ]
  },
  {
   "cell_type": "code",
   "execution_count": 16,
   "id": "692db3df-e6bd-4b61-bbe5-e0b2e6169da4",
   "metadata": {},
   "outputs": [],
   "source": [
    "eval_step = 1000"
   ]
  },
  {
   "cell_type": "code",
   "execution_count": 17,
   "id": "612a400d-7d52-4d1b-9984-9e58aca7bbf4",
   "metadata": {},
   "outputs": [],
   "source": [
    "data_dict = bmap"
   ]
  },
  {
   "cell_type": "code",
   "execution_count": 18,
   "id": "7e09ad2b-be7a-4278-afef-062136700527",
   "metadata": {},
   "outputs": [],
   "source": [
    "model = CNNSingleModel(kernel_size=kernel_size,\n",
    "                       stride=stride,\n",
    "                 prefix_length=window_size)"
   ]
  },
  {
   "cell_type": "code",
   "execution_count": 27,
   "id": "fafac68b-f1a2-4aca-806a-661d9d5db9c8",
   "metadata": {
    "scrolled": true
   },
   "outputs": [],
   "source": [
    "optimizer = torch.optim.Adam(model.parameters(), \n",
    "                             lr=learning_rate, \n",
    "                             weight_decay=weight_decay)\n",
    "criterion = torch.nn.MSELoss()"
   ]
  },
  {
   "cell_type": "code",
   "execution_count": 20,
   "id": "1b5889f4-f18f-4446-a740-b7eba76cf15a",
   "metadata": {},
   "outputs": [],
   "source": [
    "on_test_log = True"
   ]
  },
  {
   "cell_type": "code",
   "execution_count": 21,
   "id": "f22640bc-ae1a-442c-bded-520b4b744e9a",
   "metadata": {},
   "outputs": [],
   "source": [
    "train_dataset = NASALiBatteryDataset(fpath='../data/processed/nasa-li-battery_dict_240906.pkl')"
   ]
  },
  {
   "cell_type": "code",
   "execution_count": 22,
   "id": "bf7f5180-15f5-441f-8fb4-339868c0e63c",
   "metadata": {},
   "outputs": [],
   "source": [
    "train_loader = torch.utils.data.DataLoader(dataset=train_dataset,batch_size=batch_size,shuffle=False)"
   ]
  },
  {
   "cell_type": "code",
   "execution_count": 28,
   "id": "e28b859d-cf74-4488-a895-69184970c3a9",
   "metadata": {},
   "outputs": [
    {
     "name": "stderr",
     "output_type": "stream",
     "text": [
      "  0%|                                                                     | 1/1000000 [00:00<31:50:37,  8.72it/s]"
     ]
    },
    {
     "name": "stdout",
     "output_type": "stream",
     "text": [
      "---------------------------------------------------\n",
      "Epoch:0 Loss:0.00095577 MAE:0.5296 | RMSE:0.5647\n"
     ]
    },
    {
     "name": "stderr",
     "output_type": "stream",
     "text": [
      "  0%|                                                                   | 1003/1000000 [00:27<9:57:47, 27.85it/s]"
     ]
    },
    {
     "name": "stdout",
     "output_type": "stream",
     "text": [
      "---------------------------------------------------\n",
      "Epoch:1000 Loss:0.00027532 MAE:0.2972 | RMSE:0.3185\n"
     ]
    },
    {
     "name": "stderr",
     "output_type": "stream",
     "text": [
      "  0%|▏                                                                  | 2001/1000000 [00:58<9:36:01, 28.88it/s]"
     ]
    },
    {
     "name": "stdout",
     "output_type": "stream",
     "text": [
      "---------------------------------------------------\n",
      "Epoch:2000 Loss:0.00027423 MAE:0.2196 | RMSE:0.2363\n"
     ]
    },
    {
     "name": "stderr",
     "output_type": "stream",
     "text": [
      "  0%|▏                                                                  | 2999/1000000 [01:28<7:49:32, 35.39it/s]"
     ]
    },
    {
     "name": "stdout",
     "output_type": "stream",
     "text": [
      "---------------------------------------------------\n",
      "Epoch:3000 Loss:0.00027386 MAE:0.1807 | RMSE:0.1952\n"
     ]
    },
    {
     "name": "stderr",
     "output_type": "stream",
     "text": [
      "  0%|▎                                                                  | 4001/1000000 [01:58<9:46:09, 28.32it/s]"
     ]
    },
    {
     "name": "stdout",
     "output_type": "stream",
     "text": [
      "---------------------------------------------------\n",
      "Epoch:4000 Loss:0.00027368 MAE:0.1574 | RMSE:0.1704\n"
     ]
    },
    {
     "name": "stderr",
     "output_type": "stream",
     "text": [
      "  1%|▎                                                                 | 5003/1000000 [02:28<10:45:26, 25.69it/s]"
     ]
    },
    {
     "name": "stdout",
     "output_type": "stream",
     "text": [
      "---------------------------------------------------\n",
      "Epoch:5000 Loss:0.00027357 MAE:0.1418 | RMSE:0.1540\n"
     ]
    },
    {
     "name": "stderr",
     "output_type": "stream",
     "text": [
      "  1%|▍                                                                 | 6000/1000000 [03:09<11:23:11, 24.25it/s]"
     ]
    },
    {
     "name": "stdout",
     "output_type": "stream",
     "text": [
      "---------------------------------------------------\n",
      "Epoch:6000 Loss:0.00027349 MAE:0.1307 | RMSE:0.1422\n"
     ]
    },
    {
     "name": "stderr",
     "output_type": "stream",
     "text": [
      "  1%|▍                                                                 | 7000/1000000 [03:51<12:06:35, 22.78it/s]"
     ]
    },
    {
     "name": "stdout",
     "output_type": "stream",
     "text": [
      "---------------------------------------------------\n",
      "Epoch:7000 Loss:0.00027344 MAE:0.1224 | RMSE:0.1333\n"
     ]
    },
    {
     "name": "stderr",
     "output_type": "stream",
     "text": [
      "  1%|▌                                                                 | 8000/1000000 [04:31<10:33:09, 26.11it/s]"
     ]
    },
    {
     "name": "stdout",
     "output_type": "stream",
     "text": [
      "---------------------------------------------------\n",
      "Epoch:8000 Loss:0.00027339 MAE:0.1159 | RMSE:0.1264\n"
     ]
    },
    {
     "name": "stderr",
     "output_type": "stream",
     "text": [
      "  1%|▌                                                                 | 9002/1000000 [05:13<12:49:41, 21.46it/s]"
     ]
    },
    {
     "name": "stdout",
     "output_type": "stream",
     "text": [
      "---------------------------------------------------\n",
      "Epoch:9000 Loss:0.00027336 MAE:0.1107 | RMSE:0.1209\n"
     ]
    },
    {
     "name": "stderr",
     "output_type": "stream",
     "text": [
      "  1%|▋                                                                | 10001/1000000 [05:53<10:24:55, 26.40it/s]"
     ]
    },
    {
     "name": "stdout",
     "output_type": "stream",
     "text": [
      "---------------------------------------------------\n",
      "Epoch:10000 Loss:0.00027333 MAE:0.1064 | RMSE:0.1164\n"
     ]
    },
    {
     "name": "stderr",
     "output_type": "stream",
     "text": [
      "  1%|▋                                                                | 11001/1000000 [06:26<10:47:54, 25.44it/s]"
     ]
    },
    {
     "name": "stdout",
     "output_type": "stream",
     "text": [
      "---------------------------------------------------\n",
      "Epoch:11000 Loss:0.00027331 MAE:0.1028 | RMSE:0.1127\n"
     ]
    },
    {
     "name": "stderr",
     "output_type": "stream",
     "text": [
      "  1%|▊                                                                | 12002/1000000 [06:56<10:11:04, 26.95it/s]"
     ]
    },
    {
     "name": "stdout",
     "output_type": "stream",
     "text": [
      "---------------------------------------------------\n",
      "Epoch:12000 Loss:0.00027329 MAE:0.0998 | RMSE:0.1095\n"
     ]
    },
    {
     "name": "stderr",
     "output_type": "stream",
     "text": [
      "  1%|▊                                                                 | 13002/1000000 [07:25<9:48:34, 27.95it/s]"
     ]
    },
    {
     "name": "stdout",
     "output_type": "stream",
     "text": [
      "---------------------------------------------------\n",
      "Epoch:13000 Loss:0.00027327 MAE:0.0973 | RMSE:0.1068\n"
     ]
    },
    {
     "name": "stderr",
     "output_type": "stream",
     "text": [
      "  1%|▉                                                                | 13999/1000000 [08:05<11:25:00, 23.99it/s]"
     ]
    },
    {
     "name": "stdout",
     "output_type": "stream",
     "text": [
      "---------------------------------------------------\n"
     ]
    },
    {
     "name": "stderr",
     "output_type": "stream",
     "text": [
      "  1%|▉                                                                | 14005/1000000 [08:05<14:47:39, 18.51it/s]"
     ]
    },
    {
     "name": "stdout",
     "output_type": "stream",
     "text": [
      "Epoch:14000 Loss:0.00027326 MAE:0.0950 | RMSE:0.1044\n"
     ]
    },
    {
     "name": "stderr",
     "output_type": "stream",
     "text": [
      "  2%|▉                                                                | 15000/1000000 [08:47<11:32:54, 23.69it/s]"
     ]
    },
    {
     "name": "stdout",
     "output_type": "stream",
     "text": [
      "---------------------------------------------------\n",
      "Epoch:15000 Loss:0.00027325 MAE:0.0931 | RMSE:0.1023\n"
     ]
    },
    {
     "name": "stderr",
     "output_type": "stream",
     "text": [
      "  2%|█                                                                | 16001/1000000 [09:29<13:53:39, 19.67it/s]"
     ]
    },
    {
     "name": "stdout",
     "output_type": "stream",
     "text": [
      "---------------------------------------------------\n",
      "Epoch:16000 Loss:0.00027323 MAE:0.0913 | RMSE:0.1005\n"
     ]
    },
    {
     "name": "stderr",
     "output_type": "stream",
     "text": [
      "  2%|█                                                                | 17001/1000000 [10:09<13:34:42, 20.11it/s]"
     ]
    },
    {
     "name": "stdout",
     "output_type": "stream",
     "text": [
      "---------------------------------------------------\n",
      "Epoch:17000 Loss:0.00027322 MAE:0.0898 | RMSE:0.0989\n"
     ]
    },
    {
     "name": "stderr",
     "output_type": "stream",
     "text": [
      "  2%|█▏                                                               | 18002/1000000 [10:44<11:10:14, 24.42it/s]"
     ]
    },
    {
     "name": "stdout",
     "output_type": "stream",
     "text": [
      "---------------------------------------------------\n",
      "Epoch:18000 Loss:0.00027321 MAE:0.0884 | RMSE:0.0974\n"
     ]
    },
    {
     "name": "stderr",
     "output_type": "stream",
     "text": [
      "  2%|█▏                                                               | 19003/1000000 [11:14<10:07:21, 26.92it/s]"
     ]
    },
    {
     "name": "stdout",
     "output_type": "stream",
     "text": [
      "---------------------------------------------------\n",
      "Epoch:19000 Loss:0.00027321 MAE:0.0872 | RMSE:0.0961\n"
     ]
    },
    {
     "name": "stderr",
     "output_type": "stream",
     "text": [
      "  2%|█▎                                                               | 20003/1000000 [11:44<10:15:20, 26.54it/s]"
     ]
    },
    {
     "name": "stdout",
     "output_type": "stream",
     "text": [
      "---------------------------------------------------\n",
      "Epoch:20000 Loss:0.00027320 MAE:0.0861 | RMSE:0.0949\n"
     ]
    },
    {
     "name": "stderr",
     "output_type": "stream",
     "text": [
      "  2%|█▎                                                               | 21001/1000000 [12:22<13:42:48, 19.83it/s]"
     ]
    },
    {
     "name": "stdout",
     "output_type": "stream",
     "text": [
      "---------------------------------------------------\n",
      "Epoch:21000 Loss:0.00027319 MAE:0.0851 | RMSE:0.0938\n"
     ]
    },
    {
     "name": "stderr",
     "output_type": "stream",
     "text": [
      "  2%|█▍                                                               | 22001/1000000 [13:03<14:45:31, 18.41it/s]"
     ]
    },
    {
     "name": "stdout",
     "output_type": "stream",
     "text": [
      "---------------------------------------------------\n",
      "Epoch:22000 Loss:0.00027318 MAE:0.0841 | RMSE:0.0929\n"
     ]
    },
    {
     "name": "stderr",
     "output_type": "stream",
     "text": [
      "  2%|█▍                                                               | 22999/1000000 [13:45<11:20:04, 23.94it/s]"
     ]
    },
    {
     "name": "stdout",
     "output_type": "stream",
     "text": [
      "---------------------------------------------------\n",
      "Epoch:23000 Loss:0.00027318 MAE:0.0833 | RMSE:0.0919\n"
     ]
    },
    {
     "name": "stderr",
     "output_type": "stream",
     "text": [
      "  2%|█▌                                                               | 24001/1000000 [14:22<10:46:55, 25.14it/s]"
     ]
    },
    {
     "name": "stdout",
     "output_type": "stream",
     "text": [
      "---------------------------------------------------\n",
      "Epoch:24000 Loss:0.00027317 MAE:0.0825 | RMSE:0.0911\n"
     ]
    },
    {
     "name": "stderr",
     "output_type": "stream",
     "text": [
      "  3%|█▋                                                                | 25002/1000000 [14:53<8:46:52, 30.84it/s]"
     ]
    },
    {
     "name": "stdout",
     "output_type": "stream",
     "text": [
      "---------------------------------------------------\n",
      "Epoch:25000 Loss:0.00027316 MAE:0.0818 | RMSE:0.0903\n"
     ]
    },
    {
     "name": "stderr",
     "output_type": "stream",
     "text": [
      "  3%|█▋                                                                | 26003/1000000 [15:20<8:50:30, 30.60it/s]"
     ]
    },
    {
     "name": "stdout",
     "output_type": "stream",
     "text": [
      "---------------------------------------------------\n",
      "Epoch:26000 Loss:0.00027316 MAE:0.0811 | RMSE:0.0896\n"
     ]
    },
    {
     "name": "stderr",
     "output_type": "stream",
     "text": [
      "  3%|█▊                                                               | 26999/1000000 [15:48<10:40:22, 25.32it/s]"
     ]
    },
    {
     "name": "stdout",
     "output_type": "stream",
     "text": [
      "---------------------------------------------------\n",
      "Epoch:27000 Loss:0.00027315 MAE:0.0805 | RMSE:0.0890\n"
     ]
    },
    {
     "name": "stderr",
     "output_type": "stream",
     "text": [
      "  3%|█▊                                                               | 28000/1000000 [16:34<10:17:15, 26.25it/s]"
     ]
    },
    {
     "name": "stdout",
     "output_type": "stream",
     "text": [
      "---------------------------------------------------\n",
      "Epoch:28000 Loss:0.00027315 MAE:0.0799 | RMSE:0.0884\n"
     ]
    },
    {
     "name": "stderr",
     "output_type": "stream",
     "text": [
      "  3%|█▉                                                               | 29000/1000000 [17:15<10:41:06, 25.24it/s]"
     ]
    },
    {
     "name": "stdout",
     "output_type": "stream",
     "text": [
      "---------------------------------------------------\n",
      "Epoch:29000 Loss:0.00027314 MAE:0.0793 | RMSE:0.0878\n"
     ]
    },
    {
     "name": "stderr",
     "output_type": "stream",
     "text": [
      "  3%|█▉                                                               | 29999/1000000 [17:55<11:02:06, 24.42it/s]"
     ]
    },
    {
     "name": "stdout",
     "output_type": "stream",
     "text": [
      "---------------------------------------------------\n",
      "Epoch:30000 Loss:0.00027314 MAE:0.0788 | RMSE:0.0872\n"
     ]
    },
    {
     "name": "stderr",
     "output_type": "stream",
     "text": [
      "  3%|██                                                                | 31000/1000000 [18:32<8:51:00, 30.41it/s]"
     ]
    },
    {
     "name": "stdout",
     "output_type": "stream",
     "text": [
      "---------------------------------------------------\n",
      "Epoch:31000 Loss:0.00027314 MAE:0.0783 | RMSE:0.0867\n"
     ]
    },
    {
     "name": "stderr",
     "output_type": "stream",
     "text": [
      "  3%|██                                                                | 32000/1000000 [19:05<9:13:33, 29.14it/s]"
     ]
    },
    {
     "name": "stdout",
     "output_type": "stream",
     "text": [
      "---------------------------------------------------\n",
      "Epoch:32000 Loss:0.00027313 MAE:0.0779 | RMSE:0.0863\n"
     ]
    },
    {
     "name": "stderr",
     "output_type": "stream",
     "text": [
      "  3%|██▏                                                              | 33002/1000000 [19:43<11:57:49, 22.45it/s]"
     ]
    },
    {
     "name": "stdout",
     "output_type": "stream",
     "text": [
      "---------------------------------------------------\n",
      "Epoch:33000 Loss:0.00027313 MAE:0.0775 | RMSE:0.0858\n"
     ]
    },
    {
     "name": "stderr",
     "output_type": "stream",
     "text": [
      "  3%|██▏                                                              | 33998/1000000 [20:16<11:25:05, 23.50it/s]"
     ]
    },
    {
     "name": "stdout",
     "output_type": "stream",
     "text": [
      "---------------------------------------------------\n"
     ]
    },
    {
     "name": "stderr",
     "output_type": "stream",
     "text": [
      "  3%|██▏                                                              | 34003/1000000 [20:16<15:31:42, 17.28it/s]"
     ]
    },
    {
     "name": "stdout",
     "output_type": "stream",
     "text": [
      "Epoch:34000 Loss:0.00027312 MAE:0.0771 | RMSE:0.0854\n"
     ]
    },
    {
     "name": "stderr",
     "output_type": "stream",
     "text": [
      "  4%|██▎                                                              | 35001/1000000 [21:04<14:30:39, 18.47it/s]"
     ]
    },
    {
     "name": "stdout",
     "output_type": "stream",
     "text": [
      "---------------------------------------------------\n",
      "Epoch:35000 Loss:0.00027312 MAE:0.0767 | RMSE:0.0850\n"
     ]
    },
    {
     "name": "stderr",
     "output_type": "stream",
     "text": [
      "  4%|██▎                                                              | 36002/1000000 [21:48<13:17:44, 20.14it/s]"
     ]
    },
    {
     "name": "stdout",
     "output_type": "stream",
     "text": [
      "---------------------------------------------------\n",
      "Epoch:36000 Loss:0.00027312 MAE:0.0763 | RMSE:0.0846\n"
     ]
    },
    {
     "name": "stderr",
     "output_type": "stream",
     "text": [
      "  4%|██▍                                                               | 37002/1000000 [22:21<9:52:27, 27.09it/s]"
     ]
    },
    {
     "name": "stdout",
     "output_type": "stream",
     "text": [
      "---------------------------------------------------\n",
      "Epoch:37000 Loss:0.00027312 MAE:0.0760 | RMSE:0.0843\n"
     ]
    },
    {
     "name": "stderr",
     "output_type": "stream",
     "text": [
      "  4%|██▌                                                               | 38000/1000000 [22:51<7:41:12, 34.76it/s]"
     ]
    },
    {
     "name": "stdout",
     "output_type": "stream",
     "text": [
      "---------------------------------------------------\n",
      "Epoch:38000 Loss:0.00027311 MAE:0.0757 | RMSE:0.0839\n"
     ]
    },
    {
     "name": "stderr",
     "output_type": "stream",
     "text": [
      "  4%|██▌                                                               | 39005/1000000 [23:19<7:46:25, 34.34it/s]"
     ]
    },
    {
     "name": "stdout",
     "output_type": "stream",
     "text": [
      "---------------------------------------------------\n",
      "Epoch:39000 Loss:0.00027311 MAE:0.0754 | RMSE:0.0836\n"
     ]
    },
    {
     "name": "stderr",
     "output_type": "stream",
     "text": [
      "  4%|██▋                                                               | 40004/1000000 [23:48<8:43:47, 30.55it/s]"
     ]
    },
    {
     "name": "stdout",
     "output_type": "stream",
     "text": [
      "---------------------------------------------------\n",
      "Epoch:40000 Loss:0.00027311 MAE:0.0751 | RMSE:0.0833\n"
     ]
    },
    {
     "name": "stderr",
     "output_type": "stream",
     "text": [
      "  4%|██▋                                                              | 41002/1000000 [24:20<10:31:32, 25.31it/s]"
     ]
    },
    {
     "name": "stdout",
     "output_type": "stream",
     "text": [
      "---------------------------------------------------\n",
      "Epoch:41000 Loss:0.00027310 MAE:0.0748 | RMSE:0.0830\n"
     ]
    },
    {
     "name": "stderr",
     "output_type": "stream",
     "text": [
      "  4%|██▊                                                               | 42000/1000000 [24:51<9:49:52, 27.07it/s]"
     ]
    },
    {
     "name": "stdout",
     "output_type": "stream",
     "text": [
      "---------------------------------------------------\n",
      "Epoch:42000 Loss:0.00027310 MAE:0.0746 | RMSE:0.0827\n"
     ]
    },
    {
     "name": "stderr",
     "output_type": "stream",
     "text": [
      "  4%|██▊                                                               | 42999/1000000 [25:29<9:56:17, 26.75it/s]"
     ]
    },
    {
     "name": "stdout",
     "output_type": "stream",
     "text": [
      "---------------------------------------------------\n"
     ]
    },
    {
     "name": "stderr",
     "output_type": "stream",
     "text": [
      "  4%|██▊                                                              | 43005/1000000 [25:29<13:40:13, 19.45it/s]"
     ]
    },
    {
     "name": "stdout",
     "output_type": "stream",
     "text": [
      "Epoch:43000 Loss:0.00027310 MAE:0.0743 | RMSE:0.0825\n"
     ]
    },
    {
     "name": "stderr",
     "output_type": "stream",
     "text": [
      "  4%|██▉                                                               | 43999/1000000 [26:03<9:53:49, 26.83it/s]"
     ]
    },
    {
     "name": "stdout",
     "output_type": "stream",
     "text": [
      "---------------------------------------------------\n"
     ]
    },
    {
     "name": "stderr",
     "output_type": "stream",
     "text": [
      "  4%|██▊                                                              | 44005/1000000 [26:03<13:08:45, 20.20it/s]"
     ]
    },
    {
     "name": "stdout",
     "output_type": "stream",
     "text": [
      "Epoch:44000 Loss:0.00027310 MAE:0.0741 | RMSE:0.0822\n"
     ]
    },
    {
     "name": "stderr",
     "output_type": "stream",
     "text": [
      "  4%|██▉                                                               | 45000/1000000 [26:37<7:43:37, 34.33it/s]"
     ]
    },
    {
     "name": "stdout",
     "output_type": "stream",
     "text": [
      "---------------------------------------------------\n",
      "Epoch:45000 Loss:0.00027309 MAE:0.0738 | RMSE:0.0820\n"
     ]
    },
    {
     "name": "stderr",
     "output_type": "stream",
     "text": [
      "  5%|███                                                               | 46001/1000000 [27:06<8:52:15, 29.87it/s]"
     ]
    },
    {
     "name": "stdout",
     "output_type": "stream",
     "text": [
      "---------------------------------------------------\n",
      "Epoch:46000 Loss:0.00027309 MAE:0.0736 | RMSE:0.0817\n"
     ]
    },
    {
     "name": "stderr",
     "output_type": "stream",
     "text": [
      "  5%|███                                                               | 47001/1000000 [27:33<7:53:20, 33.56it/s]"
     ]
    },
    {
     "name": "stdout",
     "output_type": "stream",
     "text": [
      "---------------------------------------------------\n",
      "Epoch:47000 Loss:0.00027309 MAE:0.0734 | RMSE:0.0815\n"
     ]
    },
    {
     "name": "stderr",
     "output_type": "stream",
     "text": [
      "  5%|███                                                              | 48001/1000000 [28:01<10:58:38, 24.09it/s]"
     ]
    },
    {
     "name": "stdout",
     "output_type": "stream",
     "text": [
      "---------------------------------------------------\n",
      "Epoch:48000 Loss:0.00027309 MAE:0.0732 | RMSE:0.0813\n"
     ]
    },
    {
     "name": "stderr",
     "output_type": "stream",
     "text": [
      "  5%|███▏                                                             | 48999/1000000 [28:51<13:48:27, 19.13it/s]"
     ]
    },
    {
     "name": "stdout",
     "output_type": "stream",
     "text": [
      "---------------------------------------------------\n"
     ]
    },
    {
     "name": "stderr",
     "output_type": "stream",
     "text": [
      "  5%|███▏                                                             | 49004/1000000 [28:51<17:14:06, 15.33it/s]"
     ]
    },
    {
     "name": "stdout",
     "output_type": "stream",
     "text": [
      "Epoch:49000 Loss:0.00027308 MAE:0.0730 | RMSE:0.0811\n"
     ]
    },
    {
     "name": "stderr",
     "output_type": "stream",
     "text": [
      "  5%|███▏                                                             | 49999/1000000 [29:44<13:17:02, 19.87it/s]"
     ]
    },
    {
     "name": "stdout",
     "output_type": "stream",
     "text": [
      "---------------------------------------------------\n",
      "Epoch:50000 Loss:0.00027308 MAE:0.0728 | RMSE:0.0809\n"
     ]
    },
    {
     "name": "stderr",
     "output_type": "stream",
     "text": [
      "  5%|███▎                                                             | 51000/1000000 [30:34<20:05:50, 13.12it/s]"
     ]
    },
    {
     "name": "stdout",
     "output_type": "stream",
     "text": [
      "---------------------------------------------------\n"
     ]
    },
    {
     "name": "stderr",
     "output_type": "stream",
     "text": [
      "  5%|███▎                                                             | 51002/1000000 [30:34<34:52:57,  7.56it/s]"
     ]
    },
    {
     "name": "stdout",
     "output_type": "stream",
     "text": [
      "Epoch:51000 Loss:0.00027308 MAE:0.0726 | RMSE:0.0807\n"
     ]
    },
    {
     "name": "stderr",
     "output_type": "stream",
     "text": [
      "  5%|███▍                                                             | 51999/1000000 [31:25<14:01:10, 18.78it/s]"
     ]
    },
    {
     "name": "stdout",
     "output_type": "stream",
     "text": [
      "---------------------------------------------------\n"
     ]
    },
    {
     "name": "stderr",
     "output_type": "stream",
     "text": [
      "  5%|███▍                                                             | 52003/1000000 [31:26<20:27:57, 12.87it/s]"
     ]
    },
    {
     "name": "stdout",
     "output_type": "stream",
     "text": [
      "Epoch:52000 Loss:0.00027308 MAE:0.0725 | RMSE:0.0805\n"
     ]
    },
    {
     "name": "stderr",
     "output_type": "stream",
     "text": [
      "  5%|███▍                                                             | 52999/1000000 [32:17<14:36:21, 18.01it/s]"
     ]
    },
    {
     "name": "stdout",
     "output_type": "stream",
     "text": [
      "---------------------------------------------------\n"
     ]
    },
    {
     "name": "stderr",
     "output_type": "stream",
     "text": [
      "  5%|███▍                                                             | 53003/1000000 [32:18<20:07:45, 13.07it/s]"
     ]
    },
    {
     "name": "stdout",
     "output_type": "stream",
     "text": [
      "Epoch:53000 Loss:0.00027308 MAE:0.0723 | RMSE:0.0803\n"
     ]
    },
    {
     "name": "stderr",
     "output_type": "stream",
     "text": [
      "  5%|███▌                                                             | 53999/1000000 [33:21<15:48:23, 16.62it/s]"
     ]
    },
    {
     "name": "stdout",
     "output_type": "stream",
     "text": [
      "---------------------------------------------------\n"
     ]
    },
    {
     "name": "stderr",
     "output_type": "stream",
     "text": [
      "  5%|███▌                                                             | 54003/1000000 [33:21<21:47:48, 12.06it/s]"
     ]
    },
    {
     "name": "stdout",
     "output_type": "stream",
     "text": [
      "Epoch:54000 Loss:0.00027308 MAE:0.0721 | RMSE:0.0802\n"
     ]
    },
    {
     "name": "stderr",
     "output_type": "stream",
     "text": [
      "  5%|███▌                                                             | 54999/1000000 [34:25<17:44:53, 14.79it/s]"
     ]
    },
    {
     "name": "stdout",
     "output_type": "stream",
     "text": [
      "---------------------------------------------------\n"
     ]
    },
    {
     "name": "stderr",
     "output_type": "stream",
     "text": [
      "  6%|███▌                                                             | 55003/1000000 [34:25<25:00:48, 10.49it/s]"
     ]
    },
    {
     "name": "stdout",
     "output_type": "stream",
     "text": [
      "Epoch:55000 Loss:0.00027307 MAE:0.0720 | RMSE:0.0800\n"
     ]
    },
    {
     "name": "stderr",
     "output_type": "stream",
     "text": [
      "  6%|███▋                                                             | 55999/1000000 [35:22<12:17:51, 21.32it/s]"
     ]
    },
    {
     "name": "stdout",
     "output_type": "stream",
     "text": [
      "---------------------------------------------------\n"
     ]
    },
    {
     "name": "stderr",
     "output_type": "stream",
     "text": [
      "  6%|███▋                                                             | 56005/1000000 [35:23<14:52:23, 17.63it/s]"
     ]
    },
    {
     "name": "stdout",
     "output_type": "stream",
     "text": [
      "Epoch:56000 Loss:0.00027307 MAE:0.0718 | RMSE:0.0798\n"
     ]
    },
    {
     "name": "stderr",
     "output_type": "stream",
     "text": [
      "  6%|███▋                                                             | 56999/1000000 [36:16<13:03:00, 20.07it/s]"
     ]
    },
    {
     "name": "stdout",
     "output_type": "stream",
     "text": [
      "---------------------------------------------------\n"
     ]
    },
    {
     "name": "stderr",
     "output_type": "stream",
     "text": [
      "  6%|███▋                                                             | 57004/1000000 [36:17<16:33:55, 15.81it/s]"
     ]
    },
    {
     "name": "stdout",
     "output_type": "stream",
     "text": [
      "Epoch:57000 Loss:0.00027307 MAE:0.0717 | RMSE:0.0797\n"
     ]
    },
    {
     "name": "stderr",
     "output_type": "stream",
     "text": [
      "  6%|███▊                                                             | 57999/1000000 [37:04<13:06:31, 19.96it/s]"
     ]
    },
    {
     "name": "stdout",
     "output_type": "stream",
     "text": [
      "---------------------------------------------------\n"
     ]
    },
    {
     "name": "stderr",
     "output_type": "stream",
     "text": [
      "  6%|███▊                                                             | 58003/1000000 [37:04<18:19:41, 14.28it/s]"
     ]
    },
    {
     "name": "stdout",
     "output_type": "stream",
     "text": [
      "Epoch:58000 Loss:0.00027307 MAE:0.0715 | RMSE:0.0795\n"
     ]
    },
    {
     "name": "stderr",
     "output_type": "stream",
     "text": [
      "  6%|███▊                                                             | 58998/1000000 [37:52<12:01:58, 21.72it/s]"
     ]
    },
    {
     "name": "stdout",
     "output_type": "stream",
     "text": [
      "---------------------------------------------------\n"
     ]
    },
    {
     "name": "stderr",
     "output_type": "stream",
     "text": [
      "  6%|███▊                                                             | 59003/1000000 [37:52<15:53:56, 16.44it/s]"
     ]
    },
    {
     "name": "stdout",
     "output_type": "stream",
     "text": [
      "Epoch:59000 Loss:0.00027307 MAE:0.0714 | RMSE:0.0794\n"
     ]
    },
    {
     "name": "stderr",
     "output_type": "stream",
     "text": [
      "  6%|███▉                                                             | 59999/1000000 [38:40<12:18:20, 21.22it/s]"
     ]
    },
    {
     "name": "stdout",
     "output_type": "stream",
     "text": [
      "---------------------------------------------------\n"
     ]
    },
    {
     "name": "stderr",
     "output_type": "stream",
     "text": [
      "  6%|███▉                                                             | 60005/1000000 [38:40<16:11:38, 16.12it/s]"
     ]
    },
    {
     "name": "stdout",
     "output_type": "stream",
     "text": [
      "Epoch:60000 Loss:0.00027307 MAE:0.0713 | RMSE:0.0793\n"
     ]
    },
    {
     "name": "stderr",
     "output_type": "stream",
     "text": [
      "  6%|███▉                                                             | 60998/1000000 [39:30<14:01:00, 18.61it/s]"
     ]
    },
    {
     "name": "stdout",
     "output_type": "stream",
     "text": [
      "---------------------------------------------------\n"
     ]
    },
    {
     "name": "stderr",
     "output_type": "stream",
     "text": [
      "  6%|███▉                                                             | 61003/1000000 [39:31<18:45:19, 13.91it/s]"
     ]
    },
    {
     "name": "stdout",
     "output_type": "stream",
     "text": [
      "Epoch:61000 Loss:0.00027306 MAE:0.0711 | RMSE:0.0791\n"
     ]
    },
    {
     "name": "stderr",
     "output_type": "stream",
     "text": [
      "  6%|████                                                             | 62000/1000000 [40:19<12:21:32, 21.08it/s]"
     ]
    },
    {
     "name": "stdout",
     "output_type": "stream",
     "text": [
      "---------------------------------------------------\n"
     ]
    },
    {
     "name": "stderr",
     "output_type": "stream",
     "text": [
      "  6%|████                                                             | 62003/1000000 [40:20<18:05:04, 14.41it/s]"
     ]
    },
    {
     "name": "stdout",
     "output_type": "stream",
     "text": [
      "Epoch:62000 Loss:0.00027306 MAE:0.0710 | RMSE:0.0790\n"
     ]
    },
    {
     "name": "stderr",
     "output_type": "stream",
     "text": [
      "  6%|████                                                             | 63001/1000000 [41:08<15:12:19, 17.12it/s]"
     ]
    },
    {
     "name": "stdout",
     "output_type": "stream",
     "text": [
      "---------------------------------------------------\n",
      "Epoch:63000 Loss:0.00027306 MAE:0.0709 | RMSE:0.0789\n"
     ]
    },
    {
     "name": "stderr",
     "output_type": "stream",
     "text": [
      "  6%|████▏                                                            | 64001/1000000 [41:59<19:25:38, 13.38it/s]"
     ]
    },
    {
     "name": "stdout",
     "output_type": "stream",
     "text": [
      "---------------------------------------------------\n",
      "Epoch:64000 Loss:0.00027306 MAE:0.0708 | RMSE:0.0787\n"
     ]
    },
    {
     "name": "stderr",
     "output_type": "stream",
     "text": [
      "  6%|████▏                                                            | 64998/1000000 [42:47<10:43:43, 24.21it/s]"
     ]
    },
    {
     "name": "stdout",
     "output_type": "stream",
     "text": [
      "---------------------------------------------------\n"
     ]
    },
    {
     "name": "stderr",
     "output_type": "stream",
     "text": [
      "  7%|████▏                                                            | 65004/1000000 [42:47<14:58:47, 17.34it/s]"
     ]
    },
    {
     "name": "stdout",
     "output_type": "stream",
     "text": [
      "Epoch:65000 Loss:0.00027306 MAE:0.0707 | RMSE:0.0786\n"
     ]
    },
    {
     "name": "stderr",
     "output_type": "stream",
     "text": [
      "  7%|████▎                                                            | 65999/1000000 [43:33<10:24:24, 24.93it/s]"
     ]
    },
    {
     "name": "stdout",
     "output_type": "stream",
     "text": [
      "---------------------------------------------------\n",
      "Epoch:66000 Loss:0.00027306 MAE:0.0706 | RMSE:0.0785\n"
     ]
    },
    {
     "name": "stderr",
     "output_type": "stream",
     "text": [
      "  7%|████▎                                                            | 67000/1000000 [44:14<12:07:34, 21.37it/s]"
     ]
    },
    {
     "name": "stdout",
     "output_type": "stream",
     "text": [
      "---------------------------------------------------\n"
     ]
    },
    {
     "name": "stderr",
     "output_type": "stream",
     "text": [
      "  7%|████▎                                                            | 67003/1000000 [44:14<16:34:23, 15.64it/s]"
     ]
    },
    {
     "name": "stdout",
     "output_type": "stream",
     "text": [
      "Epoch:67000 Loss:0.00027306 MAE:0.0705 | RMSE:0.0784\n"
     ]
    },
    {
     "name": "stderr",
     "output_type": "stream",
     "text": [
      "  7%|████▍                                                            | 68000/1000000 [45:05<16:03:30, 16.12it/s]"
     ]
    },
    {
     "name": "stdout",
     "output_type": "stream",
     "text": [
      "---------------------------------------------------\n"
     ]
    },
    {
     "name": "stderr",
     "output_type": "stream",
     "text": [
      "  7%|████▍                                                            | 68004/1000000 [45:05<22:15:52, 11.63it/s]"
     ]
    },
    {
     "name": "stdout",
     "output_type": "stream",
     "text": [
      "Epoch:68000 Loss:0.00027305 MAE:0.0704 | RMSE:0.0783\n"
     ]
    },
    {
     "name": "stderr",
     "output_type": "stream",
     "text": [
      "  7%|████▍                                                            | 68999/1000000 [46:04<17:49:23, 14.51it/s]"
     ]
    },
    {
     "name": "stdout",
     "output_type": "stream",
     "text": [
      "---------------------------------------------------\n"
     ]
    },
    {
     "name": "stderr",
     "output_type": "stream",
     "text": [
      "  7%|████▍                                                            | 69003/1000000 [46:05<25:17:41, 10.22it/s]"
     ]
    },
    {
     "name": "stdout",
     "output_type": "stream",
     "text": [
      "Epoch:69000 Loss:0.00027305 MAE:0.0703 | RMSE:0.0782\n"
     ]
    },
    {
     "name": "stderr",
     "output_type": "stream",
     "text": [
      "  7%|████▌                                                            | 69999/1000000 [47:09<16:06:44, 16.03it/s]"
     ]
    },
    {
     "name": "stdout",
     "output_type": "stream",
     "text": [
      "---------------------------------------------------\n"
     ]
    },
    {
     "name": "stderr",
     "output_type": "stream",
     "text": [
      "  7%|████▌                                                            | 70003/1000000 [47:09<23:14:33, 11.11it/s]"
     ]
    },
    {
     "name": "stdout",
     "output_type": "stream",
     "text": [
      "Epoch:70000 Loss:0.00027305 MAE:0.0702 | RMSE:0.0781\n"
     ]
    },
    {
     "name": "stderr",
     "output_type": "stream",
     "text": [
      "  7%|████▌                                                            | 71000/1000000 [48:10<16:09:42, 15.97it/s]"
     ]
    },
    {
     "name": "stdout",
     "output_type": "stream",
     "text": [
      "---------------------------------------------------\n"
     ]
    },
    {
     "name": "stderr",
     "output_type": "stream",
     "text": [
      "  7%|████▌                                                            | 71004/1000000 [48:10<22:28:39, 11.48it/s]"
     ]
    },
    {
     "name": "stdout",
     "output_type": "stream",
     "text": [
      "Epoch:71000 Loss:0.00027305 MAE:0.0701 | RMSE:0.0780\n"
     ]
    },
    {
     "name": "stderr",
     "output_type": "stream",
     "text": [
      "  7%|████▋                                                            | 71998/1000000 [49:01<12:19:51, 20.91it/s]"
     ]
    },
    {
     "name": "stdout",
     "output_type": "stream",
     "text": [
      "---------------------------------------------------\n"
     ]
    },
    {
     "name": "stderr",
     "output_type": "stream",
     "text": [
      "  7%|████▋                                                            | 72003/1000000 [49:01<15:58:52, 16.13it/s]"
     ]
    },
    {
     "name": "stdout",
     "output_type": "stream",
     "text": [
      "Epoch:72000 Loss:0.00027305 MAE:0.0700 | RMSE:0.0779\n"
     ]
    },
    {
     "name": "stderr",
     "output_type": "stream",
     "text": [
      "  7%|████▋                                                            | 72999/1000000 [49:47<12:27:35, 20.67it/s]"
     ]
    },
    {
     "name": "stdout",
     "output_type": "stream",
     "text": [
      "---------------------------------------------------\n"
     ]
    },
    {
     "name": "stderr",
     "output_type": "stream",
     "text": [
      "  7%|████▋                                                            | 73004/1000000 [49:48<17:10:12, 15.00it/s]"
     ]
    },
    {
     "name": "stdout",
     "output_type": "stream",
     "text": [
      "Epoch:73000 Loss:0.00027305 MAE:0.0699 | RMSE:0.0778\n"
     ]
    },
    {
     "name": "stderr",
     "output_type": "stream",
     "text": [
      "  7%|████▊                                                            | 73998/1000000 [50:39<13:27:51, 19.10it/s]"
     ]
    },
    {
     "name": "stdout",
     "output_type": "stream",
     "text": [
      "---------------------------------------------------\n"
     ]
    },
    {
     "name": "stderr",
     "output_type": "stream",
     "text": [
      "  7%|████▊                                                            | 74003/1000000 [50:39<18:07:10, 14.20it/s]"
     ]
    },
    {
     "name": "stdout",
     "output_type": "stream",
     "text": [
      "Epoch:74000 Loss:0.00027305 MAE:0.0698 | RMSE:0.0777\n"
     ]
    },
    {
     "name": "stderr",
     "output_type": "stream",
     "text": [
      "  7%|████▊                                                            | 74999/1000000 [51:28<12:32:47, 20.48it/s]"
     ]
    },
    {
     "name": "stdout",
     "output_type": "stream",
     "text": [
      "---------------------------------------------------\n"
     ]
    },
    {
     "name": "stderr",
     "output_type": "stream",
     "text": [
      "  8%|████▉                                                            | 75004/1000000 [51:28<16:14:51, 15.81it/s]"
     ]
    },
    {
     "name": "stdout",
     "output_type": "stream",
     "text": [
      "Epoch:75000 Loss:0.00027305 MAE:0.0697 | RMSE:0.0776\n"
     ]
    },
    {
     "name": "stderr",
     "output_type": "stream",
     "text": [
      "  8%|████▉                                                            | 75999/1000000 [52:16<13:46:48, 18.63it/s]"
     ]
    },
    {
     "name": "stdout",
     "output_type": "stream",
     "text": [
      "---------------------------------------------------\n"
     ]
    },
    {
     "name": "stderr",
     "output_type": "stream",
     "text": [
      "  8%|████▉                                                            | 76004/1000000 [52:16<17:43:29, 14.48it/s]"
     ]
    },
    {
     "name": "stdout",
     "output_type": "stream",
     "text": [
      "Epoch:76000 Loss:0.00027305 MAE:0.0696 | RMSE:0.0775\n"
     ]
    },
    {
     "name": "stderr",
     "output_type": "stream",
     "text": [
      "  8%|█████                                                            | 76998/1000000 [53:04<12:02:07, 21.30it/s]"
     ]
    },
    {
     "name": "stdout",
     "output_type": "stream",
     "text": [
      "---------------------------------------------------\n"
     ]
    },
    {
     "name": "stderr",
     "output_type": "stream",
     "text": [
      "  8%|█████                                                            | 77004/1000000 [53:05<15:48:02, 16.23it/s]"
     ]
    },
    {
     "name": "stdout",
     "output_type": "stream",
     "text": [
      "Epoch:77000 Loss:0.00027304 MAE:0.0696 | RMSE:0.0774\n"
     ]
    },
    {
     "name": "stderr",
     "output_type": "stream",
     "text": [
      "  8%|█████                                                            | 77998/1000000 [53:53<12:19:33, 20.78it/s]"
     ]
    },
    {
     "name": "stdout",
     "output_type": "stream",
     "text": [
      "---------------------------------------------------\n"
     ]
    },
    {
     "name": "stderr",
     "output_type": "stream",
     "text": [
      "  8%|█████                                                            | 78004/1000000 [53:54<15:24:48, 16.62it/s]"
     ]
    },
    {
     "name": "stdout",
     "output_type": "stream",
     "text": [
      "Epoch:78000 Loss:0.00027304 MAE:0.0695 | RMSE:0.0774\n"
     ]
    },
    {
     "name": "stderr",
     "output_type": "stream",
     "text": [
      "  8%|█████▏                                                           | 79000/1000000 [54:44<11:51:59, 21.56it/s]"
     ]
    },
    {
     "name": "stdout",
     "output_type": "stream",
     "text": [
      "---------------------------------------------------\n"
     ]
    },
    {
     "name": "stderr",
     "output_type": "stream",
     "text": [
      "  8%|█████▏                                                           | 79003/1000000 [54:45<16:31:01, 15.49it/s]"
     ]
    },
    {
     "name": "stdout",
     "output_type": "stream",
     "text": [
      "Epoch:79000 Loss:0.00027304 MAE:0.0694 | RMSE:0.0773\n"
     ]
    },
    {
     "name": "stderr",
     "output_type": "stream",
     "text": [
      "  8%|█████▏                                                           | 79999/1000000 [55:33<12:00:18, 21.29it/s]"
     ]
    },
    {
     "name": "stdout",
     "output_type": "stream",
     "text": [
      "---------------------------------------------------\n"
     ]
    },
    {
     "name": "stderr",
     "output_type": "stream",
     "text": [
      "  8%|█████▏                                                           | 80005/1000000 [55:34<15:17:00, 16.72it/s]"
     ]
    },
    {
     "name": "stdout",
     "output_type": "stream",
     "text": [
      "Epoch:80000 Loss:0.00027304 MAE:0.0693 | RMSE:0.0772\n"
     ]
    },
    {
     "name": "stderr",
     "output_type": "stream",
     "text": [
      "  8%|█████▎                                                           | 80999/1000000 [56:23<14:53:59, 17.13it/s]"
     ]
    },
    {
     "name": "stdout",
     "output_type": "stream",
     "text": [
      "---------------------------------------------------\n"
     ]
    },
    {
     "name": "stderr",
     "output_type": "stream",
     "text": [
      "  8%|█████▎                                                           | 81004/1000000 [56:23<18:06:27, 14.10it/s]"
     ]
    },
    {
     "name": "stdout",
     "output_type": "stream",
     "text": [
      "Epoch:81000 Loss:0.00027304 MAE:0.0693 | RMSE:0.0771\n"
     ]
    },
    {
     "name": "stderr",
     "output_type": "stream",
     "text": [
      "  8%|█████▎                                                           | 81999/1000000 [57:13<13:11:36, 19.33it/s]"
     ]
    },
    {
     "name": "stdout",
     "output_type": "stream",
     "text": [
      "---------------------------------------------------\n"
     ]
    },
    {
     "name": "stderr",
     "output_type": "stream",
     "text": [
      "  8%|█████▎                                                           | 82003/1000000 [57:14<18:59:56, 13.42it/s]"
     ]
    },
    {
     "name": "stdout",
     "output_type": "stream",
     "text": [
      "Epoch:82000 Loss:0.00027304 MAE:0.0692 | RMSE:0.0770\n"
     ]
    },
    {
     "name": "stderr",
     "output_type": "stream",
     "text": [
      "  8%|█████▍                                                           | 83000/1000000 [58:02<13:16:55, 19.18it/s]"
     ]
    },
    {
     "name": "stdout",
     "output_type": "stream",
     "text": [
      "---------------------------------------------------\n"
     ]
    },
    {
     "name": "stderr",
     "output_type": "stream",
     "text": [
      "  8%|█████▍                                                           | 83004/1000000 [58:03<19:00:57, 13.40it/s]"
     ]
    },
    {
     "name": "stdout",
     "output_type": "stream",
     "text": [
      "Epoch:83000 Loss:0.00027304 MAE:0.0691 | RMSE:0.0770\n"
     ]
    },
    {
     "name": "stderr",
     "output_type": "stream",
     "text": [
      "  8%|█████▍                                                           | 83998/1000000 [58:52<12:24:33, 20.50it/s]"
     ]
    },
    {
     "name": "stdout",
     "output_type": "stream",
     "text": [
      "---------------------------------------------------\n"
     ]
    },
    {
     "name": "stderr",
     "output_type": "stream",
     "text": [
      "  8%|█████▍                                                           | 84004/1000000 [58:53<15:23:23, 16.53it/s]"
     ]
    },
    {
     "name": "stdout",
     "output_type": "stream",
     "text": [
      "Epoch:84000 Loss:0.00027304 MAE:0.0690 | RMSE:0.0769\n"
     ]
    },
    {
     "name": "stderr",
     "output_type": "stream",
     "text": [
      "  8%|█████▌                                                           | 85000/1000000 [59:41<13:06:58, 19.38it/s]"
     ]
    },
    {
     "name": "stdout",
     "output_type": "stream",
     "text": [
      "---------------------------------------------------\n"
     ]
    },
    {
     "name": "stderr",
     "output_type": "stream",
     "text": [
      "  9%|█████▌                                                           | 85005/1000000 [59:42<16:19:03, 15.58it/s]"
     ]
    },
    {
     "name": "stdout",
     "output_type": "stream",
     "text": [
      "Epoch:85000 Loss:0.00027304 MAE:0.0690 | RMSE:0.0768\n"
     ]
    },
    {
     "name": "stderr",
     "output_type": "stream",
     "text": [
      "  9%|█████▍                                                         | 86000/1000000 [1:00:30<12:59:56, 19.53it/s]"
     ]
    },
    {
     "name": "stdout",
     "output_type": "stream",
     "text": [
      "---------------------------------------------------\n"
     ]
    },
    {
     "name": "stderr",
     "output_type": "stream",
     "text": [
      "  9%|█████▍                                                         | 86005/1000000 [1:00:30<16:07:06, 15.75it/s]"
     ]
    },
    {
     "name": "stdout",
     "output_type": "stream",
     "text": [
      "Epoch:86000 Loss:0.00027304 MAE:0.0689 | RMSE:0.0768\n"
     ]
    },
    {
     "name": "stderr",
     "output_type": "stream",
     "text": [
      "  9%|█████▍                                                         | 86999/1000000 [1:01:19<13:09:56, 19.26it/s]"
     ]
    },
    {
     "name": "stdout",
     "output_type": "stream",
     "text": [
      "---------------------------------------------------\n"
     ]
    },
    {
     "name": "stderr",
     "output_type": "stream",
     "text": [
      "  9%|█████▍                                                         | 87003/1000000 [1:01:20<17:53:52, 14.17it/s]"
     ]
    },
    {
     "name": "stdout",
     "output_type": "stream",
     "text": [
      "Epoch:87000 Loss:0.00027303 MAE:0.0689 | RMSE:0.0767\n"
     ]
    },
    {
     "name": "stderr",
     "output_type": "stream",
     "text": [
      "  9%|█████▌                                                         | 87999/1000000 [1:02:10<12:27:37, 20.33it/s]"
     ]
    },
    {
     "name": "stdout",
     "output_type": "stream",
     "text": [
      "---------------------------------------------------\n"
     ]
    },
    {
     "name": "stderr",
     "output_type": "stream",
     "text": [
      "  9%|█████▌                                                         | 88005/1000000 [1:02:10<15:31:33, 16.32it/s]"
     ]
    },
    {
     "name": "stdout",
     "output_type": "stream",
     "text": [
      "Epoch:88000 Loss:0.00027303 MAE:0.0688 | RMSE:0.0766\n"
     ]
    },
    {
     "name": "stderr",
     "output_type": "stream",
     "text": [
      "  9%|█████▌                                                         | 89000/1000000 [1:02:58<11:23:51, 22.20it/s]"
     ]
    },
    {
     "name": "stdout",
     "output_type": "stream",
     "text": [
      "---------------------------------------------------\n"
     ]
    },
    {
     "name": "stderr",
     "output_type": "stream",
     "text": [
      "  9%|█████▌                                                         | 89003/1000000 [1:02:58<15:40:16, 16.15it/s]"
     ]
    },
    {
     "name": "stdout",
     "output_type": "stream",
     "text": [
      "Epoch:89000 Loss:0.00027303 MAE:0.0687 | RMSE:0.0766\n"
     ]
    },
    {
     "name": "stderr",
     "output_type": "stream",
     "text": [
      "  9%|█████▋                                                         | 89999/1000000 [1:03:45<11:39:11, 21.69it/s]"
     ]
    },
    {
     "name": "stdout",
     "output_type": "stream",
     "text": [
      "---------------------------------------------------\n"
     ]
    },
    {
     "name": "stderr",
     "output_type": "stream",
     "text": [
      "  9%|█████▋                                                         | 90005/1000000 [1:03:45<15:04:48, 16.76it/s]"
     ]
    },
    {
     "name": "stdout",
     "output_type": "stream",
     "text": [
      "Epoch:90000 Loss:0.00027303 MAE:0.0687 | RMSE:0.0765\n"
     ]
    },
    {
     "name": "stderr",
     "output_type": "stream",
     "text": [
      "  9%|█████▋                                                         | 91000/1000000 [1:04:35<13:47:40, 18.30it/s]"
     ]
    },
    {
     "name": "stdout",
     "output_type": "stream",
     "text": [
      "---------------------------------------------------\n"
     ]
    },
    {
     "name": "stderr",
     "output_type": "stream",
     "text": [
      "  9%|█████▋                                                         | 91004/1000000 [1:04:36<18:59:09, 13.30it/s]"
     ]
    },
    {
     "name": "stdout",
     "output_type": "stream",
     "text": [
      "Epoch:91000 Loss:0.00027303 MAE:0.0686 | RMSE:0.0764\n"
     ]
    },
    {
     "name": "stderr",
     "output_type": "stream",
     "text": [
      "  9%|█████▋                                                         | 91099/1000000 [1:04:40<10:45:12, 23.48it/s]\n"
     ]
    },
    {
     "ename": "KeyboardInterrupt",
     "evalue": "",
     "output_type": "error",
     "traceback": [
      "\u001b[1;31m---------------------------------------------------------------------------\u001b[0m",
      "\u001b[1;31mKeyboardInterrupt\u001b[0m                         Traceback (most recent call last)",
      "Cell \u001b[1;32mIn[28], line 7\u001b[0m\n\u001b[0;32m      5\u001b[0m \u001b[38;5;28;01mif\u001b[39;00m i\u001b[38;5;241m%\u001b[39meval_step\u001b[38;5;241m==\u001b[39m\u001b[38;5;241m0\u001b[39m \u001b[38;5;129;01mand\u001b[39;00m on_test_log:\n\u001b[0;32m      6\u001b[0m     \u001b[38;5;28mprint\u001b[39m(\u001b[38;5;124m'\u001b[39m\u001b[38;5;124m---------------------------------------------------\u001b[39m\u001b[38;5;124m'\u001b[39m)\n\u001b[1;32m----> 7\u001b[0m \u001b[38;5;28;01mfor\u001b[39;00m batch_x,batch_y \u001b[38;5;129;01min\u001b[39;00m train_loader:\n\u001b[0;32m      8\u001b[0m     output\u001b[38;5;241m=\u001b[39m model(batch_x)\n\u001b[0;32m      9\u001b[0m     loss \u001b[38;5;241m=\u001b[39m criterion(output, batch_y)\n",
      "File \u001b[1;32mC:\\envs\\miniconda3\\Lib\\site-packages\\torch\\utils\\data\\dataloader.py:630\u001b[0m, in \u001b[0;36m_BaseDataLoaderIter.__next__\u001b[1;34m(self)\u001b[0m\n\u001b[0;32m    627\u001b[0m \u001b[38;5;28;01mif\u001b[39;00m \u001b[38;5;28mself\u001b[39m\u001b[38;5;241m.\u001b[39m_sampler_iter \u001b[38;5;129;01mis\u001b[39;00m \u001b[38;5;28;01mNone\u001b[39;00m:\n\u001b[0;32m    628\u001b[0m     \u001b[38;5;66;03m# TODO(https://github.com/pytorch/pytorch/issues/76750)\u001b[39;00m\n\u001b[0;32m    629\u001b[0m     \u001b[38;5;28mself\u001b[39m\u001b[38;5;241m.\u001b[39m_reset()  \u001b[38;5;66;03m# type: ignore[call-arg]\u001b[39;00m\n\u001b[1;32m--> 630\u001b[0m data \u001b[38;5;241m=\u001b[39m \u001b[38;5;28mself\u001b[39m\u001b[38;5;241m.\u001b[39m_next_data()\n\u001b[0;32m    631\u001b[0m \u001b[38;5;28mself\u001b[39m\u001b[38;5;241m.\u001b[39m_num_yielded \u001b[38;5;241m+\u001b[39m\u001b[38;5;241m=\u001b[39m \u001b[38;5;241m1\u001b[39m\n\u001b[0;32m    632\u001b[0m \u001b[38;5;28;01mif\u001b[39;00m \u001b[38;5;28mself\u001b[39m\u001b[38;5;241m.\u001b[39m_dataset_kind \u001b[38;5;241m==\u001b[39m _DatasetKind\u001b[38;5;241m.\u001b[39mIterable \u001b[38;5;129;01mand\u001b[39;00m \\\n\u001b[0;32m    633\u001b[0m         \u001b[38;5;28mself\u001b[39m\u001b[38;5;241m.\u001b[39m_IterableDataset_len_called \u001b[38;5;129;01mis\u001b[39;00m \u001b[38;5;129;01mnot\u001b[39;00m \u001b[38;5;28;01mNone\u001b[39;00m \u001b[38;5;129;01mand\u001b[39;00m \\\n\u001b[0;32m    634\u001b[0m         \u001b[38;5;28mself\u001b[39m\u001b[38;5;241m.\u001b[39m_num_yielded \u001b[38;5;241m>\u001b[39m \u001b[38;5;28mself\u001b[39m\u001b[38;5;241m.\u001b[39m_IterableDataset_len_called:\n",
      "File \u001b[1;32mC:\\envs\\miniconda3\\Lib\\site-packages\\torch\\utils\\data\\dataloader.py:674\u001b[0m, in \u001b[0;36m_SingleProcessDataLoaderIter._next_data\u001b[1;34m(self)\u001b[0m\n\u001b[0;32m    672\u001b[0m \u001b[38;5;28;01mdef\u001b[39;00m \u001b[38;5;21m_next_data\u001b[39m(\u001b[38;5;28mself\u001b[39m):\n\u001b[0;32m    673\u001b[0m     index \u001b[38;5;241m=\u001b[39m \u001b[38;5;28mself\u001b[39m\u001b[38;5;241m.\u001b[39m_next_index()  \u001b[38;5;66;03m# may raise StopIteration\u001b[39;00m\n\u001b[1;32m--> 674\u001b[0m     data \u001b[38;5;241m=\u001b[39m \u001b[38;5;28mself\u001b[39m\u001b[38;5;241m.\u001b[39m_dataset_fetcher\u001b[38;5;241m.\u001b[39mfetch(index)  \u001b[38;5;66;03m# may raise StopIteration\u001b[39;00m\n\u001b[0;32m    675\u001b[0m     \u001b[38;5;28;01mif\u001b[39;00m \u001b[38;5;28mself\u001b[39m\u001b[38;5;241m.\u001b[39m_pin_memory:\n\u001b[0;32m    676\u001b[0m         data \u001b[38;5;241m=\u001b[39m _utils\u001b[38;5;241m.\u001b[39mpin_memory\u001b[38;5;241m.\u001b[39mpin_memory(data, \u001b[38;5;28mself\u001b[39m\u001b[38;5;241m.\u001b[39m_pin_memory_device)\n",
      "File \u001b[1;32mC:\\envs\\miniconda3\\Lib\\site-packages\\torch\\utils\\data\\_utils\\fetch.py:54\u001b[0m, in \u001b[0;36m_MapDatasetFetcher.fetch\u001b[1;34m(self, possibly_batched_index)\u001b[0m\n\u001b[0;32m     52\u001b[0m \u001b[38;5;28;01melse\u001b[39;00m:\n\u001b[0;32m     53\u001b[0m     data \u001b[38;5;241m=\u001b[39m \u001b[38;5;28mself\u001b[39m\u001b[38;5;241m.\u001b[39mdataset[possibly_batched_index]\n\u001b[1;32m---> 54\u001b[0m \u001b[38;5;28;01mreturn\u001b[39;00m \u001b[38;5;28mself\u001b[39m\u001b[38;5;241m.\u001b[39mcollate_fn(data)\n",
      "File \u001b[1;32mC:\\envs\\miniconda3\\Lib\\site-packages\\torch\\utils\\data\\_utils\\collate.py:265\u001b[0m, in \u001b[0;36mdefault_collate\u001b[1;34m(batch)\u001b[0m\n\u001b[0;32m    204\u001b[0m \u001b[38;5;28;01mdef\u001b[39;00m \u001b[38;5;21mdefault_collate\u001b[39m(batch):\n\u001b[0;32m    205\u001b[0m \u001b[38;5;250m    \u001b[39m\u001b[38;5;124mr\u001b[39m\u001b[38;5;124;03m\"\"\"\u001b[39;00m\n\u001b[0;32m    206\u001b[0m \u001b[38;5;124;03m        Function that takes in a batch of data and puts the elements within the batch\u001b[39;00m\n\u001b[0;32m    207\u001b[0m \u001b[38;5;124;03m        into a tensor with an additional outer dimension - batch size. The exact output type can be\u001b[39;00m\n\u001b[1;32m   (...)\u001b[0m\n\u001b[0;32m    263\u001b[0m \u001b[38;5;124;03m            >>> default_collate(batch)  # Handle `CustomType` automatically\u001b[39;00m\n\u001b[0;32m    264\u001b[0m \u001b[38;5;124;03m    \"\"\"\u001b[39;00m\n\u001b[1;32m--> 265\u001b[0m     \u001b[38;5;28;01mreturn\u001b[39;00m collate(batch, collate_fn_map\u001b[38;5;241m=\u001b[39mdefault_collate_fn_map)\n",
      "File \u001b[1;32mC:\\envs\\miniconda3\\Lib\\site-packages\\torch\\utils\\data\\_utils\\collate.py:142\u001b[0m, in \u001b[0;36mcollate\u001b[1;34m(batch, collate_fn_map)\u001b[0m\n\u001b[0;32m    139\u001b[0m transposed \u001b[38;5;241m=\u001b[39m \u001b[38;5;28mlist\u001b[39m(\u001b[38;5;28mzip\u001b[39m(\u001b[38;5;241m*\u001b[39mbatch))  \u001b[38;5;66;03m# It may be accessed twice, so we use a list.\u001b[39;00m\n\u001b[0;32m    141\u001b[0m \u001b[38;5;28;01mif\u001b[39;00m \u001b[38;5;28misinstance\u001b[39m(elem, \u001b[38;5;28mtuple\u001b[39m):\n\u001b[1;32m--> 142\u001b[0m     \u001b[38;5;28;01mreturn\u001b[39;00m [collate(samples, collate_fn_map\u001b[38;5;241m=\u001b[39mcollate_fn_map) \u001b[38;5;28;01mfor\u001b[39;00m samples \u001b[38;5;129;01min\u001b[39;00m transposed]  \u001b[38;5;66;03m# Backwards compatibility.\u001b[39;00m\n\u001b[0;32m    143\u001b[0m \u001b[38;5;28;01melse\u001b[39;00m:\n\u001b[0;32m    144\u001b[0m     \u001b[38;5;28;01mtry\u001b[39;00m:\n",
      "File \u001b[1;32mC:\\envs\\miniconda3\\Lib\\site-packages\\torch\\utils\\data\\_utils\\collate.py:142\u001b[0m, in \u001b[0;36m<listcomp>\u001b[1;34m(.0)\u001b[0m\n\u001b[0;32m    139\u001b[0m transposed \u001b[38;5;241m=\u001b[39m \u001b[38;5;28mlist\u001b[39m(\u001b[38;5;28mzip\u001b[39m(\u001b[38;5;241m*\u001b[39mbatch))  \u001b[38;5;66;03m# It may be accessed twice, so we use a list.\u001b[39;00m\n\u001b[0;32m    141\u001b[0m \u001b[38;5;28;01mif\u001b[39;00m \u001b[38;5;28misinstance\u001b[39m(elem, \u001b[38;5;28mtuple\u001b[39m):\n\u001b[1;32m--> 142\u001b[0m     \u001b[38;5;28;01mreturn\u001b[39;00m [collate(samples, collate_fn_map\u001b[38;5;241m=\u001b[39mcollate_fn_map) \u001b[38;5;28;01mfor\u001b[39;00m samples \u001b[38;5;129;01min\u001b[39;00m transposed]  \u001b[38;5;66;03m# Backwards compatibility.\u001b[39;00m\n\u001b[0;32m    143\u001b[0m \u001b[38;5;28;01melse\u001b[39;00m:\n\u001b[0;32m    144\u001b[0m     \u001b[38;5;28;01mtry\u001b[39;00m:\n",
      "File \u001b[1;32mC:\\envs\\miniconda3\\Lib\\site-packages\\torch\\utils\\data\\_utils\\collate.py:119\u001b[0m, in \u001b[0;36mcollate\u001b[1;34m(batch, collate_fn_map)\u001b[0m\n\u001b[0;32m    117\u001b[0m \u001b[38;5;28;01mif\u001b[39;00m collate_fn_map \u001b[38;5;129;01mis\u001b[39;00m \u001b[38;5;129;01mnot\u001b[39;00m \u001b[38;5;28;01mNone\u001b[39;00m:\n\u001b[0;32m    118\u001b[0m     \u001b[38;5;28;01mif\u001b[39;00m elem_type \u001b[38;5;129;01min\u001b[39;00m collate_fn_map:\n\u001b[1;32m--> 119\u001b[0m         \u001b[38;5;28;01mreturn\u001b[39;00m collate_fn_map[elem_type](batch, collate_fn_map\u001b[38;5;241m=\u001b[39mcollate_fn_map)\n\u001b[0;32m    121\u001b[0m     \u001b[38;5;28;01mfor\u001b[39;00m collate_type \u001b[38;5;129;01min\u001b[39;00m collate_fn_map:\n\u001b[0;32m    122\u001b[0m         \u001b[38;5;28;01mif\u001b[39;00m \u001b[38;5;28misinstance\u001b[39m(elem, collate_type):\n",
      "File \u001b[1;32mC:\\envs\\miniconda3\\Lib\\site-packages\\torch\\utils\\data\\_utils\\collate.py:171\u001b[0m, in \u001b[0;36mcollate_numpy_array_fn\u001b[1;34m(batch, collate_fn_map)\u001b[0m\n\u001b[0;32m    168\u001b[0m \u001b[38;5;28;01mif\u001b[39;00m np_str_obj_array_pattern\u001b[38;5;241m.\u001b[39msearch(elem\u001b[38;5;241m.\u001b[39mdtype\u001b[38;5;241m.\u001b[39mstr) \u001b[38;5;129;01mis\u001b[39;00m \u001b[38;5;129;01mnot\u001b[39;00m \u001b[38;5;28;01mNone\u001b[39;00m:\n\u001b[0;32m    169\u001b[0m     \u001b[38;5;28;01mraise\u001b[39;00m \u001b[38;5;167;01mTypeError\u001b[39;00m(default_collate_err_msg_format\u001b[38;5;241m.\u001b[39mformat(elem\u001b[38;5;241m.\u001b[39mdtype))\n\u001b[1;32m--> 171\u001b[0m \u001b[38;5;28;01mreturn\u001b[39;00m collate([torch\u001b[38;5;241m.\u001b[39mas_tensor(b) \u001b[38;5;28;01mfor\u001b[39;00m b \u001b[38;5;129;01min\u001b[39;00m batch], collate_fn_map\u001b[38;5;241m=\u001b[39mcollate_fn_map)\n",
      "File \u001b[1;32mC:\\envs\\miniconda3\\Lib\\site-packages\\torch\\utils\\data\\_utils\\collate.py:119\u001b[0m, in \u001b[0;36mcollate\u001b[1;34m(batch, collate_fn_map)\u001b[0m\n\u001b[0;32m    117\u001b[0m \u001b[38;5;28;01mif\u001b[39;00m collate_fn_map \u001b[38;5;129;01mis\u001b[39;00m \u001b[38;5;129;01mnot\u001b[39;00m \u001b[38;5;28;01mNone\u001b[39;00m:\n\u001b[0;32m    118\u001b[0m     \u001b[38;5;28;01mif\u001b[39;00m elem_type \u001b[38;5;129;01min\u001b[39;00m collate_fn_map:\n\u001b[1;32m--> 119\u001b[0m         \u001b[38;5;28;01mreturn\u001b[39;00m collate_fn_map[elem_type](batch, collate_fn_map\u001b[38;5;241m=\u001b[39mcollate_fn_map)\n\u001b[0;32m    121\u001b[0m     \u001b[38;5;28;01mfor\u001b[39;00m collate_type \u001b[38;5;129;01min\u001b[39;00m collate_fn_map:\n\u001b[0;32m    122\u001b[0m         \u001b[38;5;28;01mif\u001b[39;00m \u001b[38;5;28misinstance\u001b[39m(elem, collate_type):\n",
      "File \u001b[1;32mC:\\envs\\miniconda3\\Lib\\site-packages\\torch\\utils\\data\\_utils\\collate.py:162\u001b[0m, in \u001b[0;36mcollate_tensor_fn\u001b[1;34m(batch, collate_fn_map)\u001b[0m\n\u001b[0;32m    160\u001b[0m     storage \u001b[38;5;241m=\u001b[39m elem\u001b[38;5;241m.\u001b[39m_typed_storage()\u001b[38;5;241m.\u001b[39m_new_shared(numel, device\u001b[38;5;241m=\u001b[39melem\u001b[38;5;241m.\u001b[39mdevice)\n\u001b[0;32m    161\u001b[0m     out \u001b[38;5;241m=\u001b[39m elem\u001b[38;5;241m.\u001b[39mnew(storage)\u001b[38;5;241m.\u001b[39mresize_(\u001b[38;5;28mlen\u001b[39m(batch), \u001b[38;5;241m*\u001b[39m\u001b[38;5;28mlist\u001b[39m(elem\u001b[38;5;241m.\u001b[39msize()))\n\u001b[1;32m--> 162\u001b[0m \u001b[38;5;28;01mreturn\u001b[39;00m torch\u001b[38;5;241m.\u001b[39mstack(batch, \u001b[38;5;241m0\u001b[39m, out\u001b[38;5;241m=\u001b[39mout)\n",
      "\u001b[1;31mKeyboardInterrupt\u001b[0m: "
     ]
    }
   ],
   "source": [
    "loss_list = [0]\n",
    "mae_lst,rmse_lst = [], []\n",
    "\n",
    "for i in tqdm(range(epoch)):\n",
    "    if i%eval_step==0 and on_test_log:\n",
    "        print('---------------------------------------------------')\n",
    "    for batch_x,batch_y in train_loader:\n",
    "        output= model(batch_x)\n",
    "        loss = criterion(output, batch_y)\n",
    "        optimizer.zero_grad()              # clear gradients for this training step\n",
    "        loss.backward()                    # backpropagation, compute gradients\n",
    "        optimizer.step()                   # apply gradients\n",
    "\n",
    "        loss_list.append(loss.detach().numpy().tolist())\n",
    "\n",
    "    if i%eval_step==0:\n",
    "        for name in data_dict.keys():\n",
    "            train_x, train_y, train_data, test_data = get_train_test(data_dict, name, window_size)\n",
    "            \n",
    "            prefix_x = data_dict[name][1][:window_size]\n",
    "            decode_seq = model.decode(prefix_x,max_length=len(test_data))[window_size+1:]\n",
    "            mae, rmse = evaluation(y_test=test_data, y_predict=decode_seq)\n",
    "            \n",
    "            mae_lst.append(mae)\n",
    "            rmse_lst.append(rmse)\n",
    "        \n",
    "        if on_test_log:\n",
    "            print(f'Epoch:{i} Loss:{np.average(loss_list):.8f} MAE:{np.average(mae_lst):.4f} | RMSE:{np.average(rmse_lst):.4f}')"
   ]
  },
  {
   "cell_type": "code",
   "execution_count": 29,
   "id": "b0f7f95f-35a4-4e1f-b566-ee27262eff9a",
   "metadata": {},
   "outputs": [
    {
     "data": {
      "image/png": "[encoded data removed]",
      "text/plain": [
       "<Figure size 1200x800 with 1 Axes>"
      ]
     },
     "metadata": {},
     "output_type": "display_data"
    },
    {
     "data": {
      "image/png": "[encoded data removed]",
      "text/plain": [
       "<Figure size 1200x800 with 1 Axes>"
      ]
     },
     "metadata": {},
     "output_type": "display_data"
    },
    {
     "data": {
      "image/png": "[encoded data removed]",
      "text/plain": [
       "<Figure size 1200x800 with 1 Axes>"
      ]
     },
     "metadata": {},
     "output_type": "display_data"
    },
    {
     "data": {
      "image/png": "[encoded data removed]",
      "text/plain": [
       "<Figure size 1200x800 with 1 Axes>"
      ]
     },
     "metadata": {},
     "output_type": "display_data"
    }
   ],
   "source": [
    "for name in data_dict.keys():\n",
    "    train_x, train_y, train_data, test_data = get_train_test(data_dict, name, window_size)\n",
    "\n",
    "    real = data_dict[name][1]\n",
    "    prefix_x = data_dict[name][1][:window_size]\n",
    "    decode_seq = model.decode(prefix_x,max_length=len(test_data))\n",
    "    \n",
    "    plot(name=name,\n",
    "         real_data=real,\n",
    "        pred_data=decode_seq)"
   ]
  },
  {
   "cell_type": "code",
   "execution_count": null,
   "id": "11b52eae-dc65-4aa8-a5fb-91b14bcc76dd",
   "metadata": {},
   "outputs": [],
   "source": []
  },
  {
   "cell_type": "code",
   "execution_count": null,
   "id": "aa7d0ac3-3521-4c61-9a5d-b7a26be4c4bf",
   "metadata": {},
   "outputs": [],
   "source": []
  },
  {
   "cell_type": "code",
   "execution_count": null,
   "id": "1c8df475-cd26-430b-a38e-a9267de4daac",
   "metadata": {},
   "outputs": [],
   "source": []
  },
  {
   "cell_type": "code",
   "execution_count": null,
   "id": "b3108539-e1a0-4264-82c2-06fa01cf0d7a",
   "metadata": {},
   "outputs": [],
   "source": []
  },
  {
   "cell_type": "code",
   "execution_count": null,
   "id": "f483b2ee-140d-44c2-bc33-51d48410ceff",
   "metadata": {},
   "outputs": [],
   "source": []
  }
 ],
 "metadata": {
  "@deathbeds/jupyterlab-fonts": {
   "fontLicenses": {},
   "fonts": {},
   "styles": {
    ":root": {}
   }
  },
  "kernelspec": {
   "display_name": "Python 3 (ipykernel)",
   "language": "python",
   "name": "python3"
  },
  "language_info": {
   "codemirror_mode": {
    "name": "ipython",
    "version": 3
   },
   "file_extension": ".py",
   "mimetype": "text/x-python",
   "name": "python",
   "nbconvert_exporter": "python",
   "pygments_lexer": "ipython3",
   "version": "3.11.5"
  }
 },
 "nbformat": 4,
 "nbformat_minor": 5
}
